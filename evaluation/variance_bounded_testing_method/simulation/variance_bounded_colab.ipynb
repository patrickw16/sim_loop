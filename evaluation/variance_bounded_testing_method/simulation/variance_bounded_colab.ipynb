{
  "cells": [
    {
      "cell_type": "code",
      "execution_count": 2,
      "metadata": {
        "colab": {
          "base_uri": "https://localhost:8080/"
        },
        "id": "vjldM5bAXmgN",
        "outputId": "cbfd76d3-7fff-4856-8b8f-c05cfef5e155"
      },
      "outputs": [
        {
          "output_type": "stream",
          "name": "stdout",
          "text": [
            "Drive already mounted at /content/drive; to attempt to forcibly remount, call drive.mount(\"/content/drive\", force_remount=True).\n"
          ]
        }
      ],
      "source": [
        "from google.colab import drive\n",
        "drive.mount('/content/drive')"
      ]
    },
    {
      "cell_type": "code",
      "execution_count": 3,
      "metadata": {
        "id": "5ccNKFkEXnMw"
      },
      "outputs": [],
      "source": [
        "%%capture\n",
        "!cp -r /content/drive/MyDrive/esmini.zip /content/esmini.zip\n",
        "!unzip /content/esmini.zip"
      ]
    },
    {
      "cell_type": "code",
      "execution_count": 4,
      "metadata": {
        "collapsed": true,
        "id": "bSykfRrWZtJc"
      },
      "outputs": [],
      "source": [
        "%%capture\n",
        "!apt-get install -y xvfb x11-utils\n",
        "!pip install ultralytics"
      ]
    },
    {
      "cell_type": "code",
      "execution_count": 5,
      "metadata": {
        "colab": {
          "base_uri": "https://localhost:8080/"
        },
        "id": "yeFE0bhYcP6O",
        "outputId": "26d20a9b-b160-468c-ab21-5d92b15c1e2e"
      },
      "outputs": [
        {
          "output_type": "stream",
          "name": "stdout",
          "text": [
            "Starting virtual X frame buffer: Xvfb.\n"
          ]
        }
      ],
      "source": [
        "import sys, os\n",
        "!wget -q https://raw.githubusercontent.com/yandexdataschool/Practical_RL/master/xvfb -O ../xvfb\n",
        "if type(os.environ.get(\"DISPLAY\")) is not str or len(os.environ.get(\"DISPLAY\")) == 0:\n",
        "    !bash ../xvfb start\n",
        "    os.environ['DISPLAY'] = ':1'\n",
        "!cp -r /content/drive/MyDrive/xvfb /content/xvfb\n",
        "!chmod 755 /content/xvfb"
      ]
    },
    {
      "cell_type": "code",
      "execution_count": 6,
      "metadata": {
        "colab": {
          "base_uri": "https://localhost:8080/"
        },
        "id": "wPA0z77VL8Oj",
        "outputId": "a39dee38-a21c-4ab7-a18b-46799ea2fbe5"
      },
      "outputs": [
        {
          "output_type": "stream",
          "name": "stdout",
          "text": [
            "rm: cannot remove 'sim_loop': No such file or directory\n"
          ]
        }
      ],
      "source": [
        "%rm -r sim_loop"
      ]
    },
    {
      "cell_type": "code",
      "execution_count": 7,
      "metadata": {
        "colab": {
          "base_uri": "https://localhost:8080/"
        },
        "collapsed": true,
        "id": "w61l2pIgcESX",
        "outputId": "124ab812-7972-4b2c-b7c7-1daf3f037825"
      },
      "outputs": [
        {
          "output_type": "stream",
          "name": "stdout",
          "text": [
            "Starting virtual X frame buffer: Xvfb.\n",
            "/content/esmini\n",
            "/content\n",
            "Cloning into 'sim_loop'...\n",
            "remote: Enumerating objects: 3811, done.\u001b[K\n",
            "remote: Counting objects: 100% (763/763), done.\u001b[K\n",
            "remote: Compressing objects: 100% (247/247), done.\u001b[K\n",
            "remote: Total 3811 (delta 605), reused 640 (delta 515), pack-reused 3048 (from 1)\u001b[K\n",
            "Receiving objects: 100% (3811/3811), 90.91 MiB | 17.24 MiB/s, done.\n",
            "Resolving deltas: 100% (3254/3254), done.\n",
            "Updating files: 100% (3408/3408), done.\n"
          ]
        }
      ],
      "source": [
        "!/content/xvfb start\n",
        "%cd /content/esmini\n",
        "!chmod 755 bin/esmini\n",
        "%cd /content\n",
        "!git clone https://github.com/patrickw16/sim_loop.git"
      ]
    },
    {
      "cell_type": "code",
      "execution_count": 26,
      "metadata": {
        "colab": {
          "base_uri": "https://localhost:8080/"
        },
        "id": "fUGGwFUSYLXh",
        "outputId": "bce61251-3325-4dd6-d632-16f5b6be37c8"
      },
      "outputs": [
        {
          "output_type": "stream",
          "name": "stdout",
          "text": [
            "Cloning into 'odd_coverage'...\n",
            "fatal: could not read Password for 'https://...@github.com': No such device or address\n",
            "[Errno 2] No such file or directory: 'odd_coverage'\n",
            "/content\n",
            "fatal: not a git repository (or any of the parent directories): .git\n",
            "/content\n"
          ]
        }
      ],
      "source": [
        "!git clone https://...@github.com/patrickw16/odd_coverage.git\n",
        "%cd odd_coverage\n",
        "!git checkout ThreeDimensional\n",
        "%cd /content"
      ]
    },
    {
      "cell_type": "code",
      "execution_count": 9,
      "metadata": {
        "id": "eIWXbXVjYLXi"
      },
      "outputs": [],
      "source": [
        "%%capture\n",
        "!sudo apt install texlive texlive-latex-extra texlive-fonts-recommended dvipng\n",
        "!pip install latex\n",
        "!sudo apt install cm-super"
      ]
    },
    {
      "cell_type": "code",
      "source": [
        "import numpy as np\n",
        "import subprocess\n",
        "import sys\n",
        "import os.path\n",
        "import shutil\n",
        "import glob\n",
        "import os\n",
        "import pandas as pd\n",
        "import matplotlib.pyplot as plt\n",
        "\n",
        "from PIL import Image\n",
        "from IPython.core.display import SVG\n",
        "from pathlib import Path\n",
        "from multiprocessing.pool import ThreadPool\n",
        "\n",
        "from sim_loop.evaluation.cube_based_evaluation import CubeBasedEvaluation, fail_ratio\n",
        "from sim_loop.evaluation.variance_bounded_testing_method.simulation.parameter_set_generation import modify_xml\n",
        "from odd_coverage.odd_coverage.coverage_param_lvl.coverage_param_lvl import CoverageParamLvl\n",
        "\n",
        "# Generate variance bounded test cases\n",
        "def generate_variance_bounded_test_cases(prior_path, number_of_test_values):\n",
        "  my_coverage_param = CoverageParamLvl(\n",
        "                      number_of_test_values=number_of_test_values,\n",
        "                      trace_epsilon=0.0075,\n",
        "                      epsilon_buffer=0.005,\n",
        "                      number_of_attempts=1,\n",
        "                      combined_points_data_path=prior_path)\n",
        "\n",
        "  param_values, cov_contribution, updated_cluster_traces, adapted_kmeans_labels, re_sampled_scaled, scaler, weighted_within_variance = my_coverage_param.get_optimised_values()\n",
        "  points = scaler.inverse_transform(re_sampled_scaled)\n",
        "\n",
        "  #SVG(filename='/content/var_poc_3d_example.svg')\n",
        "  return points, adapted_kmeans_labels, param_values\n",
        "\n",
        "\n",
        "# Generate scenarios\n",
        "def generate_scenarios(param_values):\n",
        "  for idx, parameter in enumerate(param_values):\n",
        "\n",
        "      new_s_delta = param_values[idx, 0]  # New value for s_delta\n",
        "      new_v_delta = param_values[idx, 1]  # New value for v_delta\n",
        "      new_a_dec = param_values[idx, 2]  # New value for a_dec\n",
        "\n",
        "      input_file = '/content/sim_loop/scenarios/cut-in.xosc'  # Replace with your input file path\n",
        "      output_file = f'/content/sim_loop/scenarios/variance_bounded/{idx}_{new_a_dec}_cut-in.xosc'  # Replace with your desired output file path\n",
        "\n",
        "      modify_xml(input_file, output_file, new_s_delta, new_v_delta)\n",
        "  return None\n",
        "\n",
        "\n",
        "def create_folder(path):\n",
        "  # Specify the name of the new folder\n",
        "  folder_name = Path(path)\n",
        "  # Create the new folder\n",
        "  try:\n",
        "      folder_name.mkdir(parents=True, exist_ok=True)\n",
        "      print(f\"Folder '{folder_name}' created successfully.\")\n",
        "  except Exception as e:\n",
        "      print(f\"An error occurred: {e}\")\n",
        "\n",
        "\n",
        "def launch_scenario(index):\n",
        "    p = subprocess.run(\n",
        "        ['python'] + ['/content/sim_loop/evaluation/variance_bounded_testing_method/simulation/variance_bounded_colab_execution.py'] + ['--window'] + [str(60)] + [str(60)] + [str(800)] + [str(400)] + ['--headless'] + ['--osc'] + [f'/content/sim_loop/scenarios/variance_bounded/{str(index)}_{str(param_values[index, 2])}_cut-in.xosc'] + ['--logfile_path'] + [f'/content/{str(index)}_log.txt'],\n",
        "    )\n",
        "\n",
        "def simulation_run(param_values):\n",
        "    n_runs = len(param_values)\n",
        "    print('Launching {} scenarios'.format(n_runs))\n",
        "\n",
        "    with ThreadPool() as p:\n",
        "        p. map(launch_scenario, range(n_runs))\n",
        "\n",
        "    print()\n",
        "\n",
        "def delete_log_txt(path):\n",
        "  # Specify the folder to search in\n",
        "  folder_path = Path(path)\n",
        "  file_name = \"log.txt\"\n",
        "  file_path = folder_path / file_name\n",
        "\n",
        "  # Check if the file exists and delete it\n",
        "  if file_path.is_file():\n",
        "      try:\n",
        "          file_path.unlink()\n",
        "          print(f\"File '{file_name}' deleted successfully.\")\n",
        "      except Exception as e:\n",
        "          print(f\"An error occurred while deleting the file: {e}\")\n",
        "  else:\n",
        "      print(f\"File '{file_name}' not found in '{folder_path}'.\")\n",
        "\n",
        "\n",
        "#move all log files to logs folder\n",
        "def move_log_files():\n",
        "  # Move all log files to the logs folder\n",
        "  log_files = glob.glob(\"*.txt\")  # Find all files ending with .log in the current directory\n",
        "  for log_file in log_files:\n",
        "    try:\n",
        "      shutil.move(log_file, \"logs/\")  # Move the file to the logs/ directory\n",
        "    except FileNotFoundError:\n",
        "      print(f\"Error: The 'logs' directory does not exist.\")\n",
        "    except shutil.Error as e:\n",
        "      print(f\"Error moving file {log_file}: {e}\")\n",
        "\n",
        "\n",
        "#zip the logs folder\n",
        "def zip_logs():\n",
        "  # Check if the logs directory exists\n",
        "  if os.path.exists(\"logs\"):\n",
        "    try:\n",
        "      shutil.make_archive(\"logs\", \"zip\", \"logs\")\n",
        "      print(\"Logs folder zipped successfully to logs.zip\")\n",
        "    except Exception as e:\n",
        "      print(f\"Error zipping logs folder: {e}\")\n",
        "  else:\n",
        "    print(\"Error: logs folder not found.\")\n",
        "\n",
        "\n",
        "def remove_tree(path):\n",
        "    for root, dirs, files in os.walk(path, topdown=False):\n",
        "        for name in files:\n",
        "            os.remove(os.path.join(root, name))\n",
        "        for name in dirs:\n",
        "            os.rmdir(os.path.join(root, name))\n",
        "    os.rmdir(path)\n",
        "\n",
        "\n",
        "def compile_log_data():\n",
        "  log_file = \"logs\"\n",
        "  log_directory = os.path.join(os.path.expanduser('~'), f\"/content/{log_file}\")\n",
        "\n",
        "  # Get a sorted list of all .txt files in the directory\n",
        "  log_files = sorted([f for f in os.listdir(log_directory) if f.endswith('.txt')])\n",
        "\n",
        "  # Initialize a list to hold all parameter dictionaries\n",
        "  all_parameters = []\n",
        "\n",
        "  # Loop through each log file and read its contents\n",
        "  for filename in log_files:\n",
        "      log_file_path = os.path.join(log_directory, filename)\n",
        "\n",
        "      # Open the log file and read its contents\n",
        "      with open(log_file_path, 'r') as file:\n",
        "          log_contents = file.readlines()  # Read lines into a list\n",
        "\n",
        "      # Initialize a dictionary to hold parameters\n",
        "      parameters = {}\n",
        "      parameters_started = False\n",
        "      collision_detected = False  # Flag to check for collision line\n",
        "\n",
        "      # Loop through the lines to find \"6 parameters:\" and extract parameters\n",
        "      for line in log_contents:\n",
        "          if \"6 parameters:\" in line:\n",
        "              parameters_started = True  # Start reading parameters\n",
        "              continue  # Skip the line with \"6 parameters:\"\n",
        "\n",
        "          # Check for the collision line\n",
        "          if \"Collision\" in line:\n",
        "              collision_detected = True\n",
        "\n",
        "          if parameters_started:\n",
        "              # Split the line into key and value\n",
        "              if '=' in line:\n",
        "                  key, value = line.split('=')\n",
        "                  key = key.replace(' ', '')\n",
        "                  value = value.replace(' ', '')\n",
        "                  value = value.replace(\"\\n\", \"\")\n",
        "                  parameters[key.strip()] = float(value.strip())  # Store as float\n",
        "                  if key == \"EgoStartS\":\n",
        "                      parameters_started = False\n",
        "\n",
        "      # Add collision information to the parameters dictionary\n",
        "      parameters['CollisionDetected'] = collision_detected\n",
        "      parameters['Filename'] = filename  # Optionally include the filename\n",
        "\n",
        "      # Append the parameters dictionary to the list\n",
        "      all_parameters.append(parameters)\n",
        "\n",
        "  # Create a DataFrame from the list of dictionaries\n",
        "  df = pd.DataFrame(all_parameters)\n",
        "\n",
        "  # Save the DataFrame to a CSV file\n",
        "  output_file = f'{log_directory}/compiled_log_data.csv'\n",
        "  df.to_csv(output_file, index=False)\n",
        "\n",
        "  print(f\"Data saved to {output_file}\")\n",
        "\n",
        "\n",
        "def evaluate_metric(using_kmeans_labels=False, points=None, param_values=None, adapted_kmeans_labels=None, a=None, scale=None, loc=None):\n",
        "  # Order the sim log to align the order of the simulation runs with the param values (test case values)\n",
        "  df_sim = pd.read_csv('/content/logs/compiled_log_data.csv')\n",
        "  df_sim['FileNumber'] = df_sim['Filename'].str.extract(r'(\\d+)').astype(int) # Extract the first value from the Filename\n",
        "  result = df_sim[['FileNumber', 'CollisionDetected']]\n",
        "  ordered_sim_logs = result.sort_values(by='FileNumber')\n",
        "  ordered_sim_logs.reset_index(drop=True, inplace=True)\n",
        "  pass_fail_logs = ordered_sim_logs['CollisionDetected'].to_numpy()\n",
        "\n",
        "  if using_kmeans_labels:\n",
        "    points = points\n",
        "    groups = adapted_kmeans_labels.astype(int)\n",
        "    param_values = param_values\n",
        "\n",
        "    pass_fail_points = np.zeros(len(groups))\n",
        "    for i in range(len(groups)):\n",
        "        group = groups[i]\n",
        "        pass_fail_points[i] = pass_fail_logs[group]\n",
        "\n",
        "    pass_fail = pass_fail_points.astype(bool)\n",
        "  else:\n",
        "    #simple alternative\n",
        "    points = param_values\n",
        "    pass_fail = pass_fail_logs\n",
        "    groups = np.arange(len(param_values))\n",
        "\n",
        "  #Compare\n",
        "  comparison_gt_evaluation = CubeBasedEvaluation(gt_cube_sizes=gt_cubes_sizes,\n",
        "                                              gt_sub_cube_centers=gt_sub_cube_centers,\n",
        "                                              gt_pass_fail=gt_pass_fail)\n",
        "  sub_cubes_with_points = comparison_gt_evaluation.evaluate_gt_cubes_based_on_eval_points(points=points,\n",
        "                                                                                          groups=groups,\n",
        "                                                                                          pass_fail=pass_fail)\n",
        "\n",
        "  sub_cubes_with_points = comparison_gt_evaluation.assign_all_sub_cubes(sub_cubes_with_points=sub_cubes_with_points,\n",
        "                                                                      points=points,\n",
        "                                                                      groups=groups,\n",
        "                                                                      pass_fail=pass_fail)\n",
        "\n",
        "  #comparison_gt_evaluation.plot_cubes(sub_cubes_with_points=sub_cubes_with_points,\n",
        "  #                                  points=points)\n",
        "\n",
        "  metric = comparison_gt_evaluation.calculate_comparison_metric(sub_cubes_with_points=sub_cubes_with_points)\n",
        "  gt_fail_ratio = fail_ratio(gt_pass_fail)\n",
        "  eval_fail_ratio = fail_ratio(np.array(pass_fail))\n",
        "  fail_ratio_difference = (fail_ratio(gt_pass_fail)-fail_ratio(np.array(pass_fail)))*100\n",
        "  abs_fail_ratio_difference = np.abs(fail_ratio_difference)\n",
        "  number_of_test_cases = len(param_values[:,0])\n",
        "\n",
        "  eval_dict = {\n",
        "      'metric': metric,\n",
        "      'fail_ratio_difference': fail_ratio_difference,\n",
        "      'absolute_fail_ratio_difference': abs_fail_ratio_difference,\n",
        "      'number_of_test_cases': number_of_test_cases,\n",
        "      'gt_fail_ratio': gt_fail_ratio,\n",
        "      'eval_fail_ratio': eval_fail_ratio,\n",
        "      'points': points,\n",
        "      'pass_fail': pass_fail,\n",
        "      'a': a,\n",
        "      'scale': scale,\n",
        "      'loc': loc,\n",
        "  }\n",
        "  return eval_dict\n",
        "\n",
        "\n",
        "#Load GT data:\n",
        "gt_cubes_sizes = np.load('/content/sim_loop/evaluation/gt_analysis/data/gt_cube_sizes.npy')\n",
        "gt_pass_fail = np.load('/content/sim_loop/evaluation/gt_analysis/data/gt_pass_fail.npy')\n",
        "gt_sub_cube_centers = np.load('/content/sim_loop/evaluation/gt_analysis/data/gt_sub_cube_centers.npy')"
      ],
      "metadata": {
        "id": "1VP2ycyGyXM1",
        "outputId": "dcc81559-8820-47a5-9001-8ab0ae04ee59",
        "colab": {
          "base_uri": "https://localhost:8080/",
          "height": 401
        }
      },
      "execution_count": 10,
      "outputs": [
        {
          "output_type": "error",
          "ename": "ModuleNotFoundError",
          "evalue": "No module named 'odd_coverage'",
          "traceback": [
            "\u001b[0;31m---------------------------------------------------------------------------\u001b[0m",
            "\u001b[0;31mModuleNotFoundError\u001b[0m                       Traceback (most recent call last)",
            "\u001b[0;32m<ipython-input-10-ea3bf1780dff>\u001b[0m in \u001b[0;36m<cell line: 0>\u001b[0;34m()\u001b[0m\n\u001b[1;32m     16\u001b[0m \u001b[0;32mfrom\u001b[0m \u001b[0msim_loop\u001b[0m\u001b[0;34m.\u001b[0m\u001b[0mevaluation\u001b[0m\u001b[0;34m.\u001b[0m\u001b[0mcube_based_evaluation\u001b[0m \u001b[0;32mimport\u001b[0m \u001b[0mCubeBasedEvaluation\u001b[0m\u001b[0;34m,\u001b[0m \u001b[0mfail_ratio\u001b[0m\u001b[0;34m\u001b[0m\u001b[0;34m\u001b[0m\u001b[0m\n\u001b[1;32m     17\u001b[0m \u001b[0;32mfrom\u001b[0m \u001b[0msim_loop\u001b[0m\u001b[0;34m.\u001b[0m\u001b[0mevaluation\u001b[0m\u001b[0;34m.\u001b[0m\u001b[0mvariance_bounded_testing_method\u001b[0m\u001b[0;34m.\u001b[0m\u001b[0msimulation\u001b[0m\u001b[0;34m.\u001b[0m\u001b[0mparameter_set_generation\u001b[0m \u001b[0;32mimport\u001b[0m \u001b[0mmodify_xml\u001b[0m\u001b[0;34m\u001b[0m\u001b[0;34m\u001b[0m\u001b[0m\n\u001b[0;32m---> 18\u001b[0;31m \u001b[0;32mfrom\u001b[0m \u001b[0modd_coverage\u001b[0m\u001b[0;34m.\u001b[0m\u001b[0modd_coverage\u001b[0m\u001b[0;34m.\u001b[0m\u001b[0mcoverage_param_lvl\u001b[0m\u001b[0;34m.\u001b[0m\u001b[0mcoverage_param_lvl\u001b[0m \u001b[0;32mimport\u001b[0m \u001b[0mCoverageParamLvl\u001b[0m\u001b[0;34m\u001b[0m\u001b[0;34m\u001b[0m\u001b[0m\n\u001b[0m\u001b[1;32m     19\u001b[0m \u001b[0;34m\u001b[0m\u001b[0m\n\u001b[1;32m     20\u001b[0m \u001b[0;31m# Generate variance bounded test cases\u001b[0m\u001b[0;34m\u001b[0m\u001b[0;34m\u001b[0m\u001b[0m\n",
            "\u001b[0;31mModuleNotFoundError\u001b[0m: No module named 'odd_coverage'",
            "",
            "\u001b[0;31m---------------------------------------------------------------------------\u001b[0;32m\nNOTE: If your import is failing due to a missing package, you can\nmanually install dependencies using either !pip or !apt.\n\nTo view examples of installing some common dependencies, click the\n\"Open Examples\" button below.\n\u001b[0;31m---------------------------------------------------------------------------\u001b[0m\n"
          ],
          "errorDetails": {
            "actions": [
              {
                "action": "open_url",
                "actionText": "Open Examples",
                "url": "/notebooks/snippets/importing_libraries.ipynb"
              }
            ]
          }
        }
      ]
    },
    {
      "cell_type": "code",
      "source": [
        "points, adapted_kmeans_labels, param_values = generate_variance_bounded_test_cases(\n",
        "    './sim_loop/evaluation/variance_bounded_testing_method/data/prior/prior_points_s_delta_v_delta_ego_max_dec_-3_10_0.npy',2)"
      ],
      "metadata": {
        "colab": {
          "base_uri": "https://localhost:8080/"
        },
        "id": "zhAkRIOJ0GoH",
        "outputId": "a5eb0abe-7b33-4e68-8e5c-29887a1f38df"
      },
      "execution_count": null,
      "outputs": [
        {
          "output_type": "stream",
          "name": "stdout",
          "text": [
            "I will break since no more clusters in red zone.\n",
            "I successfully finished. There are 1 successful attempts.\n"
          ]
        }
      ]
    },
    {
      "cell_type": "code",
      "source": [
        "create_folder(path='/content/sim_loop/scenarios/variance_bounded')\n",
        "generate_scenarios(param_values)"
      ],
      "metadata": {
        "colab": {
          "base_uri": "https://localhost:8080/"
        },
        "id": "cWGdPZYv1_dr",
        "outputId": "7442c52b-4a8e-4314-d9d6-20548862fd16"
      },
      "execution_count": null,
      "outputs": [
        {
          "output_type": "stream",
          "name": "stdout",
          "text": [
            "Folder '/content/sim_loop/scenarios/variance_bounded' created successfully.\n"
          ]
        }
      ]
    },
    {
      "cell_type": "code",
      "source": [
        "simulation_run(param_values=param_values)"
      ],
      "metadata": {
        "colab": {
          "base_uri": "https://localhost:8080/",
          "height": 304
        },
        "id": "rgmEJsBq7Cyl",
        "outputId": "0cc87484-da12-4d03-e67a-dd112a5d25bf"
      },
      "execution_count": null,
      "outputs": [
        {
          "output_type": "stream",
          "name": "stdout",
          "text": [
            "Launching 2 scenarios\n"
          ]
        },
        {
          "output_type": "error",
          "ename": "KeyboardInterrupt",
          "evalue": "",
          "traceback": [
            "\u001b[0;31m---------------------------------------------------------------------------\u001b[0m",
            "\u001b[0;31mKeyboardInterrupt\u001b[0m                         Traceback (most recent call last)",
            "\u001b[0;32m<ipython-input-15-78d65c7b93c5>\u001b[0m in \u001b[0;36m<cell line: 0>\u001b[0;34m()\u001b[0m\n\u001b[0;32m----> 1\u001b[0;31m \u001b[0msimulation_run\u001b[0m\u001b[0;34m(\u001b[0m\u001b[0mparam_values\u001b[0m\u001b[0;34m=\u001b[0m\u001b[0mparam_values\u001b[0m\u001b[0;34m)\u001b[0m\u001b[0;34m\u001b[0m\u001b[0;34m\u001b[0m\u001b[0m\n\u001b[0m",
            "\u001b[0;32m<ipython-input-12-ea3bf1780dff>\u001b[0m in \u001b[0;36msimulation_run\u001b[0;34m(param_values)\u001b[0m\n\u001b[1;32m     70\u001b[0m \u001b[0;34m\u001b[0m\u001b[0m\n\u001b[1;32m     71\u001b[0m     \u001b[0;32mwith\u001b[0m \u001b[0mThreadPool\u001b[0m\u001b[0;34m(\u001b[0m\u001b[0;34m)\u001b[0m \u001b[0;32mas\u001b[0m \u001b[0mp\u001b[0m\u001b[0;34m:\u001b[0m\u001b[0;34m\u001b[0m\u001b[0;34m\u001b[0m\u001b[0m\n\u001b[0;32m---> 72\u001b[0;31m         \u001b[0mp\u001b[0m\u001b[0;34m.\u001b[0m \u001b[0mmap\u001b[0m\u001b[0;34m(\u001b[0m\u001b[0mlaunch_scenario\u001b[0m\u001b[0;34m,\u001b[0m \u001b[0mrange\u001b[0m\u001b[0;34m(\u001b[0m\u001b[0mn_runs\u001b[0m\u001b[0;34m)\u001b[0m\u001b[0;34m)\u001b[0m\u001b[0;34m\u001b[0m\u001b[0;34m\u001b[0m\u001b[0m\n\u001b[0m\u001b[1;32m     73\u001b[0m \u001b[0;34m\u001b[0m\u001b[0m\n\u001b[1;32m     74\u001b[0m     \u001b[0mprint\u001b[0m\u001b[0;34m(\u001b[0m\u001b[0;34m)\u001b[0m\u001b[0;34m\u001b[0m\u001b[0;34m\u001b[0m\u001b[0m\n",
            "\u001b[0;32m/usr/lib/python3.11/multiprocessing/pool.py\u001b[0m in \u001b[0;36mmap\u001b[0;34m(self, func, iterable, chunksize)\u001b[0m\n\u001b[1;32m    365\u001b[0m         \u001b[0;32min\u001b[0m \u001b[0ma\u001b[0m \u001b[0mlist\u001b[0m \u001b[0mthat\u001b[0m \u001b[0;32mis\u001b[0m \u001b[0mreturned\u001b[0m\u001b[0;34m.\u001b[0m\u001b[0;34m\u001b[0m\u001b[0;34m\u001b[0m\u001b[0m\n\u001b[1;32m    366\u001b[0m         '''\n\u001b[0;32m--> 367\u001b[0;31m         \u001b[0;32mreturn\u001b[0m \u001b[0mself\u001b[0m\u001b[0;34m.\u001b[0m\u001b[0m_map_async\u001b[0m\u001b[0;34m(\u001b[0m\u001b[0mfunc\u001b[0m\u001b[0;34m,\u001b[0m \u001b[0miterable\u001b[0m\u001b[0;34m,\u001b[0m \u001b[0mmapstar\u001b[0m\u001b[0;34m,\u001b[0m \u001b[0mchunksize\u001b[0m\u001b[0;34m)\u001b[0m\u001b[0;34m.\u001b[0m\u001b[0mget\u001b[0m\u001b[0;34m(\u001b[0m\u001b[0;34m)\u001b[0m\u001b[0;34m\u001b[0m\u001b[0;34m\u001b[0m\u001b[0m\n\u001b[0m\u001b[1;32m    368\u001b[0m \u001b[0;34m\u001b[0m\u001b[0m\n\u001b[1;32m    369\u001b[0m     \u001b[0;32mdef\u001b[0m \u001b[0mstarmap\u001b[0m\u001b[0;34m(\u001b[0m\u001b[0mself\u001b[0m\u001b[0;34m,\u001b[0m \u001b[0mfunc\u001b[0m\u001b[0;34m,\u001b[0m \u001b[0miterable\u001b[0m\u001b[0;34m,\u001b[0m \u001b[0mchunksize\u001b[0m\u001b[0;34m=\u001b[0m\u001b[0;32mNone\u001b[0m\u001b[0;34m)\u001b[0m\u001b[0;34m:\u001b[0m\u001b[0;34m\u001b[0m\u001b[0;34m\u001b[0m\u001b[0m\n",
            "\u001b[0;32m/usr/lib/python3.11/multiprocessing/pool.py\u001b[0m in \u001b[0;36mget\u001b[0;34m(self, timeout)\u001b[0m\n\u001b[1;32m    766\u001b[0m \u001b[0;34m\u001b[0m\u001b[0m\n\u001b[1;32m    767\u001b[0m     \u001b[0;32mdef\u001b[0m \u001b[0mget\u001b[0m\u001b[0;34m(\u001b[0m\u001b[0mself\u001b[0m\u001b[0;34m,\u001b[0m \u001b[0mtimeout\u001b[0m\u001b[0;34m=\u001b[0m\u001b[0;32mNone\u001b[0m\u001b[0;34m)\u001b[0m\u001b[0;34m:\u001b[0m\u001b[0;34m\u001b[0m\u001b[0;34m\u001b[0m\u001b[0m\n\u001b[0;32m--> 768\u001b[0;31m         \u001b[0mself\u001b[0m\u001b[0;34m.\u001b[0m\u001b[0mwait\u001b[0m\u001b[0;34m(\u001b[0m\u001b[0mtimeout\u001b[0m\u001b[0;34m)\u001b[0m\u001b[0;34m\u001b[0m\u001b[0;34m\u001b[0m\u001b[0m\n\u001b[0m\u001b[1;32m    769\u001b[0m         \u001b[0;32mif\u001b[0m \u001b[0;32mnot\u001b[0m \u001b[0mself\u001b[0m\u001b[0;34m.\u001b[0m\u001b[0mready\u001b[0m\u001b[0;34m(\u001b[0m\u001b[0;34m)\u001b[0m\u001b[0;34m:\u001b[0m\u001b[0;34m\u001b[0m\u001b[0;34m\u001b[0m\u001b[0m\n\u001b[1;32m    770\u001b[0m             \u001b[0;32mraise\u001b[0m \u001b[0mTimeoutError\u001b[0m\u001b[0;34m\u001b[0m\u001b[0;34m\u001b[0m\u001b[0m\n",
            "\u001b[0;32m/usr/lib/python3.11/multiprocessing/pool.py\u001b[0m in \u001b[0;36mwait\u001b[0;34m(self, timeout)\u001b[0m\n\u001b[1;32m    763\u001b[0m \u001b[0;34m\u001b[0m\u001b[0m\n\u001b[1;32m    764\u001b[0m     \u001b[0;32mdef\u001b[0m \u001b[0mwait\u001b[0m\u001b[0;34m(\u001b[0m\u001b[0mself\u001b[0m\u001b[0;34m,\u001b[0m \u001b[0mtimeout\u001b[0m\u001b[0;34m=\u001b[0m\u001b[0;32mNone\u001b[0m\u001b[0;34m)\u001b[0m\u001b[0;34m:\u001b[0m\u001b[0;34m\u001b[0m\u001b[0;34m\u001b[0m\u001b[0m\n\u001b[0;32m--> 765\u001b[0;31m         \u001b[0mself\u001b[0m\u001b[0;34m.\u001b[0m\u001b[0m_event\u001b[0m\u001b[0;34m.\u001b[0m\u001b[0mwait\u001b[0m\u001b[0;34m(\u001b[0m\u001b[0mtimeout\u001b[0m\u001b[0;34m)\u001b[0m\u001b[0;34m\u001b[0m\u001b[0;34m\u001b[0m\u001b[0m\n\u001b[0m\u001b[1;32m    766\u001b[0m \u001b[0;34m\u001b[0m\u001b[0m\n\u001b[1;32m    767\u001b[0m     \u001b[0;32mdef\u001b[0m \u001b[0mget\u001b[0m\u001b[0;34m(\u001b[0m\u001b[0mself\u001b[0m\u001b[0;34m,\u001b[0m \u001b[0mtimeout\u001b[0m\u001b[0;34m=\u001b[0m\u001b[0;32mNone\u001b[0m\u001b[0;34m)\u001b[0m\u001b[0;34m:\u001b[0m\u001b[0;34m\u001b[0m\u001b[0;34m\u001b[0m\u001b[0m\n",
            "\u001b[0;32m/usr/lib/python3.11/threading.py\u001b[0m in \u001b[0;36mwait\u001b[0;34m(self, timeout)\u001b[0m\n\u001b[1;32m    627\u001b[0m             \u001b[0msignaled\u001b[0m \u001b[0;34m=\u001b[0m \u001b[0mself\u001b[0m\u001b[0;34m.\u001b[0m\u001b[0m_flag\u001b[0m\u001b[0;34m\u001b[0m\u001b[0;34m\u001b[0m\u001b[0m\n\u001b[1;32m    628\u001b[0m             \u001b[0;32mif\u001b[0m \u001b[0;32mnot\u001b[0m \u001b[0msignaled\u001b[0m\u001b[0;34m:\u001b[0m\u001b[0;34m\u001b[0m\u001b[0;34m\u001b[0m\u001b[0m\n\u001b[0;32m--> 629\u001b[0;31m                 \u001b[0msignaled\u001b[0m \u001b[0;34m=\u001b[0m \u001b[0mself\u001b[0m\u001b[0;34m.\u001b[0m\u001b[0m_cond\u001b[0m\u001b[0;34m.\u001b[0m\u001b[0mwait\u001b[0m\u001b[0;34m(\u001b[0m\u001b[0mtimeout\u001b[0m\u001b[0;34m)\u001b[0m\u001b[0;34m\u001b[0m\u001b[0;34m\u001b[0m\u001b[0m\n\u001b[0m\u001b[1;32m    630\u001b[0m             \u001b[0;32mreturn\u001b[0m \u001b[0msignaled\u001b[0m\u001b[0;34m\u001b[0m\u001b[0;34m\u001b[0m\u001b[0m\n\u001b[1;32m    631\u001b[0m \u001b[0;34m\u001b[0m\u001b[0m\n",
            "\u001b[0;32m/usr/lib/python3.11/threading.py\u001b[0m in \u001b[0;36mwait\u001b[0;34m(self, timeout)\u001b[0m\n\u001b[1;32m    325\u001b[0m         \u001b[0;32mtry\u001b[0m\u001b[0;34m:\u001b[0m    \u001b[0;31m# restore state no matter what (e.g., KeyboardInterrupt)\u001b[0m\u001b[0;34m\u001b[0m\u001b[0;34m\u001b[0m\u001b[0m\n\u001b[1;32m    326\u001b[0m             \u001b[0;32mif\u001b[0m \u001b[0mtimeout\u001b[0m \u001b[0;32mis\u001b[0m \u001b[0;32mNone\u001b[0m\u001b[0;34m:\u001b[0m\u001b[0;34m\u001b[0m\u001b[0;34m\u001b[0m\u001b[0m\n\u001b[0;32m--> 327\u001b[0;31m                 \u001b[0mwaiter\u001b[0m\u001b[0;34m.\u001b[0m\u001b[0macquire\u001b[0m\u001b[0;34m(\u001b[0m\u001b[0;34m)\u001b[0m\u001b[0;34m\u001b[0m\u001b[0;34m\u001b[0m\u001b[0m\n\u001b[0m\u001b[1;32m    328\u001b[0m                 \u001b[0mgotit\u001b[0m \u001b[0;34m=\u001b[0m \u001b[0;32mTrue\u001b[0m\u001b[0;34m\u001b[0m\u001b[0;34m\u001b[0m\u001b[0m\n\u001b[1;32m    329\u001b[0m             \u001b[0;32melse\u001b[0m\u001b[0;34m:\u001b[0m\u001b[0;34m\u001b[0m\u001b[0;34m\u001b[0m\u001b[0m\n",
            "\u001b[0;31mKeyboardInterrupt\u001b[0m: "
          ]
        }
      ]
    },
    {
      "cell_type": "code",
      "execution_count": null,
      "metadata": {
        "id": "S-MEOAw3DxX7",
        "colab": {
          "base_uri": "https://localhost:8080/"
        },
        "outputId": "e6fed1c8-e135-4189-b2a9-920fb12e567d"
      },
      "outputs": [
        {
          "output_type": "stream",
          "name": "stdout",
          "text": [
            "Folder '/content/logs' created successfully.\n",
            "File 'log.txt' deleted successfully.\n",
            "Data saved to /content/logs/compiled_log_data.csv\n"
          ]
        }
      ],
      "source": [
        "create_folder(path='/content/logs')\n",
        "delete_log_txt(path='/content')\n",
        "move_log_files()\n",
        "compile_log_data()"
      ]
    },
    {
      "cell_type": "code",
      "source": [
        "eval_dict = evaluate_metric(param_values=param_values, points=points, adapted_kmeans_labels=adapted_kmeans_labels)"
      ],
      "metadata": {
        "colab": {
          "base_uri": "https://localhost:8080/"
        },
        "id": "4EwJLDOaUYdz",
        "outputId": "74de924b-2a76-41b4-c952-c05429dd2e0b"
      },
      "execution_count": null,
      "outputs": [
        {
          "output_type": "stream",
          "name": "stdout",
          "text": [
            "Sub-cube 1035 contains points from group [np.int64(0)] (original cube center: [44. 32.  5.]): [array([44.51143785, 32.03614069,  4.92040898])]\n",
            "Sub-cube 835 contains points from group [np.int64(1)] (original cube center: [22. 22.  5.]): [array([22.37424691, 21.25803745,  4.87674222])]\n",
            "after update -------------\n",
            "Sub-cube 1035 contains points from group [np.int64(0)] (original cube center: [44. 32.  5.]): [array([44.51143785, 32.03614069,  4.92040898])]\n",
            "Sub-cube 835 contains points from group [np.int64(1)] (original cube center: [22. 22.  5.]): [array([22.37424691, 21.25803745,  4.87674222])]\n",
            "Number of unique sub-cubes: 2\n",
            "Sub-cube 835 already has points assigned\n",
            "Sub-cube 1035 already has points assigned\n",
            "Number of unique sub-cubes: 2080\n",
            "Number of total sub cubes: 2080\n"
          ]
        }
      ]
    },
    {
      "cell_type": "code",
      "source": [
        "eval_dict"
      ],
      "metadata": {
        "colab": {
          "base_uri": "https://localhost:8080/"
        },
        "id": "m8m_YFbuXCA5",
        "outputId": "36b113a0-d113-4b52-eacb-2cdd2e855b83"
      },
      "execution_count": null,
      "outputs": [
        {
          "output_type": "execute_result",
          "data": {
            "text/plain": [
              "{'metric': 63.02884615384615,\n",
              " 'fail_ratio_difference': 36.97115384615385,\n",
              " 'absolute_fail_ratio_difference': np.float64(36.97115384615385),\n",
              " 'number_of_test_cases': 2,\n",
              " 'gt_fail_ratio': 0.3697115384615385,\n",
              " 'eval_fail_ratio': 0,\n",
              " 'points': array([[44.51143785, 32.03614069,  4.92040898],\n",
              "        [22.37424691, 21.25803745,  4.87674222]]),\n",
              " 'pass_fail': array([ True,  True]),\n",
              " 'a': None,\n",
              " 'scale': None,\n",
              " 'loc': None}"
            ]
          },
          "metadata": {},
          "execution_count": 33
        }
      ]
    },
    {
      "cell_type": "code",
      "source": [
        "remove_tree(path='/content/logs')\n",
        "remove_tree(path='/content/sim_loop/scenarios/variance_bounded')"
      ],
      "metadata": {
        "id": "lVk-GtArS5Gi"
      },
      "execution_count": null,
      "outputs": []
    },
    {
      "cell_type": "code",
      "execution_count": null,
      "metadata": {
        "id": "kfDKScPWwJ-F"
      },
      "outputs": [],
      "source": [
        "# for looping this (or even parallelize it?)\n",
        "    # decide which prior to use\n",
        "    # generate test case with variance bounded method\n",
        "    # generate folder for scenarios\n",
        "    # generate scenarios (based on test cases)\n",
        "    # simulate test cases\n",
        "    # create folder for logs\n",
        "    # move logs to folder\n",
        "    # create csv out of logs\n",
        "    # calculate metric\n",
        "    # store in dictionary - additionally using the prior paramters\n",
        "    # remove folder with logs\n",
        "    # remove folder with scenarios"
      ]
    },
    {
      "cell_type": "code",
      "source": [
        "import itertools\n",
        "import json\n",
        "\n",
        "# Prior: Parameters and respective arrays\n",
        "array1 = [3, 0, -3, -4] #a\n",
        "array2 = [10,15] #scale\n",
        "array3 = [-5,0,5] #loc\n",
        "\n",
        "# Generate all possible combinations\n",
        "combinations = list(itertools.product(array1, array2, array3))\n",
        "\n",
        "amount_of_test_cases = 2\n",
        "idx_stop = 8\n",
        "idx_start = 0\n",
        "evaluation_dict = dict()\n",
        "\n",
        "# loop over the combinations\n",
        "for idx, combo in enumerate(combinations):\n",
        "    if idx_start > idx:\n",
        "      continue\n",
        "    else:\n",
        "      if idx > idx_stop:\n",
        "        continue\n",
        "      else:\n",
        "        a = combo[0]\n",
        "        scale = combo[1]\n",
        "        loc = combo[2]\n",
        "\n",
        "        points, adapted_kmeans_labels, param_values = generate_variance_bounded_test_cases(\n",
        "        f'./sim_loop/evaluation/variance_bounded_testing_method/data/prior/prior_points_s_delta_v_delta_ego_max_dec_{a}_{scale}_{loc}.npy',amount_of_test_cases)\n",
        "\n",
        "        create_folder(path='/content/sim_loop/scenarios/variance_bounded')\n",
        "        generate_scenarios(param_values)\n",
        "\n",
        "        simulation_run(param_values=param_values)\n",
        "\n",
        "        create_folder(path='/content/logs')\n",
        "        delete_log_txt(path='/content')\n",
        "        move_log_files()\n",
        "        compile_log_data()\n",
        "\n",
        "        eval_dict = evaluate_metric(param_values=param_values, points=points, adapted_kmeans_labels=adapted_kmeans_labels, a=a, scale=scale, loc=loc)\n",
        "        evaluation_dict[idx] = eval_dict\n",
        "\n",
        "        remove_tree(path='/content/logs')\n",
        "        remove_tree(path='/content/sim_loop/scenarios/variance_bounded')\n",
        "\n",
        "\n",
        "# Save dictionary to a JSON file\n",
        "with open(f'evaluation_dict_{amount_of_test_cases}_till_{idx_stop}_of_{len(combinations)}.json', 'w') as file:\n",
        "    json.dump(evaluation_dict, file)"
      ],
      "metadata": {
        "id": "on0T0DozVvpx",
        "outputId": "da3e6175-a439-44ab-a8f9-be2583ea5b82",
        "colab": {
          "base_uri": "https://localhost:8080/",
          "height": 1000
        }
      },
      "execution_count": null,
      "outputs": [
        {
          "output_type": "stream",
          "name": "stdout",
          "text": [
            "I will break since no more clusters in red zone.\n",
            "I successfully finished. There are 1 successful attempts.\n",
            "Folder '/content/sim_loop/scenarios/variance_bounded' created successfully.\n",
            "Launching 2 scenarios\n",
            "I will break since no more clusters in red zone.\n",
            "I successfully finished. There are 1 successful attempts.\n",
            "Folder '/content/sim_loop/scenarios/variance_bounded' created successfully.\n",
            "Launching 2 scenarios\n",
            "\n",
            "Folder '/content/logs' created successfully.\n",
            "File 'log.txt' deleted successfully.\n",
            "Data saved to /content/logs/compiled_log_data.csv\n",
            "Sub-cube 477 contains points from group [np.int64(0)] (original cube center: [28. 32.  4.]): [array([28.61341336, 32.13599761,  3.6803143 ])]\n",
            "Sub-cube 1656 contains points from group [np.int64(1)] (original cube center: [20. 34.  6.]): [array([20.98454296, 34.65201056,  5.54139545])]\n",
            "after update -------------\n",
            "Sub-cube 477 contains points from group [np.int64(0)] (original cube center: [28. 32.  4.]): [array([28.61341336, 32.13599761,  3.6803143 ])]\n",
            "Sub-cube 1656 contains points from group [np.int64(1)] (original cube center: [20. 34.  6.]): [array([20.98454296, 34.65201056,  5.54139545])]\n",
            "Number of unique sub-cubes: 2\n",
            "Sub-cube 477 already has points assigned\n",
            "Sub-cube 1656 already has points assigned\n",
            "Number of unique sub-cubes: 2080\n",
            "Number of total sub cubes: 2080\n",
            "\n",
            "Folder '/content/logs' created successfully.\n",
            "File 'log.txt' not found in '/content'.\n",
            "Data saved to /content/logs/compiled_log_data.csv\n",
            "I will break since no more clusters in red zone.\n",
            "I successfully finished. There are 1 successful attempts.\n",
            "Folder '/content/sim_loop/scenarios/variance_bounded' created successfully.\n",
            "Launching 2 scenarios\n",
            "I will break since no more clusters in red zone.\n",
            "I successfully finished. There are 1 successful attempts.\n",
            "Folder '/content/sim_loop/scenarios/variance_bounded' created successfully.\n",
            "Launching 2 scenarios\n",
            "\n",
            "Folder '/content/logs' created successfully.\n",
            "File 'log.txt' deleted successfully.\n",
            "Data saved to /content/logs/compiled_log_data.csv\n",
            "Sub-cube 1223 contains points from group [np.int64(0)] (original cube center: [18. 36.  5.]): [array([18.10783393, 36.54668343,  5.48778315])]\n",
            "Sub-cube 443 contains points from group [np.int64(1)] (original cube center: [24. 34.  4.]): [array([23.61171871, 33.77344544,  3.68255973])]\n",
            "after update -------------\n",
            "Sub-cube 1223 contains points from group [np.int64(0)] (original cube center: [18. 36.  5.]): [array([18.10783393, 36.54668343,  5.48778315])]\n",
            "Sub-cube 443 contains points from group [np.int64(1)] (original cube center: [24. 34.  4.]): [array([23.61171871, 33.77344544,  3.68255973])]\n",
            "Number of unique sub-cubes: 2\n",
            "Sub-cube 443 already has points assigned\n",
            "Sub-cube 1223 already has points assigned\n",
            "\n",
            "Folder '/content/logs' created successfully.\n",
            "File 'log.txt' not found in '/content'.\n",
            "Data saved to /content/logs/compiled_log_data.csv\n",
            "Sub-cube 1293 contains points from group [np.int64(0)] (original cube center: [26. 34.  6.]): [array([25.43467722, 33.66411431,  5.80005339])]\n",
            "Sub-cube 494 contains points from group [np.int64(1)] (original cube center: [30. 30.  4.]): [array([29.98682743, 29.57944363,  3.85947255])]\n",
            "after update -------------\n",
            "Sub-cube 1293 contains points from group [np.int64(0)] (original cube center: [26. 34.  6.]): [array([25.43467722, 33.66411431,  5.80005339])]\n",
            "Sub-cube 494 contains points from group [np.int64(1)] (original cube center: [30. 30.  4.]): [array([29.98682743, 29.57944363,  3.85947255])]\n",
            "Number of unique sub-cubes: 2\n",
            "Sub-cube 494 already has points assigned\n",
            "Sub-cube 1293 already has points assigned\n",
            "Number of unique sub-cubes: 2080\n",
            "Number of total sub cubes: 2080\n",
            "Number of unique sub-cubes: 2080\n",
            "Number of total sub cubes: 2080\n",
            "I will break since no more clusters in red zone.\n",
            "I successfully finished. There are 1 successful attempts.\n",
            "Folder '/content/sim_loop/scenarios/variance_bounded' created successfully.\n",
            "Launching 2 scenarios\n",
            "I will break since no more clusters in red zone.\n",
            "I successfully finished. There are 1 successful attempts.\n",
            "Folder '/content/sim_loop/scenarios/variance_bounded' created successfully.\n",
            "Launching 2 scenarios\n"
          ]
        },
        {
          "output_type": "error",
          "ename": "KeyboardInterrupt",
          "evalue": "",
          "traceback": [
            "\u001b[0;31m---------------------------------------------------------------------------\u001b[0m",
            "\u001b[0;31m_RemoteTraceback\u001b[0m                          Traceback (most recent call last)",
            "\u001b[0;31m_RemoteTraceback\u001b[0m: \n\"\"\"\nTraceback (most recent call last):\n  File \"/usr/lib/python3.11/concurrent/futures/process.py\", line 261, in _process_worker\n    r = call_item.fn(*call_item.args, **call_item.kwargs)\n        ^^^^^^^^^^^^^^^^^^^^^^^^^^^^^^^^^^^^^^^^^^^^^^^^^\n  File \"/usr/lib/python3.11/concurrent/futures/process.py\", line 210, in _process_chunk\n    return [fn(*args) for args in chunk]\n           ^^^^^^^^^^^^^^^^^^^^^^^^^^^^^\n  File \"/usr/lib/python3.11/concurrent/futures/process.py\", line 210, in <listcomp>\n    return [fn(*args) for args in chunk]\n            ^^^^^^^^^\n  File \"<ipython-input-18-f359adea616f>\", line 34, in task\n    eval_dict = evaluate_metric(param_values=param_values, points=points, adapted_kmeans_labels=adapted_kmeans_labels, a=a, scale=scale, loc=loc)\n                ^^^^^^^^^^^^^^^^^^^^^^^^^^^^^^^^^^^^^^^^^^^^^^^^^^^^^^^^^^^^^^^^^^^^^^^^^^^^^^^^^^^^^^^^^^^^^^^^^^^^^^^^^^^^^^^^^^^^^^^^^^^^^^^^^\n  File \"<ipython-input-12-ea3bf1780dff>\", line 191, in evaluate_metric\n    df_sim = pd.read_csv('/content/logs/compiled_log_data.csv')\n             ^^^^^^^^^^^^^^^^^^^^^^^^^^^^^^^^^^^^^^^^^^^^^^^^^^\n  File \"/usr/local/lib/python3.11/dist-packages/pandas/io/parsers/readers.py\", line 1026, in read_csv\n    return _read(filepath_or_buffer, kwds)\n           ^^^^^^^^^^^^^^^^^^^^^^^^^^^^^^^\n  File \"/usr/local/lib/python3.11/dist-packages/pandas/io/parsers/readers.py\", line 620, in _read\n    parser = TextFileReader(filepath_or_buffer, **kwds)\n             ^^^^^^^^^^^^^^^^^^^^^^^^^^^^^^^^^^^^^^^^^^\n  File \"/usr/local/lib/python3.11/dist-packages/pandas/io/parsers/readers.py\", line 1620, in __init__\n    self._engine = self._make_engine(f, self.engine)\n                   ^^^^^^^^^^^^^^^^^^^^^^^^^^^^^^^^^\n  File \"/usr/local/lib/python3.11/dist-packages/pandas/io/parsers/readers.py\", line 1898, in _make_engine\n    return mapping[engine](f, **self.options)\n           ^^^^^^^^^^^^^^^^^^^^^^^^^^^^^^^^^^\n  File \"/usr/local/lib/python3.11/dist-packages/pandas/io/parsers/c_parser_wrapper.py\", line 93, in __init__\n    self._reader = parsers.TextReader(src, **kwds)\n                   ^^^^^^^^^^^^^^^^^^^^^^^^^^^^^^^\n  File \"parsers.pyx\", line 581, in pandas._libs.parsers.TextReader.__cinit__\npandas.errors.EmptyDataError: No columns to parse from file\n\"\"\"",
            "\nThe above exception was the direct cause of the following exception:\n",
            "\u001b[0;31mEmptyDataError\u001b[0m                            Traceback (most recent call last)",
            "\u001b[0;32m<ipython-input-18-f359adea616f>\u001b[0m in \u001b[0;36m<cell line: 0>\u001b[0;34m()\u001b[0m\n\u001b[1;32m     42\u001b[0m \u001b[0;32mwith\u001b[0m \u001b[0mconcurrent\u001b[0m\u001b[0;34m.\u001b[0m\u001b[0mfutures\u001b[0m\u001b[0;34m.\u001b[0m\u001b[0mProcessPoolExecutor\u001b[0m\u001b[0;34m(\u001b[0m\u001b[0;34m)\u001b[0m \u001b[0;32mas\u001b[0m \u001b[0mexecutor\u001b[0m\u001b[0;34m:\u001b[0m\u001b[0;34m\u001b[0m\u001b[0;34m\u001b[0m\u001b[0m\n\u001b[0;32m---> 43\u001b[0;31m     \u001b[0mresults\u001b[0m \u001b[0;34m=\u001b[0m \u001b[0mlist\u001b[0m\u001b[0;34m(\u001b[0m\u001b[0mexecutor\u001b[0m\u001b[0;34m.\u001b[0m\u001b[0mmap\u001b[0m\u001b[0;34m(\u001b[0m\u001b[0mtask\u001b[0m\u001b[0;34m,\u001b[0m \u001b[0mcombinations\u001b[0m\u001b[0;34m)\u001b[0m\u001b[0;34m)\u001b[0m\u001b[0;34m\u001b[0m\u001b[0;34m\u001b[0m\u001b[0m\n\u001b[0m\u001b[1;32m     44\u001b[0m \u001b[0;34m\u001b[0m\u001b[0m\n",
            "\u001b[0;32m/usr/lib/python3.11/concurrent/futures/process.py\u001b[0m in \u001b[0;36m_chain_from_iterable_of_lists\u001b[0;34m(iterable)\u001b[0m\n\u001b[1;32m    619\u001b[0m     \"\"\"\n\u001b[0;32m--> 620\u001b[0;31m     \u001b[0;32mfor\u001b[0m \u001b[0melement\u001b[0m \u001b[0;32min\u001b[0m \u001b[0miterable\u001b[0m\u001b[0;34m:\u001b[0m\u001b[0;34m\u001b[0m\u001b[0;34m\u001b[0m\u001b[0m\n\u001b[0m\u001b[1;32m    621\u001b[0m         \u001b[0melement\u001b[0m\u001b[0;34m.\u001b[0m\u001b[0mreverse\u001b[0m\u001b[0;34m(\u001b[0m\u001b[0;34m)\u001b[0m\u001b[0;34m\u001b[0m\u001b[0;34m\u001b[0m\u001b[0m\n",
            "\u001b[0;32m/usr/lib/python3.11/concurrent/futures/_base.py\u001b[0m in \u001b[0;36mresult_iterator\u001b[0;34m()\u001b[0m\n\u001b[1;32m    618\u001b[0m                     \u001b[0;32mif\u001b[0m \u001b[0mtimeout\u001b[0m \u001b[0;32mis\u001b[0m \u001b[0;32mNone\u001b[0m\u001b[0;34m:\u001b[0m\u001b[0;34m\u001b[0m\u001b[0;34m\u001b[0m\u001b[0m\n\u001b[0;32m--> 619\u001b[0;31m                         \u001b[0;32myield\u001b[0m \u001b[0m_result_or_cancel\u001b[0m\u001b[0;34m(\u001b[0m\u001b[0mfs\u001b[0m\u001b[0;34m.\u001b[0m\u001b[0mpop\u001b[0m\u001b[0;34m(\u001b[0m\u001b[0;34m)\u001b[0m\u001b[0;34m)\u001b[0m\u001b[0;34m\u001b[0m\u001b[0;34m\u001b[0m\u001b[0m\n\u001b[0m\u001b[1;32m    620\u001b[0m                     \u001b[0;32melse\u001b[0m\u001b[0;34m:\u001b[0m\u001b[0;34m\u001b[0m\u001b[0;34m\u001b[0m\u001b[0m\n",
            "\u001b[0;32m/usr/lib/python3.11/concurrent/futures/_base.py\u001b[0m in \u001b[0;36m_result_or_cancel\u001b[0;34m(***failed resolving arguments***)\u001b[0m\n\u001b[1;32m    316\u001b[0m         \u001b[0;32mtry\u001b[0m\u001b[0;34m:\u001b[0m\u001b[0;34m\u001b[0m\u001b[0;34m\u001b[0m\u001b[0m\n\u001b[0;32m--> 317\u001b[0;31m             \u001b[0;32mreturn\u001b[0m \u001b[0mfut\u001b[0m\u001b[0;34m.\u001b[0m\u001b[0mresult\u001b[0m\u001b[0;34m(\u001b[0m\u001b[0mtimeout\u001b[0m\u001b[0;34m)\u001b[0m\u001b[0;34m\u001b[0m\u001b[0;34m\u001b[0m\u001b[0m\n\u001b[0m\u001b[1;32m    318\u001b[0m         \u001b[0;32mfinally\u001b[0m\u001b[0;34m:\u001b[0m\u001b[0;34m\u001b[0m\u001b[0;34m\u001b[0m\u001b[0m\n",
            "\u001b[0;32m/usr/lib/python3.11/concurrent/futures/_base.py\u001b[0m in \u001b[0;36mresult\u001b[0;34m(self, timeout)\u001b[0m\n\u001b[1;32m    455\u001b[0m                 \u001b[0;32melif\u001b[0m \u001b[0mself\u001b[0m\u001b[0;34m.\u001b[0m\u001b[0m_state\u001b[0m \u001b[0;34m==\u001b[0m \u001b[0mFINISHED\u001b[0m\u001b[0;34m:\u001b[0m\u001b[0;34m\u001b[0m\u001b[0;34m\u001b[0m\u001b[0m\n\u001b[0;32m--> 456\u001b[0;31m                     \u001b[0;32mreturn\u001b[0m \u001b[0mself\u001b[0m\u001b[0;34m.\u001b[0m\u001b[0m__get_result\u001b[0m\u001b[0;34m(\u001b[0m\u001b[0;34m)\u001b[0m\u001b[0;34m\u001b[0m\u001b[0;34m\u001b[0m\u001b[0m\n\u001b[0m\u001b[1;32m    457\u001b[0m                 \u001b[0;32melse\u001b[0m\u001b[0;34m:\u001b[0m\u001b[0;34m\u001b[0m\u001b[0;34m\u001b[0m\u001b[0m\n",
            "\u001b[0;32m/usr/lib/python3.11/concurrent/futures/_base.py\u001b[0m in \u001b[0;36m__get_result\u001b[0;34m(self)\u001b[0m\n\u001b[1;32m    400\u001b[0m             \u001b[0;32mtry\u001b[0m\u001b[0;34m:\u001b[0m\u001b[0;34m\u001b[0m\u001b[0;34m\u001b[0m\u001b[0m\n\u001b[0;32m--> 401\u001b[0;31m                 \u001b[0;32mraise\u001b[0m \u001b[0mself\u001b[0m\u001b[0;34m.\u001b[0m\u001b[0m_exception\u001b[0m\u001b[0;34m\u001b[0m\u001b[0;34m\u001b[0m\u001b[0m\n\u001b[0m\u001b[1;32m    402\u001b[0m             \u001b[0;32mfinally\u001b[0m\u001b[0;34m:\u001b[0m\u001b[0;34m\u001b[0m\u001b[0;34m\u001b[0m\u001b[0m\n",
            "\u001b[0;31mEmptyDataError\u001b[0m: No columns to parse from file",
            "\nDuring handling of the above exception, another exception occurred:\n",
            "\u001b[0;31mKeyboardInterrupt\u001b[0m                         Traceback (most recent call last)",
            "\u001b[0;32m<ipython-input-18-f359adea616f>\u001b[0m in \u001b[0;36m<cell line: 0>\u001b[0;34m()\u001b[0m\n\u001b[1;32m     40\u001b[0m \u001b[0;34m\u001b[0m\u001b[0m\n\u001b[1;32m     41\u001b[0m \u001b[0;34m\u001b[0m\u001b[0m\n\u001b[0;32m---> 42\u001b[0;31m \u001b[0;32mwith\u001b[0m \u001b[0mconcurrent\u001b[0m\u001b[0;34m.\u001b[0m\u001b[0mfutures\u001b[0m\u001b[0;34m.\u001b[0m\u001b[0mProcessPoolExecutor\u001b[0m\u001b[0;34m(\u001b[0m\u001b[0;34m)\u001b[0m \u001b[0;32mas\u001b[0m \u001b[0mexecutor\u001b[0m\u001b[0;34m:\u001b[0m\u001b[0;34m\u001b[0m\u001b[0;34m\u001b[0m\u001b[0m\n\u001b[0m\u001b[1;32m     43\u001b[0m     \u001b[0mresults\u001b[0m \u001b[0;34m=\u001b[0m \u001b[0mlist\u001b[0m\u001b[0;34m(\u001b[0m\u001b[0mexecutor\u001b[0m\u001b[0;34m.\u001b[0m\u001b[0mmap\u001b[0m\u001b[0;34m(\u001b[0m\u001b[0mtask\u001b[0m\u001b[0;34m,\u001b[0m \u001b[0mcombinations\u001b[0m\u001b[0;34m)\u001b[0m\u001b[0;34m)\u001b[0m\u001b[0;34m\u001b[0m\u001b[0;34m\u001b[0m\u001b[0m\n\u001b[1;32m     44\u001b[0m \u001b[0;34m\u001b[0m\u001b[0m\n",
            "\u001b[0;32m/usr/lib/python3.11/concurrent/futures/_base.py\u001b[0m in \u001b[0;36m__exit__\u001b[0;34m(self, exc_type, exc_val, exc_tb)\u001b[0m\n\u001b[1;32m    645\u001b[0m \u001b[0;34m\u001b[0m\u001b[0m\n\u001b[1;32m    646\u001b[0m     \u001b[0;32mdef\u001b[0m \u001b[0m__exit__\u001b[0m\u001b[0;34m(\u001b[0m\u001b[0mself\u001b[0m\u001b[0;34m,\u001b[0m \u001b[0mexc_type\u001b[0m\u001b[0;34m,\u001b[0m \u001b[0mexc_val\u001b[0m\u001b[0;34m,\u001b[0m \u001b[0mexc_tb\u001b[0m\u001b[0;34m)\u001b[0m\u001b[0;34m:\u001b[0m\u001b[0;34m\u001b[0m\u001b[0;34m\u001b[0m\u001b[0m\n\u001b[0;32m--> 647\u001b[0;31m         \u001b[0mself\u001b[0m\u001b[0;34m.\u001b[0m\u001b[0mshutdown\u001b[0m\u001b[0;34m(\u001b[0m\u001b[0mwait\u001b[0m\u001b[0;34m=\u001b[0m\u001b[0;32mTrue\u001b[0m\u001b[0;34m)\u001b[0m\u001b[0;34m\u001b[0m\u001b[0;34m\u001b[0m\u001b[0m\n\u001b[0m\u001b[1;32m    648\u001b[0m         \u001b[0;32mreturn\u001b[0m \u001b[0;32mFalse\u001b[0m\u001b[0;34m\u001b[0m\u001b[0;34m\u001b[0m\u001b[0m\n\u001b[1;32m    649\u001b[0m \u001b[0;34m\u001b[0m\u001b[0m\n",
            "\u001b[0;32m/usr/lib/python3.11/concurrent/futures/process.py\u001b[0m in \u001b[0;36mshutdown\u001b[0;34m(self, wait, cancel_futures)\u001b[0m\n\u001b[1;32m    849\u001b[0m \u001b[0;34m\u001b[0m\u001b[0m\n\u001b[1;32m    850\u001b[0m         \u001b[0;32mif\u001b[0m \u001b[0mself\u001b[0m\u001b[0;34m.\u001b[0m\u001b[0m_executor_manager_thread\u001b[0m \u001b[0;32mis\u001b[0m \u001b[0;32mnot\u001b[0m \u001b[0;32mNone\u001b[0m \u001b[0;32mand\u001b[0m \u001b[0mwait\u001b[0m\u001b[0;34m:\u001b[0m\u001b[0;34m\u001b[0m\u001b[0;34m\u001b[0m\u001b[0m\n\u001b[0;32m--> 851\u001b[0;31m             \u001b[0mself\u001b[0m\u001b[0;34m.\u001b[0m\u001b[0m_executor_manager_thread\u001b[0m\u001b[0;34m.\u001b[0m\u001b[0mjoin\u001b[0m\u001b[0;34m(\u001b[0m\u001b[0;34m)\u001b[0m\u001b[0;34m\u001b[0m\u001b[0;34m\u001b[0m\u001b[0m\n\u001b[0m\u001b[1;32m    852\u001b[0m         \u001b[0;31m# To reduce the risk of opening too many files, remove references to\u001b[0m\u001b[0;34m\u001b[0m\u001b[0;34m\u001b[0m\u001b[0m\n\u001b[1;32m    853\u001b[0m         \u001b[0;31m# objects that use file descriptors.\u001b[0m\u001b[0;34m\u001b[0m\u001b[0;34m\u001b[0m\u001b[0m\n",
            "\u001b[0;32m/usr/lib/python3.11/threading.py\u001b[0m in \u001b[0;36mjoin\u001b[0;34m(self, timeout)\u001b[0m\n\u001b[1;32m   1117\u001b[0m \u001b[0;34m\u001b[0m\u001b[0m\n\u001b[1;32m   1118\u001b[0m         \u001b[0;32mif\u001b[0m \u001b[0mtimeout\u001b[0m \u001b[0;32mis\u001b[0m \u001b[0;32mNone\u001b[0m\u001b[0;34m:\u001b[0m\u001b[0;34m\u001b[0m\u001b[0;34m\u001b[0m\u001b[0m\n\u001b[0;32m-> 1119\u001b[0;31m             \u001b[0mself\u001b[0m\u001b[0;34m.\u001b[0m\u001b[0m_wait_for_tstate_lock\u001b[0m\u001b[0;34m(\u001b[0m\u001b[0;34m)\u001b[0m\u001b[0;34m\u001b[0m\u001b[0;34m\u001b[0m\u001b[0m\n\u001b[0m\u001b[1;32m   1120\u001b[0m         \u001b[0;32melse\u001b[0m\u001b[0;34m:\u001b[0m\u001b[0;34m\u001b[0m\u001b[0;34m\u001b[0m\u001b[0m\n\u001b[1;32m   1121\u001b[0m             \u001b[0;31m# the behavior of a negative timeout isn't documented, but\u001b[0m\u001b[0;34m\u001b[0m\u001b[0;34m\u001b[0m\u001b[0m\n",
            "\u001b[0;32m/usr/lib/python3.11/threading.py\u001b[0m in \u001b[0;36m_wait_for_tstate_lock\u001b[0;34m(self, block, timeout)\u001b[0m\n\u001b[1;32m   1137\u001b[0m \u001b[0;34m\u001b[0m\u001b[0m\n\u001b[1;32m   1138\u001b[0m         \u001b[0;32mtry\u001b[0m\u001b[0;34m:\u001b[0m\u001b[0;34m\u001b[0m\u001b[0;34m\u001b[0m\u001b[0m\n\u001b[0;32m-> 1139\u001b[0;31m             \u001b[0;32mif\u001b[0m \u001b[0mlock\u001b[0m\u001b[0;34m.\u001b[0m\u001b[0macquire\u001b[0m\u001b[0;34m(\u001b[0m\u001b[0mblock\u001b[0m\u001b[0;34m,\u001b[0m \u001b[0mtimeout\u001b[0m\u001b[0;34m)\u001b[0m\u001b[0;34m:\u001b[0m\u001b[0;34m\u001b[0m\u001b[0;34m\u001b[0m\u001b[0m\n\u001b[0m\u001b[1;32m   1140\u001b[0m                 \u001b[0mlock\u001b[0m\u001b[0;34m.\u001b[0m\u001b[0mrelease\u001b[0m\u001b[0;34m(\u001b[0m\u001b[0;34m)\u001b[0m\u001b[0;34m\u001b[0m\u001b[0;34m\u001b[0m\u001b[0m\n\u001b[1;32m   1141\u001b[0m                 \u001b[0mself\u001b[0m\u001b[0;34m.\u001b[0m\u001b[0m_stop\u001b[0m\u001b[0;34m(\u001b[0m\u001b[0;34m)\u001b[0m\u001b[0;34m\u001b[0m\u001b[0;34m\u001b[0m\u001b[0m\n",
            "\u001b[0;31mKeyboardInterrupt\u001b[0m: "
          ]
        }
      ]
    },
    {
      "cell_type": "code",
      "source": [
        "evaluation_dict"
      ],
      "metadata": {
        "id": "Bkg7L_jMfU4y",
        "outputId": "86410343-3d89-43ef-95ac-70fe7c6208df",
        "colab": {
          "base_uri": "https://localhost:8080/"
        }
      },
      "execution_count": 24,
      "outputs": [
        {
          "output_type": "execute_result",
          "data": {
            "text/plain": [
              "{0: {'a': 3, 'scale': 10, 'loc': -5},\n",
              " 1: {'a': 3, 'scale': 10, 'loc': 0},\n",
              " 2: {'a': 3, 'scale': 10, 'loc': 5},\n",
              " 3: {'a': 3, 'scale': 15, 'loc': -5},\n",
              " 4: {'a': 3, 'scale': 15, 'loc': 0},\n",
              " 5: {'a': 3, 'scale': 15, 'loc': 5},\n",
              " 6: {'a': 0, 'scale': 10, 'loc': -5},\n",
              " 7: {'a': 0, 'scale': 10, 'loc': 0},\n",
              " 8: {'a': 0, 'scale': 10, 'loc': 5}}"
            ]
          },
          "metadata": {},
          "execution_count": 24
        }
      ]
    }
  ],
  "metadata": {
    "colab": {
      "provenance": [],
      "gpuType": "T4"
    },
    "kernelspec": {
      "display_name": "Python 3",
      "name": "python3"
    },
    "language_info": {
      "codemirror_mode": {
        "name": "ipython",
        "version": 3
      },
      "file_extension": ".py",
      "mimetype": "text/x-python",
      "name": "python",
      "nbconvert_exporter": "python",
      "pygments_lexer": "ipython3",
      "version": "3.10.12"
    },
    "accelerator": "GPU"
  },
  "nbformat": 4,
  "nbformat_minor": 0
}