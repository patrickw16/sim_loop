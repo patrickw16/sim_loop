{
  "cells": [
    {
      "cell_type": "code",
      "execution_count": 1,
      "metadata": {
        "colab": {
          "base_uri": "https://localhost:8080/"
        },
        "id": "vjldM5bAXmgN",
        "outputId": "52bac9e1-ee73-499a-a35e-e587f150e648"
      },
      "outputs": [
        {
          "output_type": "stream",
          "name": "stdout",
          "text": [
            "Mounted at /content/drive\n"
          ]
        }
      ],
      "source": [
        "from google.colab import drive\n",
        "drive.mount('/content/drive')"
      ]
    },
    {
      "cell_type": "code",
      "execution_count": 2,
      "metadata": {
        "id": "5ccNKFkEXnMw"
      },
      "outputs": [],
      "source": [
        "%%capture\n",
        "!cp -r /content/drive/MyDrive/esmini.zip /content/esmini.zip\n",
        "!unzip /content/esmini.zip"
      ]
    },
    {
      "cell_type": "code",
      "execution_count": 3,
      "metadata": {
        "collapsed": true,
        "id": "bSykfRrWZtJc"
      },
      "outputs": [],
      "source": [
        "%%capture\n",
        "!apt-get install -y xvfb x11-utils\n",
        "!pip install ultralytics"
      ]
    },
    {
      "cell_type": "code",
      "execution_count": 4,
      "metadata": {
        "colab": {
          "base_uri": "https://localhost:8080/"
        },
        "id": "yeFE0bhYcP6O",
        "outputId": "582da6e9-cd3c-4c68-cb62-9462a8d98781"
      },
      "outputs": [
        {
          "output_type": "stream",
          "name": "stdout",
          "text": [
            "Starting virtual X frame buffer: Xvfb.\n"
          ]
        }
      ],
      "source": [
        "import sys, os\n",
        "!wget -q https://raw.githubusercontent.com/yandexdataschool/Practical_RL/master/xvfb -O ../xvfb\n",
        "if type(os.environ.get(\"DISPLAY\")) is not str or len(os.environ.get(\"DISPLAY\")) == 0:\n",
        "    !bash ../xvfb start\n",
        "    os.environ['DISPLAY'] = ':1'\n",
        "!cp -r /content/drive/MyDrive/xvfb /content/xvfb\n",
        "!chmod 755 /content/xvfb"
      ]
    },
    {
      "cell_type": "code",
      "execution_count": 5,
      "metadata": {
        "colab": {
          "base_uri": "https://localhost:8080/"
        },
        "id": "wPA0z77VL8Oj",
        "outputId": "aafb116d-ec9b-486f-90e3-acd4e9886171"
      },
      "outputs": [
        {
          "output_type": "stream",
          "name": "stdout",
          "text": [
            "rm: cannot remove 'sim_loop': No such file or directory\n"
          ]
        }
      ],
      "source": [
        "%rm -r sim_loop"
      ]
    },
    {
      "cell_type": "code",
      "execution_count": 6,
      "metadata": {
        "colab": {
          "base_uri": "https://localhost:8080/"
        },
        "collapsed": true,
        "id": "w61l2pIgcESX",
        "outputId": "efd62fbb-f06d-4101-ba9b-4c9f47c2af17"
      },
      "outputs": [
        {
          "output_type": "stream",
          "name": "stdout",
          "text": [
            "Starting virtual X frame buffer: Xvfb.\n",
            "/content/esmini\n",
            "/content\n",
            "Cloning into 'sim_loop'...\n",
            "remote: Enumerating objects: 3793, done.\u001b[K\n",
            "remote: Counting objects: 100% (745/745), done.\u001b[K\n",
            "remote: Compressing objects: 100% (227/227), done.\u001b[K\n",
            "remote: Total 3793 (delta 593), reused 645 (delta 517), pack-reused 3048 (from 1)\u001b[K\n",
            "Receiving objects: 100% (3793/3793), 90.89 MiB | 27.26 MiB/s, done.\n",
            "Resolving deltas: 100% (3242/3242), done.\n"
          ]
        }
      ],
      "source": [
        "!/content/xvfb start\n",
        "%cd /content/esmini\n",
        "!chmod 755 bin/esmini\n",
        "%cd /content\n",
        "!git clone https://github.com/patrickw16/sim_loop.git"
      ]
    },
    {
      "cell_type": "code",
      "execution_count": 7,
      "metadata": {
        "colab": {
          "base_uri": "https://localhost:8080/"
        },
        "id": "fUGGwFUSYLXh",
        "outputId": "c81c9c8d-1989-4efb-a807-a774b2033bd3"
      },
      "outputs": [
        {
          "output_type": "stream",
          "name": "stdout",
          "text": [
            "Cloning into 'odd_coverage'...\n",
            "remote: Enumerating objects: 2809, done.\u001b[K\n",
            "remote: Counting objects: 100% (51/51), done.\u001b[K\n",
            "remote: Compressing objects: 100% (40/40), done.\u001b[K\n",
            "remote: Total 2809 (delta 26), reused 28 (delta 11), pack-reused 2758 (from 1)\u001b[K\n",
            "Receiving objects: 100% (2809/2809), 44.42 MiB | 23.53 MiB/s, done.\n",
            "Resolving deltas: 100% (2232/2232), done.\n",
            "Updating files: 100% (4838/4838), done.\n",
            "/content/odd_coverage\n",
            "Branch 'ThreeDimensional' set up to track remote branch 'ThreeDimensional' from 'origin'.\n",
            "Switched to a new branch 'ThreeDimensional'\n",
            "/content\n"
          ]
        }
      ],
      "source": [
        "!git clone https://...@github.com/patrickw16/odd_coverage.git\n",
        "%cd odd_coverage\n",
        "!git checkout ThreeDimensional\n",
        "%cd /content"
      ]
    },
    {
      "cell_type": "code",
      "execution_count": 8,
      "metadata": {
        "id": "eIWXbXVjYLXi"
      },
      "outputs": [],
      "source": [
        "%%capture\n",
        "!sudo apt install texlive texlive-latex-extra texlive-fonts-recommended dvipng\n",
        "!pip install latex\n",
        "!sudo apt install cm-super"
      ]
    },
    {
      "cell_type": "code",
      "source": [
        "import numpy as np\n",
        "from PIL import Image\n",
        "from IPython.core.display import SVG\n",
        "from sim_loop.evaluation.cube_based_evaluation import CubeBasedEvaluation\n",
        "from sim_loop.evaluation.variance_bounded_testing_method.simulation.parameter_set_generation import modify_xml\n",
        "from odd_coverage.odd_coverage.coverage_param_lvl.coverage_param_lvl import CoverageParamLvl"
      ],
      "metadata": {
        "id": "1VP2ycyGyXM1"
      },
      "execution_count": 9,
      "outputs": []
    },
    {
      "cell_type": "code",
      "execution_count": 10,
      "metadata": {
        "id": "xgv53AlBYLXk",
        "collapsed": true
      },
      "outputs": [],
      "source": [
        "# Generate variance bounded test cases\n",
        "def generate_variance_bounded_test_cases(prior_path, number_of_test_values):\n",
        "  my_coverage_param = CoverageParamLvl(\n",
        "                      number_of_test_values=number_of_test_values,\n",
        "                      trace_epsilon=0.0075,\n",
        "                      epsilon_buffer=0.005,\n",
        "                      number_of_attempts=1,\n",
        "                      combined_points_data_path=prior_path)\n",
        "\n",
        "  param_values, cov_contribution, updated_cluster_traces, adapted_kmeans_labels, re_sampled_scaled, scaler, weighted_within_variance = my_coverage_param.get_optimised_values()\n",
        "  points = scaler.inverse_transform(re_sampled_scaled)\n",
        "\n",
        "  #SVG(filename='/content/var_poc_3d_example.svg')\n",
        "  return points, adapted_kmeans_labels, param_values"
      ]
    },
    {
      "cell_type": "code",
      "source": [
        "points, adapted_kmeans_labels, param_values = generate_variance_bounded_test_cases(\n",
        "    './sim_loop/evaluation/variance_bounded_testing_method/data/prior/prior_points_s_delta_v_delta_ego_max_dec_-3_10_0.npy',50)"
      ],
      "metadata": {
        "colab": {
          "base_uri": "https://localhost:8080/"
        },
        "id": "zhAkRIOJ0GoH",
        "outputId": "e241741f-056d-4072-df71-b97e2e45400e"
      },
      "execution_count": 11,
      "outputs": [
        {
          "output_type": "stream",
          "name": "stdout",
          "text": [
            "I will break since no more clusters in red zone.\n",
            "I successfully finished. There are 1 successful attempts.\n"
          ]
        }
      ]
    },
    {
      "cell_type": "code",
      "execution_count": 16,
      "metadata": {
        "id": "pvy38ZpjYLXl"
      },
      "outputs": [],
      "source": [
        "# Generate scenarios\n",
        "def generate_scenarios(param_values):\n",
        "  for idx, parameter in enumerate(param_values):\n",
        "\n",
        "      new_s_delta = param_values[idx, 0]  # New value for s_delta\n",
        "      new_v_delta = param_values[idx, 1]  # New value for v_delta\n",
        "      new_a_dec = param_values[idx, 2]  # New value for a_dec\n",
        "\n",
        "      input_file = '/content/sim_loop/scenarios/cut-in.xosc'  # Replace with your input file path\n",
        "      output_file = f'/content/sim_loop/scenarios/variance_bounded/{idx}_{new_a_dec}_cut-in.xosc'  # Replace with your desired output file path\n",
        "\n",
        "      modify_xml(input_file, output_file, new_s_delta, new_v_delta)\n",
        "  return None"
      ]
    },
    {
      "cell_type": "code",
      "source": [
        "from pathlib import Path\n",
        "\n",
        "def create_folder(path):\n",
        "  # Specify the name of the new folder\n",
        "  folder_name = Path(path)\n",
        "  # Create the new folder\n",
        "  try:\n",
        "      folder_name.mkdir(parents=True, exist_ok=True)\n",
        "      print(f\"Folder '{folder_name}' created successfully.\")\n",
        "  except Exception as e:\n",
        "      print(f\"An error occurred: {e}\")"
      ],
      "metadata": {
        "id": "Q8Uol_ww4O_R"
      },
      "execution_count": 25,
      "outputs": []
    },
    {
      "cell_type": "code",
      "source": [
        "create_folder(path='/content/sim_loop/scenarios/variance_bounded')\n",
        "generate_scenarios(param_values)"
      ],
      "metadata": {
        "colab": {
          "base_uri": "https://localhost:8080/"
        },
        "id": "cWGdPZYv1_dr",
        "outputId": "a8bcc798-ae51-4d9f-9282-5e7406a88c4e"
      },
      "execution_count": 18,
      "outputs": [
        {
          "output_type": "stream",
          "name": "stdout",
          "text": [
            "Folder '/content/sim_loop/scenarios/variance_bounded' created successfully.\n"
          ]
        }
      ]
    },
    {
      "cell_type": "code",
      "execution_count": 21,
      "metadata": {
        "id": "m6Mp_0agYLXm"
      },
      "outputs": [],
      "source": [
        "from multiprocessing.pool import ThreadPool\n",
        "import subprocess\n",
        "import sys\n",
        "import os.path\n",
        "\n",
        "def launch_scenario(index):\n",
        "    p = subprocess.run(\n",
        "        ['python'] + ['/content/sim_loop/evaluation/variance_bounded_testing_method/simulation/variance_bounded_colab_execution.py'] + ['--window'] + [str(60)] + [str(60)] + [str(800)] + [str(400)] + ['--headless'] + ['--osc'] + [f'/content/sim_loop/scenarios/variance_bounded/{str(index)}_{str(param_values[index, 2])}_cut-in.xosc'] + ['--logfile_path'] + [f'/content/{str(index)}_log.txt'],\n",
        "    )\n",
        "\n",
        "def simulation_run(param_values):\n",
        "    n_runs = len(param_values)\n",
        "    print('Launching {} scenarios'.format(n_runs))\n",
        "\n",
        "    with ThreadPool() as p:\n",
        "        p. map(launch_scenario, range(n_runs))\n",
        "\n",
        "    print()"
      ]
    },
    {
      "cell_type": "code",
      "source": [
        "simulation_run(param_values=param_values)"
      ],
      "metadata": {
        "colab": {
          "base_uri": "https://localhost:8080/",
          "height": 304
        },
        "id": "rgmEJsBq7Cyl",
        "outputId": "10403c18-c41c-4a20-a279-8d53114a2d2f"
      },
      "execution_count": 22,
      "outputs": [
        {
          "output_type": "stream",
          "name": "stdout",
          "text": [
            "Launching 50 scenarios\n"
          ]
        },
        {
          "output_type": "error",
          "ename": "KeyboardInterrupt",
          "evalue": "",
          "traceback": [
            "\u001b[0;31m---------------------------------------------------------------------------\u001b[0m",
            "\u001b[0;31mKeyboardInterrupt\u001b[0m                         Traceback (most recent call last)",
            "\u001b[0;32m<ipython-input-22-78d65c7b93c5>\u001b[0m in \u001b[0;36m<cell line: 0>\u001b[0;34m()\u001b[0m\n\u001b[0;32m----> 1\u001b[0;31m \u001b[0msimulation_run\u001b[0m\u001b[0;34m(\u001b[0m\u001b[0mparam_values\u001b[0m\u001b[0;34m=\u001b[0m\u001b[0mparam_values\u001b[0m\u001b[0;34m)\u001b[0m\u001b[0;34m\u001b[0m\u001b[0;34m\u001b[0m\u001b[0m\n\u001b[0m",
            "\u001b[0;32m<ipython-input-21-b5dfaa409976>\u001b[0m in \u001b[0;36msimulation_run\u001b[0;34m(param_values)\u001b[0m\n\u001b[1;32m     14\u001b[0m \u001b[0;34m\u001b[0m\u001b[0m\n\u001b[1;32m     15\u001b[0m     \u001b[0;32mwith\u001b[0m \u001b[0mThreadPool\u001b[0m\u001b[0;34m(\u001b[0m\u001b[0;34m)\u001b[0m \u001b[0;32mas\u001b[0m \u001b[0mp\u001b[0m\u001b[0;34m:\u001b[0m\u001b[0;34m\u001b[0m\u001b[0;34m\u001b[0m\u001b[0m\n\u001b[0;32m---> 16\u001b[0;31m         \u001b[0mp\u001b[0m\u001b[0;34m.\u001b[0m \u001b[0mmap\u001b[0m\u001b[0;34m(\u001b[0m\u001b[0mlaunch_scenario\u001b[0m\u001b[0;34m,\u001b[0m \u001b[0mrange\u001b[0m\u001b[0;34m(\u001b[0m\u001b[0mn_runs\u001b[0m\u001b[0;34m)\u001b[0m\u001b[0;34m)\u001b[0m\u001b[0;34m\u001b[0m\u001b[0;34m\u001b[0m\u001b[0m\n\u001b[0m\u001b[1;32m     17\u001b[0m \u001b[0;34m\u001b[0m\u001b[0m\n\u001b[1;32m     18\u001b[0m     \u001b[0mprint\u001b[0m\u001b[0;34m(\u001b[0m\u001b[0;34m)\u001b[0m\u001b[0;34m\u001b[0m\u001b[0;34m\u001b[0m\u001b[0m\n",
            "\u001b[0;32m/usr/lib/python3.11/multiprocessing/pool.py\u001b[0m in \u001b[0;36mmap\u001b[0;34m(self, func, iterable, chunksize)\u001b[0m\n\u001b[1;32m    365\u001b[0m         \u001b[0;32min\u001b[0m \u001b[0ma\u001b[0m \u001b[0mlist\u001b[0m \u001b[0mthat\u001b[0m \u001b[0;32mis\u001b[0m \u001b[0mreturned\u001b[0m\u001b[0;34m.\u001b[0m\u001b[0;34m\u001b[0m\u001b[0;34m\u001b[0m\u001b[0m\n\u001b[1;32m    366\u001b[0m         '''\n\u001b[0;32m--> 367\u001b[0;31m         \u001b[0;32mreturn\u001b[0m \u001b[0mself\u001b[0m\u001b[0;34m.\u001b[0m\u001b[0m_map_async\u001b[0m\u001b[0;34m(\u001b[0m\u001b[0mfunc\u001b[0m\u001b[0;34m,\u001b[0m \u001b[0miterable\u001b[0m\u001b[0;34m,\u001b[0m \u001b[0mmapstar\u001b[0m\u001b[0;34m,\u001b[0m \u001b[0mchunksize\u001b[0m\u001b[0;34m)\u001b[0m\u001b[0;34m.\u001b[0m\u001b[0mget\u001b[0m\u001b[0;34m(\u001b[0m\u001b[0;34m)\u001b[0m\u001b[0;34m\u001b[0m\u001b[0;34m\u001b[0m\u001b[0m\n\u001b[0m\u001b[1;32m    368\u001b[0m \u001b[0;34m\u001b[0m\u001b[0m\n\u001b[1;32m    369\u001b[0m     \u001b[0;32mdef\u001b[0m \u001b[0mstarmap\u001b[0m\u001b[0;34m(\u001b[0m\u001b[0mself\u001b[0m\u001b[0;34m,\u001b[0m \u001b[0mfunc\u001b[0m\u001b[0;34m,\u001b[0m \u001b[0miterable\u001b[0m\u001b[0;34m,\u001b[0m \u001b[0mchunksize\u001b[0m\u001b[0;34m=\u001b[0m\u001b[0;32mNone\u001b[0m\u001b[0;34m)\u001b[0m\u001b[0;34m:\u001b[0m\u001b[0;34m\u001b[0m\u001b[0;34m\u001b[0m\u001b[0m\n",
            "\u001b[0;32m/usr/lib/python3.11/multiprocessing/pool.py\u001b[0m in \u001b[0;36mget\u001b[0;34m(self, timeout)\u001b[0m\n\u001b[1;32m    766\u001b[0m \u001b[0;34m\u001b[0m\u001b[0m\n\u001b[1;32m    767\u001b[0m     \u001b[0;32mdef\u001b[0m \u001b[0mget\u001b[0m\u001b[0;34m(\u001b[0m\u001b[0mself\u001b[0m\u001b[0;34m,\u001b[0m \u001b[0mtimeout\u001b[0m\u001b[0;34m=\u001b[0m\u001b[0;32mNone\u001b[0m\u001b[0;34m)\u001b[0m\u001b[0;34m:\u001b[0m\u001b[0;34m\u001b[0m\u001b[0;34m\u001b[0m\u001b[0m\n\u001b[0;32m--> 768\u001b[0;31m         \u001b[0mself\u001b[0m\u001b[0;34m.\u001b[0m\u001b[0mwait\u001b[0m\u001b[0;34m(\u001b[0m\u001b[0mtimeout\u001b[0m\u001b[0;34m)\u001b[0m\u001b[0;34m\u001b[0m\u001b[0;34m\u001b[0m\u001b[0m\n\u001b[0m\u001b[1;32m    769\u001b[0m         \u001b[0;32mif\u001b[0m \u001b[0;32mnot\u001b[0m \u001b[0mself\u001b[0m\u001b[0;34m.\u001b[0m\u001b[0mready\u001b[0m\u001b[0;34m(\u001b[0m\u001b[0;34m)\u001b[0m\u001b[0;34m:\u001b[0m\u001b[0;34m\u001b[0m\u001b[0;34m\u001b[0m\u001b[0m\n\u001b[1;32m    770\u001b[0m             \u001b[0;32mraise\u001b[0m \u001b[0mTimeoutError\u001b[0m\u001b[0;34m\u001b[0m\u001b[0;34m\u001b[0m\u001b[0m\n",
            "\u001b[0;32m/usr/lib/python3.11/multiprocessing/pool.py\u001b[0m in \u001b[0;36mwait\u001b[0;34m(self, timeout)\u001b[0m\n\u001b[1;32m    763\u001b[0m \u001b[0;34m\u001b[0m\u001b[0m\n\u001b[1;32m    764\u001b[0m     \u001b[0;32mdef\u001b[0m \u001b[0mwait\u001b[0m\u001b[0;34m(\u001b[0m\u001b[0mself\u001b[0m\u001b[0;34m,\u001b[0m \u001b[0mtimeout\u001b[0m\u001b[0;34m=\u001b[0m\u001b[0;32mNone\u001b[0m\u001b[0;34m)\u001b[0m\u001b[0;34m:\u001b[0m\u001b[0;34m\u001b[0m\u001b[0;34m\u001b[0m\u001b[0m\n\u001b[0;32m--> 765\u001b[0;31m         \u001b[0mself\u001b[0m\u001b[0;34m.\u001b[0m\u001b[0m_event\u001b[0m\u001b[0;34m.\u001b[0m\u001b[0mwait\u001b[0m\u001b[0;34m(\u001b[0m\u001b[0mtimeout\u001b[0m\u001b[0;34m)\u001b[0m\u001b[0;34m\u001b[0m\u001b[0;34m\u001b[0m\u001b[0m\n\u001b[0m\u001b[1;32m    766\u001b[0m \u001b[0;34m\u001b[0m\u001b[0m\n\u001b[1;32m    767\u001b[0m     \u001b[0;32mdef\u001b[0m \u001b[0mget\u001b[0m\u001b[0;34m(\u001b[0m\u001b[0mself\u001b[0m\u001b[0;34m,\u001b[0m \u001b[0mtimeout\u001b[0m\u001b[0;34m=\u001b[0m\u001b[0;32mNone\u001b[0m\u001b[0;34m)\u001b[0m\u001b[0;34m:\u001b[0m\u001b[0;34m\u001b[0m\u001b[0;34m\u001b[0m\u001b[0m\n",
            "\u001b[0;32m/usr/lib/python3.11/threading.py\u001b[0m in \u001b[0;36mwait\u001b[0;34m(self, timeout)\u001b[0m\n\u001b[1;32m    627\u001b[0m             \u001b[0msignaled\u001b[0m \u001b[0;34m=\u001b[0m \u001b[0mself\u001b[0m\u001b[0;34m.\u001b[0m\u001b[0m_flag\u001b[0m\u001b[0;34m\u001b[0m\u001b[0;34m\u001b[0m\u001b[0m\n\u001b[1;32m    628\u001b[0m             \u001b[0;32mif\u001b[0m \u001b[0;32mnot\u001b[0m \u001b[0msignaled\u001b[0m\u001b[0;34m:\u001b[0m\u001b[0;34m\u001b[0m\u001b[0;34m\u001b[0m\u001b[0m\n\u001b[0;32m--> 629\u001b[0;31m                 \u001b[0msignaled\u001b[0m \u001b[0;34m=\u001b[0m \u001b[0mself\u001b[0m\u001b[0;34m.\u001b[0m\u001b[0m_cond\u001b[0m\u001b[0;34m.\u001b[0m\u001b[0mwait\u001b[0m\u001b[0;34m(\u001b[0m\u001b[0mtimeout\u001b[0m\u001b[0;34m)\u001b[0m\u001b[0;34m\u001b[0m\u001b[0;34m\u001b[0m\u001b[0m\n\u001b[0m\u001b[1;32m    630\u001b[0m             \u001b[0;32mreturn\u001b[0m \u001b[0msignaled\u001b[0m\u001b[0;34m\u001b[0m\u001b[0;34m\u001b[0m\u001b[0m\n\u001b[1;32m    631\u001b[0m \u001b[0;34m\u001b[0m\u001b[0m\n",
            "\u001b[0;32m/usr/lib/python3.11/threading.py\u001b[0m in \u001b[0;36mwait\u001b[0;34m(self, timeout)\u001b[0m\n\u001b[1;32m    325\u001b[0m         \u001b[0;32mtry\u001b[0m\u001b[0;34m:\u001b[0m    \u001b[0;31m# restore state no matter what (e.g., KeyboardInterrupt)\u001b[0m\u001b[0;34m\u001b[0m\u001b[0;34m\u001b[0m\u001b[0m\n\u001b[1;32m    326\u001b[0m             \u001b[0;32mif\u001b[0m \u001b[0mtimeout\u001b[0m \u001b[0;32mis\u001b[0m \u001b[0;32mNone\u001b[0m\u001b[0;34m:\u001b[0m\u001b[0;34m\u001b[0m\u001b[0;34m\u001b[0m\u001b[0m\n\u001b[0;32m--> 327\u001b[0;31m                 \u001b[0mwaiter\u001b[0m\u001b[0;34m.\u001b[0m\u001b[0macquire\u001b[0m\u001b[0;34m(\u001b[0m\u001b[0;34m)\u001b[0m\u001b[0;34m\u001b[0m\u001b[0;34m\u001b[0m\u001b[0m\n\u001b[0m\u001b[1;32m    328\u001b[0m                 \u001b[0mgotit\u001b[0m \u001b[0;34m=\u001b[0m \u001b[0;32mTrue\u001b[0m\u001b[0;34m\u001b[0m\u001b[0;34m\u001b[0m\u001b[0m\n\u001b[1;32m    329\u001b[0m             \u001b[0;32melse\u001b[0m\u001b[0;34m:\u001b[0m\u001b[0;34m\u001b[0m\u001b[0;34m\u001b[0m\u001b[0m\n",
            "\u001b[0;31mKeyboardInterrupt\u001b[0m: "
          ]
        }
      ]
    },
    {
      "cell_type": "code",
      "source": [
        "def delete_log_txt(path):\n",
        "  # Specify the folder to search in\n",
        "  folder_path = Path(path)\n",
        "  file_name = \"log.txt\"\n",
        "  file_path = folder_path / file_name\n",
        "\n",
        "  # Check if the file exists and delete it\n",
        "  if file_path.is_file():\n",
        "      try:\n",
        "          file_path.unlink()\n",
        "          print(f\"File '{file_name}' deleted successfully.\")\n",
        "      except Exception as e:\n",
        "          print(f\"An error occurred while deleting the file: {e}\")\n",
        "  else:\n",
        "      print(f\"File '{file_name}' not found in '{folder_path}'.\")"
      ],
      "metadata": {
        "id": "DLyvMnjD_PuE"
      },
      "execution_count": 27,
      "outputs": []
    },
    {
      "cell_type": "code",
      "execution_count": 28,
      "metadata": {
        "id": "nOhIXm93DzDK"
      },
      "outputs": [],
      "source": [
        "# prompt: move all log files to logs folder\n",
        "import shutil\n",
        "import glob\n",
        "\n",
        "def move_log_files():\n",
        "  # Move all log files to the logs folder\n",
        "  log_files = glob.glob(\"*.txt\")  # Find all files ending with .log in the current directory\n",
        "  for log_file in log_files:\n",
        "    try:\n",
        "      shutil.move(log_file, \"logs/\")  # Move the file to the logs/ directory\n",
        "    except FileNotFoundError:\n",
        "      print(f\"Error: The 'logs' directory does not exist.\")\n",
        "    except shutil.Error as e:\n",
        "      print(f\"Error moving file {log_file}: {e}\")"
      ]
    },
    {
      "cell_type": "code",
      "execution_count": 29,
      "metadata": {
        "colab": {
          "base_uri": "https://localhost:8080/"
        },
        "id": "OIWC_106EPIE",
        "outputId": "cd64b8e8-c408-4aed-e4aa-6a5e6c0ab96f"
      },
      "outputs": [
        {
          "output_type": "stream",
          "name": "stdout",
          "text": [
            "Logs folder zipped successfully to logs.zip\n"
          ]
        }
      ],
      "source": [
        "# prompt: zip the logs folder\n",
        "\n",
        "import shutil\n",
        "import os\n",
        "\n",
        "def zip_logs():\n",
        "  # Check if the logs directory exists\n",
        "  if os.path.exists(\"logs\"):\n",
        "    try:\n",
        "      shutil.make_archive(\"logs\", \"zip\", \"logs\")\n",
        "      print(\"Logs folder zipped successfully to logs.zip\")\n",
        "    except Exception as e:\n",
        "      print(f\"Error zipping logs folder: {e}\")\n",
        "  else:\n",
        "    print(\"Error: logs folder not found.\")\n",
        "\n",
        "zip_logs()"
      ]
    },
    {
      "cell_type": "code",
      "execution_count": 30,
      "metadata": {
        "id": "xf4kwJs0d2n2"
      },
      "outputs": [],
      "source": [
        "import os\n",
        "import pandas as pd\n",
        "import matplotlib.pyplot as plt\n",
        "\n",
        "def compile_log_data():\n",
        "  log_file = \"logs\"\n",
        "  log_directory = os.path.join(os.path.expanduser('~'), f\"/content/{log_file}\")\n",
        "\n",
        "  # Get a sorted list of all .txt files in the directory\n",
        "  log_files = sorted([f for f in os.listdir(log_directory) if f.endswith('.txt')])\n",
        "\n",
        "  # Initialize a list to hold all parameter dictionaries\n",
        "  all_parameters = []\n",
        "\n",
        "  # Loop through each log file and read its contents\n",
        "  for filename in log_files:\n",
        "      log_file_path = os.path.join(log_directory, filename)\n",
        "\n",
        "      # Open the log file and read its contents\n",
        "      with open(log_file_path, 'r') as file:\n",
        "          log_contents = file.readlines()  # Read lines into a list\n",
        "\n",
        "      # Initialize a dictionary to hold parameters\n",
        "      parameters = {}\n",
        "      parameters_started = False\n",
        "      collision_detected = False  # Flag to check for collision line\n",
        "\n",
        "      # Loop through the lines to find \"6 parameters:\" and extract parameters\n",
        "      for line in log_contents:\n",
        "          if \"6 parameters:\" in line:\n",
        "              parameters_started = True  # Start reading parameters\n",
        "              continue  # Skip the line with \"6 parameters:\"\n",
        "\n",
        "          # Check for the collision line\n",
        "          if \"Collision\" in line:\n",
        "              collision_detected = True\n",
        "\n",
        "          if parameters_started:\n",
        "              # Split the line into key and value\n",
        "              if '=' in line:\n",
        "                  key, value = line.split('=')\n",
        "                  key = key.replace(' ', '')\n",
        "                  value = value.replace(' ', '')\n",
        "                  value = value.replace(\"\\n\", \"\")\n",
        "                  parameters[key.strip()] = float(value.strip())  # Store as float\n",
        "                  if key == \"EgoStartS\":\n",
        "                      parameters_started = False\n",
        "\n",
        "      # Add collision information to the parameters dictionary\n",
        "      parameters['CollisionDetected'] = collision_detected\n",
        "      parameters['Filename'] = filename  # Optionally include the filename\n",
        "\n",
        "      # Append the parameters dictionary to the list\n",
        "      all_parameters.append(parameters)\n",
        "\n",
        "  # Create a DataFrame from the list of dictionaries\n",
        "  df = pd.DataFrame(all_parameters)\n",
        "\n",
        "  # Save the DataFrame to a CSV file\n",
        "  output_file = f'{log_directory}/compiled_log_data.csv'\n",
        "  df.to_csv(output_file, index=False)\n",
        "\n",
        "  print(f\"Data saved to {output_file}\")"
      ]
    },
    {
      "cell_type": "code",
      "execution_count": 31,
      "metadata": {
        "id": "S-MEOAw3DxX7",
        "colab": {
          "base_uri": "https://localhost:8080/"
        },
        "outputId": "3351f445-7467-4f79-f819-c2dd0756d373"
      },
      "outputs": [
        {
          "output_type": "stream",
          "name": "stdout",
          "text": [
            "Folder '/content/logs' created successfully.\n",
            "File 'log.txt' deleted successfully.\n",
            "Data saved to /content/logs/compiled_log_data.csv\n"
          ]
        }
      ],
      "source": [
        "create_folder(path='/content/logs')\n",
        "delete_log_txt(path='/content')\n",
        "move_log_files()\n",
        "compile_log_data()"
      ]
    },
    {
      "cell_type": "code",
      "execution_count": null,
      "metadata": {
        "colab": {
          "base_uri": "https://localhost:8080/"
        },
        "id": "EWWJI9TKeOzk",
        "outputId": "5259d84d-dc1c-4c9d-c89e-9411ff5c3507"
      },
      "outputs": [
        {
          "name": "stdout",
          "output_type": "stream",
          "text": [
            "Sub-cube 1068 contains points from group [np.int64(0)] (original cube center: [48. 26.  5.]): [array([47.89435447, 26.37129911,  5.13096009])]\n",
            "Sub-cube 1200 contains points from group [np.int64(1)] (original cube center: [16. 26.  5.]): [array([16.87678606, 25.54547259,  5.38980978])]\n",
            "Sub-cube 94 contains points from group [np.int64(2)] (original cube center: [32. 28.  3.]): [array([32.92125721, 28.06443479,  3.1817786 ])]\n",
            "Sub-cube 1853 contains points from group [np.int64(3)] (original cube center: [42. 38.  7.]): [array([41.72067459, 38.59351544,  6.83125475])]\n",
            "Sub-cube 1246 contains points from group [np.int64(4)] (original cube center: [22. 14.  5.]): [array([21.3071283 , 14.55104468,  4.75938238])]\n",
            "Sub-cube 1145 contains points from group [np.int64(5)] (original cube center: [56. 38.  5.]): [array([56.06093177, 38.47000736,  5.13752014])]\n",
            "Sub-cube 1613 contains points from group [np.int64(6)] (original cube center: [16. 20.  6.]): [array([16.03579594, 20.79639002,  6.22368248])]\n",
            "Sub-cube 307 contains points from group [np.int64(7)] (original cube center: [56. 28.  3.]): [array([56.17014456, 27.94480357,  3.35888846])]\n",
            "Sub-cube 469 contains points from group [np.int64(8)] (original cube center: [28. 18.  4.]): [array([27.24815272, 17.45247202,  3.89104449])]\n",
            "Sub-cube 1038 contains points from group [np.int64(9)] (original cube center: [44. 38.  5.]): [array([43.62154224, 37.46798237,  5.33074471])]\n",
            "Sub-cube 857 contains points from group [np.int64(10)] (original cube center: [24. 30.  5.]): [array([24.1983301 , 30.01896998,  5.04836454])]\n",
            "Sub-cube 1451 contains points from group [np.int64(11)] (original cube center: [44. 32.  6.]): [array([43.18950004, 32.06847594,  6.25948649])]\n",
            "Sub-cube 580 contains points from group [np.int64(12)] (original cube center: [40. 26.  4.]): [array([39.64463856, 26.25240672,  4.43306498])]\n",
            "Sub-cube 1675 contains points from group [np.int64(13)] (original cube center: [22. 36.  7.]): [array([21.52258312, 35.06870416,  6.69724464])]\n",
            "Sub-cube 1429 contains points from group [np.int64(14)] (original cube center: [42. 24.  6.]): [array([42.90757875, 23.77002862,  6.00315311])]\n",
            "Sub-cube 438 contains points from group [np.int64(15)] (original cube center: [24. 24.  4.]): [array([23.34911564, 24.71247014,  4.00266676])]\n",
            "Sub-cube 686 contains points from group [np.int64(16)] (original cube center: [52. 24.  4.]): [array([51.31401423, 23.98565561,  4.15782183])]\n",
            "Sub-cube 639 contains points from group [np.int64(17)] (original cube center: [46. 34.  4.]): [array([46.76510269, 34.64629831,  4.06256962])]\n",
            "Sub-cube 213 contains points from group [np.int64(18)] (original cube center: [46. 18.  3.]): [array([46.81319865, 17.33319152,  3.18765782])]\n",
            "Sub-cube 1163 contains points from group [np.int64(19)] (original cube center: [14. 22.  5.]): [array([14.66737593, 22.27198464,  4.5514948 ])]\n",
            "Sub-cube 1524 contains points from group [np.int64(20)] (original cube center: [14. 12.  6.]): [array([14.97448152, 12.82138585,  6.22752551])]\n",
            "Sub-cube 1323 contains points from group [np.int64(21)] (original cube center: [30. 26.  6.]): [array([30.43213815, 26.57550811,  5.70593121])]\n",
            "Sub-cube 1558 contains points from group [np.int64(22)] (original cube center: [56. 32.  6.]): [array([55.44159727, 31.13828056,  6.0273612 ])]\n",
            "Sub-cube 2032 contains points from group [np.int64(23)] (original cube center: [16. 26.  7.]): [array([15.54534072, 25.19243035,  7.02723354])]\n",
            "Sub-cube 990 contains points from group [np.int64(24)] (original cube center: [40. 14.  5.]): [array([40.65286918, 14.48175909,  5.11092643])]\n",
            "Sub-cube 692 contains points from group [np.int64(25)] (original cube center: [14. 12.  4.]): [array([13.21175572, 11.95889941,  3.84379852])]\n",
            "Sub-cube 163 contains points from group [np.int64(26)] (original cube center: [40. 24.  3.]): [array([40.58249366, 24.41076451,  3.48245243])]\n",
            "Sub-cube 550 contains points from group [np.int64(27)] (original cube center: [36. 34.  4.]): [array([36.09789137, 34.19396268,  4.33329022])]\n",
            "Sub-cube 1543 contains points from group [np.int64(28)] (original cube center: [54. 38.  6.]): [array([53.67268345, 38.10823573,  6.34484569])]\n",
            "Sub-cube 560 contains points from group [np.int64(29)] (original cube center: [38. 20.  4.]): [array([38.53534049, 19.12435196,  4.19413517])]\n",
            "Sub-cube 1290 contains points from group [np.int64(30)] (original cube center: [26. 30.  6.]): [array([25.23156675, 29.31416904,  6.47188928])]\n",
            "Sub-cube 219 contains points from group [np.int64(31)] (original cube center: [46. 30.  3.]): [array([46.70263941, 30.54047307,  3.36819199])]\n",
            "Sub-cube 1384 contains points from group [np.int64(32)] (original cube center: [36. 38.  6.]): [array([35.41834465, 37.43941131,  6.05080856])]\n",
            "Sub-cube 745 contains points from group [np.int64(33)] (original cube center: [58. 36.  4.]): [array([57.18871825, 36.97013342,  4.12171652])]\n",
            "Sub-cube 72 contains points from group [np.int64(34)] (original cube center: [30. 20.  3.]): [array([29.65407789, 19.80866275,  3.04692954])]\n",
            "Sub-cube 1328 contains points from group [np.int64(35)] (original cube center: [30. 34.  6.]): [array([30.25532396, 33.23467912,  5.78934864])]\n",
            "Sub-cube 888 contains points from group [np.int64(36)] (original cube center: [28. 22.  5.]): [array([27.5264798 , 22.3480592 ,  4.91455929])]\n",
            "Sub-cube 799 contains points from group [np.int64(37)] (original cube center: [18. 20.  4.]): [array([17.54992977, 20.06960844,  3.60094903])]\n",
            "Sub-cube 1301 contains points from group [np.int64(38)] (original cube center: [28. 18.  6.]): [array([27.98071688, 18.75607848,  5.87076721])]\n",
            "Sub-cube 511 contains points from group [np.int64(39)] (original cube center: [32. 30.  4.]): [array([31.38512973, 29.06604446,  4.21033247])]\n",
            "Sub-cube 1600 contains points from group [np.int64(40)] (original cube center: [14. 28.  6.]): [array([13.88595559, 27.77685605,  6.20228088])]\n",
            "Sub-cube 981 contains points from group [np.int64(41)] (original cube center: [38. 30.  5.]): [array([38.2270392 , 30.99818672,  5.11603683])]\n",
            "Sub-cube 379 contains points from group [np.int64(42)] (original cube center: [18. 14.  3.]): [array([17.80226729, 13.79533622,  3.03349646])]\n",
            "Sub-cube 312 contains points from group [np.int64(43)] (original cube center: [56. 36.  3.]): [array([56.33918024, 35.8660458 ,  3.18496792])]\n",
            "Sub-cube 484 contains points from group [np.int64(44)] (original cube center: [30. 12.  4.]): [array([30.48308649, 12.09094612,  3.56737713])]\n",
            "Sub-cube 1141 contains points from group [np.int64(45)] (original cube center: [14. 18.  5.]): [array([13.09600636, 17.95617007,  5.29995709])]\n",
            "Sub-cube 1756 contains points from group [np.int64(46)] (original cube center: [32. 24.  7.]): [array([31.89057955, 23.51616981,  6.7536687 ])]\n",
            "Sub-cube 1780 contains points from group [np.int64(47)] (original cube center: [34. 34.  7.]): [array([34.04385609, 34.26463277,  6.82283045])]\n",
            "Sub-cube 1106 contains points from group [np.int64(48)] (original cube center: [52. 32.  5.]): [array([51.25548499, 31.86336077,  4.81675971])]\n",
            "Sub-cube 776 contains points from group [np.int64(49)] (original cube center: [10. 16.  4.]): [array([10.92232843, 15.95158455,  4.28477195])]\n",
            "after update -------------\n",
            "Sub-cube 1068 contains points from group [np.int64(0)] (original cube center: [48. 26.  5.]): [array([47.89435447, 26.37129911,  5.13096009])]\n",
            "Sub-cube 1200 contains points from group [np.int64(1)] (original cube center: [16. 26.  5.]): [array([16.87678606, 25.54547259,  5.38980978])]\n",
            "Sub-cube 94 contains points from group [np.int64(2)] (original cube center: [32. 28.  3.]): [array([32.92125721, 28.06443479,  3.1817786 ])]\n",
            "Sub-cube 1853 contains points from group [np.int64(3)] (original cube center: [42. 38.  7.]): [array([41.72067459, 38.59351544,  6.83125475])]\n",
            "Sub-cube 1246 contains points from group [np.int64(4)] (original cube center: [22. 14.  5.]): [array([21.3071283 , 14.55104468,  4.75938238])]\n",
            "Sub-cube 1145 contains points from group [np.int64(5)] (original cube center: [56. 38.  5.]): [array([56.06093177, 38.47000736,  5.13752014])]\n",
            "Sub-cube 1613 contains points from group [np.int64(6)] (original cube center: [16. 20.  6.]): [array([16.03579594, 20.79639002,  6.22368248])]\n",
            "Sub-cube 307 contains points from group [np.int64(7)] (original cube center: [56. 28.  3.]): [array([56.17014456, 27.94480357,  3.35888846])]\n",
            "Sub-cube 469 contains points from group [np.int64(8)] (original cube center: [28. 18.  4.]): [array([27.24815272, 17.45247202,  3.89104449])]\n",
            "Sub-cube 1038 contains points from group [np.int64(9)] (original cube center: [44. 38.  5.]): [array([43.62154224, 37.46798237,  5.33074471])]\n",
            "Sub-cube 857 contains points from group [np.int64(10)] (original cube center: [24. 30.  5.]): [array([24.1983301 , 30.01896998,  5.04836454])]\n",
            "Sub-cube 1451 contains points from group [np.int64(11)] (original cube center: [44. 32.  6.]): [array([43.18950004, 32.06847594,  6.25948649])]\n",
            "Sub-cube 580 contains points from group [np.int64(12)] (original cube center: [40. 26.  4.]): [array([39.64463856, 26.25240672,  4.43306498])]\n",
            "Sub-cube 1675 contains points from group [np.int64(13)] (original cube center: [22. 36.  7.]): [array([21.52258312, 35.06870416,  6.69724464])]\n",
            "Sub-cube 1429 contains points from group [np.int64(14)] (original cube center: [42. 24.  6.]): [array([42.90757875, 23.77002862,  6.00315311])]\n",
            "Sub-cube 438 contains points from group [np.int64(15)] (original cube center: [24. 24.  4.]): [array([23.34911564, 24.71247014,  4.00266676])]\n",
            "Sub-cube 686 contains points from group [np.int64(16)] (original cube center: [52. 24.  4.]): [array([51.31401423, 23.98565561,  4.15782183])]\n",
            "Sub-cube 639 contains points from group [np.int64(17)] (original cube center: [46. 34.  4.]): [array([46.76510269, 34.64629831,  4.06256962])]\n",
            "Sub-cube 213 contains points from group [np.int64(18)] (original cube center: [46. 18.  3.]): [array([46.81319865, 17.33319152,  3.18765782])]\n",
            "Sub-cube 1163 contains points from group [np.int64(19)] (original cube center: [14. 22.  5.]): [array([14.66737593, 22.27198464,  4.5514948 ])]\n",
            "Sub-cube 1524 contains points from group [np.int64(20)] (original cube center: [14. 12.  6.]): [array([14.97448152, 12.82138585,  6.22752551])]\n",
            "Sub-cube 1323 contains points from group [np.int64(21)] (original cube center: [30. 26.  6.]): [array([30.43213815, 26.57550811,  5.70593121])]\n",
            "Sub-cube 1558 contains points from group [np.int64(22)] (original cube center: [56. 32.  6.]): [array([55.44159727, 31.13828056,  6.0273612 ])]\n",
            "Sub-cube 2032 contains points from group [np.int64(23)] (original cube center: [16. 26.  7.]): [array([15.54534072, 25.19243035,  7.02723354])]\n",
            "Sub-cube 990 contains points from group [np.int64(24)] (original cube center: [40. 14.  5.]): [array([40.65286918, 14.48175909,  5.11092643])]\n",
            "Sub-cube 692 contains points from group [np.int64(25)] (original cube center: [14. 12.  4.]): [array([13.21175572, 11.95889941,  3.84379852])]\n",
            "Sub-cube 163 contains points from group [np.int64(26)] (original cube center: [40. 24.  3.]): [array([40.58249366, 24.41076451,  3.48245243])]\n",
            "Sub-cube 550 contains points from group [np.int64(27)] (original cube center: [36. 34.  4.]): [array([36.09789137, 34.19396268,  4.33329022])]\n",
            "Sub-cube 1543 contains points from group [np.int64(28)] (original cube center: [54. 38.  6.]): [array([53.67268345, 38.10823573,  6.34484569])]\n",
            "Sub-cube 560 contains points from group [np.int64(29)] (original cube center: [38. 20.  4.]): [array([38.53534049, 19.12435196,  4.19413517])]\n",
            "Sub-cube 1290 contains points from group [np.int64(30)] (original cube center: [26. 30.  6.]): [array([25.23156675, 29.31416904,  6.47188928])]\n",
            "Sub-cube 219 contains points from group [np.int64(31)] (original cube center: [46. 30.  3.]): [array([46.70263941, 30.54047307,  3.36819199])]\n",
            "Sub-cube 1384 contains points from group [np.int64(32)] (original cube center: [36. 38.  6.]): [array([35.41834465, 37.43941131,  6.05080856])]\n",
            "Sub-cube 745 contains points from group [np.int64(33)] (original cube center: [58. 36.  4.]): [array([57.18871825, 36.97013342,  4.12171652])]\n",
            "Sub-cube 72 contains points from group [np.int64(34)] (original cube center: [30. 20.  3.]): [array([29.65407789, 19.80866275,  3.04692954])]\n",
            "Sub-cube 1328 contains points from group [np.int64(35)] (original cube center: [30. 34.  6.]): [array([30.25532396, 33.23467912,  5.78934864])]\n",
            "Sub-cube 888 contains points from group [np.int64(36)] (original cube center: [28. 22.  5.]): [array([27.5264798 , 22.3480592 ,  4.91455929])]\n",
            "Sub-cube 799 contains points from group [np.int64(37)] (original cube center: [18. 20.  4.]): [array([17.54992977, 20.06960844,  3.60094903])]\n",
            "Sub-cube 1301 contains points from group [np.int64(38)] (original cube center: [28. 18.  6.]): [array([27.98071688, 18.75607848,  5.87076721])]\n",
            "Sub-cube 511 contains points from group [np.int64(39)] (original cube center: [32. 30.  4.]): [array([31.38512973, 29.06604446,  4.21033247])]\n",
            "Sub-cube 1600 contains points from group [np.int64(40)] (original cube center: [14. 28.  6.]): [array([13.88595559, 27.77685605,  6.20228088])]\n",
            "Sub-cube 981 contains points from group [np.int64(41)] (original cube center: [38. 30.  5.]): [array([38.2270392 , 30.99818672,  5.11603683])]\n",
            "Sub-cube 379 contains points from group [np.int64(42)] (original cube center: [18. 14.  3.]): [array([17.80226729, 13.79533622,  3.03349646])]\n",
            "Sub-cube 312 contains points from group [np.int64(43)] (original cube center: [56. 36.  3.]): [array([56.33918024, 35.8660458 ,  3.18496792])]\n",
            "Sub-cube 484 contains points from group [np.int64(44)] (original cube center: [30. 12.  4.]): [array([30.48308649, 12.09094612,  3.56737713])]\n",
            "Sub-cube 1141 contains points from group [np.int64(45)] (original cube center: [14. 18.  5.]): [array([13.09600636, 17.95617007,  5.29995709])]\n",
            "Sub-cube 1756 contains points from group [np.int64(46)] (original cube center: [32. 24.  7.]): [array([31.89057955, 23.51616981,  6.7536687 ])]\n",
            "Sub-cube 1780 contains points from group [np.int64(47)] (original cube center: [34. 34.  7.]): [array([34.04385609, 34.26463277,  6.82283045])]\n",
            "Sub-cube 1106 contains points from group [np.int64(48)] (original cube center: [52. 32.  5.]): [array([51.25548499, 31.86336077,  4.81675971])]\n",
            "Sub-cube 776 contains points from group [np.int64(49)] (original cube center: [10. 16.  4.]): [array([10.92232843, 15.95158455,  4.28477195])]\n",
            "Number of unique sub-cubes: 50\n",
            "Sub-cube 72 already has points assigned\n",
            "Sub-cube 94 already has points assigned\n",
            "Sub-cube 163 already has points assigned\n",
            "Sub-cube 213 already has points assigned\n",
            "Sub-cube 219 already has points assigned\n",
            "Sub-cube 307 already has points assigned\n",
            "Sub-cube 312 already has points assigned\n",
            "Sub-cube 379 already has points assigned\n",
            "Sub-cube 438 already has points assigned\n",
            "Sub-cube 469 already has points assigned\n",
            "Sub-cube 484 already has points assigned\n",
            "Sub-cube 511 already has points assigned\n",
            "Sub-cube 550 already has points assigned\n",
            "Sub-cube 560 already has points assigned\n",
            "Sub-cube 580 already has points assigned\n",
            "Sub-cube 639 already has points assigned\n",
            "Sub-cube 686 already has points assigned\n",
            "Sub-cube 692 already has points assigned\n",
            "Sub-cube 745 already has points assigned\n",
            "Sub-cube 776 already has points assigned\n",
            "Sub-cube 799 already has points assigned\n",
            "Sub-cube 857 already has points assigned\n",
            "Sub-cube 888 already has points assigned\n",
            "Sub-cube 981 already has points assigned\n",
            "Sub-cube 990 already has points assigned\n",
            "Sub-cube 1038 already has points assigned\n",
            "Sub-cube 1068 already has points assigned\n",
            "Sub-cube 1106 already has points assigned\n",
            "Sub-cube 1141 already has points assigned\n",
            "Sub-cube 1145 already has points assigned\n",
            "Sub-cube 1163 already has points assigned\n",
            "Sub-cube 1200 already has points assigned\n",
            "Sub-cube 1246 already has points assigned\n",
            "Sub-cube 1290 already has points assigned\n",
            "Sub-cube 1301 already has points assigned\n",
            "Sub-cube 1323 already has points assigned\n",
            "Sub-cube 1328 already has points assigned\n",
            "Sub-cube 1384 already has points assigned\n",
            "Sub-cube 1429 already has points assigned\n",
            "Sub-cube 1451 already has points assigned\n",
            "Sub-cube 1524 already has points assigned\n",
            "Sub-cube 1543 already has points assigned\n",
            "Sub-cube 1558 already has points assigned\n",
            "Sub-cube 1600 already has points assigned\n",
            "Sub-cube 1613 already has points assigned\n",
            "Sub-cube 1675 already has points assigned\n",
            "Sub-cube 1756 already has points assigned\n",
            "Sub-cube 1780 already has points assigned\n",
            "Sub-cube 1853 already has points assigned\n",
            "Sub-cube 2032 already has points assigned\n",
            "Number of unique sub-cubes: 2080\n",
            "Number of total sub cubes: 2080\n",
            "Metric:92.59615384615385\n"
          ]
        }
      ],
      "source": [
        "import numpy as np\n",
        "import pandas as pd\n",
        "from sim_loop.evaluation.cube_based_evaluation import CubeBasedEvaluation, fail_ratio\n",
        "\n",
        "#Load GT data:\n",
        "gt_cubes_sizes = np.load('/content/sim_loop/evaluation/gt_analysis/data/gt_cube_sizes.npy')\n",
        "gt_pass_fail = np.load('/content/sim_loop/evaluation/gt_analysis/data/gt_pass_fail.npy')\n",
        "gt_sub_cube_centers = np.load('/content/sim_loop/evaluation/gt_analysis/data/gt_sub_cube_centers.npy')\n",
        "\n",
        "# Order the sim log to align the order of the simulation runs with the param values (test case values)\n",
        "df_sim = pd.read_csv('/content/logs/compiled_log_data.csv')\n",
        "df_sim['FileNumber'] = df_sim['Filename'].str.extract(r'(\\d+)').astype(int) # Extract the first value from the Filename\n",
        "result = df_sim[['FileNumber', 'CollisionDetected']]\n",
        "ordered_sim_logs = result.sort_values(by='FileNumber')\n",
        "ordered_sim_logs.reset_index(drop=True, inplace=True)\n",
        "pass_fail_logs = ordered_sim_logs['CollisionDetected'].to_numpy()\n",
        "\n",
        "points = points\n",
        "groups = adapted_kmeans_labels.astype(int)\n",
        "param_values = param_values\n",
        "\n",
        "#print(groups)\n",
        "#print(param_values[:,0]) # -> s_delta\n",
        "\n",
        "pass_fail_points = np.zeros(len(groups))\n",
        "for i in range(len(groups)):\n",
        "    group = groups[i]\n",
        "    pass_fail_points[i] = pass_fail_logs[group]\n",
        "\n",
        "pass_fail = pass_fail_points.astype(bool)\n",
        "\n",
        "#print(pass_fail_points)\n",
        "\n",
        "#alternative\n",
        "points = param_values\n",
        "pass_fail = pass_fail_logs\n",
        "groups = np.arange(len(param_values))\n",
        "\n",
        "#Compare\n",
        "comparison_gt_evaluation = CubeBasedEvaluation(gt_cube_sizes=gt_cubes_sizes,\n",
        "                                            gt_sub_cube_centers=gt_sub_cube_centers,\n",
        "                                            gt_pass_fail=gt_pass_fail)\n",
        "sub_cubes_with_points = comparison_gt_evaluation.evaluate_gt_cubes_based_on_eval_points(points=points,\n",
        "                                                                                        groups=groups,\n",
        "                                                                                        pass_fail=pass_fail)\n",
        "\n",
        "sub_cubes_with_points = comparison_gt_evaluation.assign_all_sub_cubes(sub_cubes_with_points=sub_cubes_with_points,\n",
        "                                                                    points=points,\n",
        "                                                                    groups=groups,\n",
        "                                                                    pass_fail=pass_fail)\n",
        "\n",
        "#comparison_gt_evaluation.plot_cubes(sub_cubes_with_points=sub_cubes_with_points,\n",
        "#                                  points=points)\n",
        "\n",
        "metric = comparison_gt_evaluation.calculate_comparison_metric(sub_cubes_with_points=sub_cubes_with_points)\n",
        "gt_fail_ratio = fail_ratio(gt_pass_fail)\n",
        "eval_fail_ratio = fail_ratio(np.array(pass_fail))\n",
        "fail_ratio_difference = (fail_ratio(gt_pass_fail)-fail_ratio(np.array(pass_fail)))*100\n",
        "abs_fail_ratio_difference = np.abs(fail_ratio_difference)\n",
        "number_of_test_cases = len(param_values[:,0])\n",
        "\n",
        "print(f'Metric:{metric}')\n",
        "\n"
      ]
    },
    {
      "cell_type": "code",
      "execution_count": null,
      "metadata": {
        "id": "kabFG65KgYFG"
      },
      "outputs": [],
      "source": [
        "np.save('/content/points.npy', points)\n",
        "np.save('/content/adapted_kmeans_labels.npy', adapted_kmeans_labels)\n",
        "np.save('/content/param_values.npy', param_values)"
      ]
    },
    {
      "cell_type": "code",
      "execution_count": null,
      "metadata": {
        "id": "LjxkbD4h0ujk"
      },
      "outputs": [],
      "source": [
        "%rm -r logs\n",
        "%rm -r sim_loop/scenarios/variance_bounded"
      ]
    },
    {
      "cell_type": "code",
      "execution_count": null,
      "metadata": {
        "id": "kfDKScPWwJ-F"
      },
      "outputs": [],
      "source": [
        "# for looping this (or even parallelize it?)\n",
        "    # decide which prior to use\n",
        "    # generate test case with variance bounded method\n",
        "    # generate folder for scenarios\n",
        "    # generate scenarios (based on test cases)\n",
        "    # simulate test cases\n",
        "    # create folder for logs\n",
        "    # move logs to folder\n",
        "    # create csv out of logs\n",
        "    # calculate metric\n",
        "    # store in dictionary - additionally using the prior paramters\n",
        "    # remove folder with logs\n",
        "    # remove folder with scenarios"
      ]
    }
  ],
  "metadata": {
    "colab": {
      "provenance": []
    },
    "kernelspec": {
      "display_name": "Python 3",
      "name": "python3"
    },
    "language_info": {
      "codemirror_mode": {
        "name": "ipython",
        "version": 3
      },
      "file_extension": ".py",
      "mimetype": "text/x-python",
      "name": "python",
      "nbconvert_exporter": "python",
      "pygments_lexer": "ipython3",
      "version": "3.10.12"
    }
  },
  "nbformat": 4,
  "nbformat_minor": 0
}