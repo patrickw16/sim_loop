{
  "cells": [
    {
      "cell_type": "code",
      "execution_count": 1,
      "metadata": {
        "colab": {
          "base_uri": "https://localhost:8080/"
        },
        "id": "vjldM5bAXmgN",
        "outputId": "871f011b-53b4-4654-bf4e-c11690505f6a"
      },
      "outputs": [
        {
          "output_type": "stream",
          "name": "stdout",
          "text": [
            "Mounted at /content/drive\n"
          ]
        }
      ],
      "source": [
        "from google.colab import drive\n",
        "drive.mount('/content/drive')"
      ]
    },
    {
      "cell_type": "code",
      "execution_count": 2,
      "metadata": {
        "id": "5ccNKFkEXnMw"
      },
      "outputs": [],
      "source": [
        "%%capture\n",
        "!cp -r /content/drive/MyDrive/esmini.zip /content/esmini.zip\n",
        "!unzip /content/esmini.zip"
      ]
    },
    {
      "cell_type": "code",
      "execution_count": 3,
      "metadata": {
        "collapsed": true,
        "id": "bSykfRrWZtJc"
      },
      "outputs": [],
      "source": [
        "%%capture\n",
        "!apt-get install -y xvfb x11-utils\n",
        "!pip install ultralytics"
      ]
    },
    {
      "cell_type": "code",
      "execution_count": 4,
      "metadata": {
        "colab": {
          "base_uri": "https://localhost:8080/"
        },
        "id": "yeFE0bhYcP6O",
        "outputId": "6c5b9c07-dcc8-4001-a088-2483e684cec8"
      },
      "outputs": [
        {
          "output_type": "stream",
          "name": "stdout",
          "text": [
            "Starting virtual X frame buffer: Xvfb.\n"
          ]
        }
      ],
      "source": [
        "import sys, os\n",
        "!wget -q https://raw.githubusercontent.com/yandexdataschool/Practical_RL/master/xvfb -O ../xvfb\n",
        "if type(os.environ.get(\"DISPLAY\")) is not str or len(os.environ.get(\"DISPLAY\")) == 0:\n",
        "    !bash ../xvfb start\n",
        "    os.environ['DISPLAY'] = ':1'\n",
        "!cp -r /content/drive/MyDrive/xvfb /content/xvfb\n",
        "!chmod 755 /content/xvfb"
      ]
    },
    {
      "cell_type": "code",
      "execution_count": null,
      "metadata": {
        "id": "wPA0z77VL8Oj"
      },
      "outputs": [],
      "source": [
        "%rm -r sim_loop"
      ]
    },
    {
      "cell_type": "code",
      "execution_count": 5,
      "metadata": {
        "colab": {
          "base_uri": "https://localhost:8080/"
        },
        "collapsed": true,
        "id": "w61l2pIgcESX",
        "outputId": "4c18c5e0-eb8f-4d0c-da7e-f1e83b13f75f"
      },
      "outputs": [
        {
          "output_type": "stream",
          "name": "stdout",
          "text": [
            "Starting virtual X frame buffer: Xvfb.\n",
            "/content/esmini\n",
            "/content\n",
            "Cloning into 'sim_loop'...\n",
            "remote: Enumerating objects: 3585, done.\u001b[K\n",
            "remote: Counting objects: 100% (537/537), done.\u001b[K\n",
            "remote: Compressing objects: 100% (101/101), done.\u001b[K\n",
            "remote: Total 3585 (delta 462), reused 493 (delta 435), pack-reused 3048 (from 1)\u001b[K\n",
            "Receiving objects: 100% (3585/3585), 87.16 MiB | 31.69 MiB/s, done.\n",
            "Resolving deltas: 100% (3111/3111), done.\n",
            "Updating files: 100% (3322/3322), done.\n"
          ]
        }
      ],
      "source": [
        "!/content/xvfb start\n",
        "%cd /content/esmini\n",
        "!chmod 755 bin/esmini\n",
        "%cd /content\n",
        "!git clone https://github.com/patrickw16/sim_loop.git"
      ]
    },
    {
      "cell_type": "code",
      "execution_count": 6,
      "metadata": {
        "id": "fUGGwFUSYLXh",
        "outputId": "bbf0b62a-c4b7-41e0-ec51-d544bf662fce",
        "colab": {
          "base_uri": "https://localhost:8080/"
        }
      },
      "outputs": [
        {
          "output_type": "stream",
          "name": "stdout",
          "text": [
            "Cloning into 'odd_coverage'...\n",
            "remote: Enumerating objects: 2809, done.\u001b[K\n",
            "remote: Counting objects: 100% (51/51), done.\u001b[K\n",
            "remote: Compressing objects: 100% (40/40), done.\u001b[K\n",
            "remote: Total 2809 (delta 26), reused 28 (delta 11), pack-reused 2758 (from 1)\u001b[K\n",
            "Receiving objects: 100% (2809/2809), 44.42 MiB | 19.41 MiB/s, done.\n",
            "Resolving deltas: 100% (2232/2232), done.\n",
            "Updating files: 100% (4838/4838), done.\n",
            "/content/odd_coverage\n",
            "Branch 'ThreeDimensional' set up to track remote branch 'ThreeDimensional' from 'origin'.\n",
            "Switched to a new branch 'ThreeDimensional'\n",
            "/content\n"
          ]
        }
      ],
      "source": [
        "#!git clone ........\n",
        "%cd odd_coverage\n",
        "!git checkout ThreeDimensional\n",
        "%cd /content"
      ]
    },
    {
      "cell_type": "code",
      "execution_count": 7,
      "metadata": {
        "id": "eIWXbXVjYLXi"
      },
      "outputs": [],
      "source": [
        "%%capture\n",
        "!sudo apt install texlive texlive-latex-extra texlive-fonts-recommended dvipng\n",
        "!pip install latex\n",
        "!sudo apt install cm-super"
      ]
    },
    {
      "cell_type": "code",
      "execution_count": 8,
      "metadata": {
        "id": "xgv53AlBYLXk",
        "outputId": "8e5e6a61-0249-4dc9-b93c-8ca93ff2c816",
        "colab": {
          "base_uri": "https://localhost:8080/",
          "height": 1000
        }
      },
      "outputs": [
        {
          "output_type": "stream",
          "name": "stdout",
          "text": [
            "I will break since no more clusters in red zone.\n",
            "I successfully finished. There are 1 successful attempts.\n",
            "Gradient:-1.0798281050662586\n",
            "b value:0.033912528587782695\n",
            "[[31.31618263 35.55256677  5.34922418]\n",
            " [36.07229013 18.7311953   5.75807682]\n",
            " [35.37788607 37.97893394  3.38969491]\n",
            " [23.88133293 13.55377078  3.11677078]\n",
            " [47.60499261 38.259354    5.54573468]\n",
            " [46.71404365 24.26483263  3.83262013]\n",
            " [15.52177834 23.61945808  4.98484037]\n",
            " [54.34505805 36.10387378  6.81437799]\n",
            " [25.39184142 16.56233964  5.06776673]\n",
            " [57.14562558 17.75401787  4.49424078]\n",
            " [15.6612206  28.83022978  3.508375  ]\n",
            " [19.72114235 34.97227903  6.93526824]\n",
            " [27.92512598 21.44350131  4.05476602]\n",
            " [37.77970551 33.55686853  4.42933728]\n",
            " [42.60638171 27.81535489  5.40694312]\n",
            " [55.59064121 28.10767478  3.33202205]\n",
            " [16.49835629 12.39305972  6.15422502]\n",
            " [24.12271882 12.38620605  4.08644873]\n",
            " [21.41087511 36.09577192  4.13659624]\n",
            " [51.16404853 13.17865679  5.45436448]\n",
            " [14.90101852 27.07790732  6.52042523]\n",
            " [43.80825872 24.58000322  6.70354175]\n",
            " [48.18420497 34.99599146  3.99834212]\n",
            " [30.40733499 29.57915331  6.72866186]\n",
            " [38.93593965 11.80273884  3.57180723]\n",
            " [41.48775903 33.58230798  6.29048916]\n",
            " [24.48479737 22.80251155  3.20784431]\n",
            " [12.87407655 12.53921879  4.56858064]\n",
            " [54.0379943  31.37738688  5.87719749]\n",
            " [28.18092214 26.21270268  5.8705521 ]\n",
            " [54.63031113 14.89430314  3.39186015]\n",
            " [13.55676518 31.20499366  4.97517562]\n",
            " [42.33689512 18.44933271  3.05896195]\n",
            " [16.70814222 36.42824054  5.8969203 ]\n",
            " [57.10582167 24.38356869  6.14076729]\n",
            " [57.7240806  36.06181397  4.86321386]\n",
            " [32.29566141 13.21426745  6.61909368]\n",
            " [15.36441594 19.04896029  5.77915804]\n",
            " [13.52601147 18.87921851  3.78257739]\n",
            " [22.00519818 20.57321335  6.77609805]\n",
            " [55.37922032 28.11500027  4.58414209]\n",
            " [35.26928942 11.54480591  5.17655826]\n",
            " [57.47733954 37.56511967  3.51006111]\n",
            " [41.09715949 16.59494966  4.32739631]\n",
            " [50.54688696 15.81027136  6.54059969]\n",
            " [48.54342214 20.81018824  5.18120578]\n",
            " [37.8597855  23.93200072  4.48686953]\n",
            " [27.65327382 27.92275744  4.71964135]\n",
            " [37.76868579 29.81334327  3.26281478]\n",
            " [32.75338931 38.63377417  6.60104509]]\n"
          ]
        },
        {
          "output_type": "display_data",
          "data": {
            "text/plain": [
              "<Figure size 1000x1000 with 1 Axes>"
            ],
            "image/png": "[encoded data removed]"
          },
          "metadata": {}
        }
      ],
      "source": [
        "# Generate variance bounded test cases\n",
        "import numpy as np\n",
        "from PIL import Image\n",
        "from IPython.core.display import SVG\n",
        "from sim_loop.evaluation.cube_based_evaluation import CubeBasedEvaluation\n",
        "from odd_coverage.odd_coverage.coverage_param_lvl.coverage_param_lvl import CoverageParamLvl\n",
        "\n",
        "#Generate evaluation points:\n",
        "my_coverage_param = CoverageParamLvl(\n",
        "                    number_of_test_values=50,\n",
        "                    trace_epsilon=0.0075,\n",
        "                    epsilon_buffer=0.005,\n",
        "                    number_of_attempts=1,\n",
        "                    combined_points_data_path='./sim_loop/evaluation/variance_bounded_testing_method/data/prior_points_s_delta_v_delta_ego_max_dec.npy')\n",
        "\n",
        "param_values, cov_contribution, updated_cluster_traces, adapted_kmeans_labels, re_sampled_scaled, scaler, weighted_within_variance = my_coverage_param.get_optimised_values(plot_path='/content/var_poc_3d_example.svg')\n",
        "\n",
        "print(param_values)\n",
        "\n",
        "points = scaler.inverse_transform(re_sampled_scaled)\n",
        "\n",
        "#SVG(filename='/content/var_poc_3d_example.svg')"
      ]
    },
    {
      "cell_type": "code",
      "execution_count": 9,
      "metadata": {
        "id": "pvy38ZpjYLXl"
      },
      "outputs": [],
      "source": [
        "# Generate scenarios\n",
        "from sim_loop.evaluation.variance_bounded_testing_method.simulation.parameter_set_generation import modify_xml\n",
        "\n",
        "for idx, parameter in enumerate(param_values):\n",
        "\n",
        "    input_file = '/content/sim_loop/scenarios/cut-in.xosc'  # Replace with your input file path\n",
        "    output_file = f'/content/sim_loop/scenarios/variance_bounded/{idx}_cut-in.xosc'  # Replace with your desired output file path\n",
        "    new_s_delta = param_values[idx, 0]  # New value for s_delta\n",
        "    new_v_delta = param_values[idx, 1]  # New value for v_delta\n",
        "\n",
        "    modify_xml(input_file, output_file, new_s_delta, new_v_delta)"
      ]
    },
    {
      "cell_type": "code",
      "execution_count": 17,
      "metadata": {
        "id": "m6Mp_0agYLXm",
        "outputId": "0f2ba1ae-1ba4-4df4-e8e8-07d53e8ab87a",
        "colab": {
          "base_uri": "https://localhost:8080/"
        }
      },
      "outputs": [
        {
          "output_type": "stream",
          "name": "stdout",
          "text": [
            "Launched: 0/50 Done: 0\r\n"
          ]
        }
      ],
      "source": [
        "from multiprocessing.pool import ThreadPool\n",
        "import subprocess\n",
        "import sys\n",
        "import os.path\n",
        "\n",
        "# globals\n",
        "launched = 0\n",
        "done = 0\n",
        "n_runs = 0\n",
        "\n",
        "def print_status():\n",
        "    print('Launched: {}/{} Done: {}'.format(launched, n_runs, done), end='\\r', flush=True)\n",
        "\n",
        "def launch_scenario(index):\n",
        "    global launched\n",
        "    global done\n",
        "    launched += 1\n",
        "    print_status()\n",
        "    #p = subprocess.run(\n",
        "    #    ['python', '/content/sim_loop/evaluation/variance_bounded_testing_method/simulation/variance_bounded_colab_execution.py'] + [f'--osc /content/sim_loop/scenarios/variance_bounded/{str(index)}_cut-in.xosc'] + ['--fixed_timestep 0.05'] + ['--headless'] + ['--window 60 60 800 400'] + [f'--logfile_path ../{str(index)}_log.txt'] + [str(param_values[idx,2])],\n",
        "    #    stdout=subprocess.DEVNULL\n",
        "    #)\n",
        "    p = subprocess.run(\n",
        "        ['python', '/content/sim_loop/evaluation/variance_bounded_testing_method/simulation/variance_bounded_colab_execution.py'] + ['--osc /content/sim_loop/scenarios/cut-in.xosc'] + ['--fixed_timestep 0.05']\n",
        "    )\n",
        "    done += 1\n",
        "    print_status()\n",
        "\n",
        "\n",
        "if __name__ == '__main__':\n",
        "\n",
        "    n_runs = len(param_values)\n",
        "    print_status()\n",
        "\n",
        "    #with ThreadPool() as p:\n",
        "    #    p. map(launch_scenario, range(n_runs))\n",
        "\n",
        "    subprocess.run(['python', '/content/sim_loop/evaluation/variance_bounded_testing_method/simulation/variance_bounded_colab_execution.py'] + ['--osc /content/sim_loop/scenarios/cut-in.xosc'])\n",
        "\n",
        "    print()"
      ]
    },
    {
      "cell_type": "code",
      "execution_count": null,
      "metadata": {
        "id": "25CHPhPLYLXo"
      },
      "outputs": [],
      "source": [
        "# analyze logs and store results"
      ]
    },
    {
      "cell_type": "code",
      "execution_count": null,
      "metadata": {
        "id": "S-MEOAw3DxX7"
      },
      "outputs": [],
      "source": [
        "%mkdir logs"
      ]
    },
    {
      "cell_type": "code",
      "execution_count": null,
      "metadata": {
        "id": "nOhIXm93DzDK"
      },
      "outputs": [],
      "source": [
        "# prompt: move all log files to logs folder\n",
        "\n",
        "import shutil\n",
        "import glob\n",
        "\n",
        "# Move all log files to the logs folder\n",
        "log_files = glob.glob(\"*.txt\")  # Find all files ending with .log in the current directory\n",
        "for log_file in log_files:\n",
        "  try:\n",
        "    shutil.move(log_file, \"logs/\")  # Move the file to the logs/ directory\n",
        "  except FileNotFoundError:\n",
        "    print(f\"Error: The 'logs' directory does not exist.\")\n",
        "  except shutil.Error as e:\n",
        "    print(f\"Error moving file {log_file}: {e}\")"
      ]
    },
    {
      "cell_type": "code",
      "execution_count": null,
      "metadata": {
        "id": "LjxkbD4h0ujk"
      },
      "outputs": [],
      "source": [
        "%rm -r logs_old"
      ]
    },
    {
      "cell_type": "code",
      "execution_count": null,
      "metadata": {
        "colab": {
          "base_uri": "https://localhost:8080/"
        },
        "id": "OIWC_106EPIE",
        "outputId": "a762d888-e3ae-4a60-a507-5dddae5f3bcd"
      },
      "outputs": [
        {
          "name": "stdout",
          "output_type": "stream",
          "text": [
            "Logs folder zipped successfully to logs.zip\n"
          ]
        }
      ],
      "source": [
        "# prompt: zip the logs folder\n",
        "\n",
        "import shutil\n",
        "import os\n",
        "\n",
        "def zip_logs():\n",
        "  # Check if the logs directory exists\n",
        "  if os.path.exists(\"logs\"):\n",
        "    try:\n",
        "      shutil.make_archive(\"logs\", \"zip\", \"logs\")\n",
        "      print(\"Logs folder zipped successfully to logs.zip\")\n",
        "    except Exception as e:\n",
        "      print(f\"Error zipping logs folder: {e}\")\n",
        "  else:\n",
        "    print(\"Error: logs folder not found.\")\n",
        "\n",
        "zip_logs()"
      ]
    }
  ],
  "metadata": {
    "colab": {
      "provenance": []
    },
    "kernelspec": {
      "display_name": "Python 3",
      "name": "python3"
    },
    "language_info": {
      "codemirror_mode": {
        "name": "ipython",
        "version": 3
      },
      "file_extension": ".py",
      "mimetype": "text/x-python",
      "name": "python",
      "nbconvert_exporter": "python",
      "pygments_lexer": "ipython3",
      "version": "3.10.12"
    }
  },
  "nbformat": 4,
  "nbformat_minor": 0
}