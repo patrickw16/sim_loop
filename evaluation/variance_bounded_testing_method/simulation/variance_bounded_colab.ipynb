{
  "cells": [
    {
      "cell_type": "code",
      "execution_count": 1,
      "metadata": {
        "colab": {
          "base_uri": "https://localhost:8080/"
        },
        "id": "vjldM5bAXmgN",
        "outputId": "920342aa-4ff2-43bb-b366-a99d1d330593"
      },
      "outputs": [
        {
          "output_type": "stream",
          "name": "stdout",
          "text": [
            "Mounted at /content/drive\n"
          ]
        }
      ],
      "source": [
        "from google.colab import drive\n",
        "drive.mount('/content/drive')"
      ]
    },
    {
      "cell_type": "code",
      "execution_count": 2,
      "metadata": {
        "id": "5ccNKFkEXnMw"
      },
      "outputs": [],
      "source": [
        "%%capture\n",
        "!cp -r /content/drive/MyDrive/esmini.zip /content/esmini.zip\n",
        "!unzip /content/esmini.zip"
      ]
    },
    {
      "cell_type": "code",
      "execution_count": 3,
      "metadata": {
        "collapsed": true,
        "id": "bSykfRrWZtJc"
      },
      "outputs": [],
      "source": [
        "%%capture\n",
        "!apt-get install -y xvfb x11-utils\n",
        "!pip install ultralytics"
      ]
    },
    {
      "cell_type": "code",
      "execution_count": 4,
      "metadata": {
        "colab": {
          "base_uri": "https://localhost:8080/"
        },
        "id": "yeFE0bhYcP6O",
        "outputId": "3ca66c5a-4154-4eac-d622-af519e1c8b56"
      },
      "outputs": [
        {
          "output_type": "stream",
          "name": "stdout",
          "text": [
            "Starting virtual X frame buffer: Xvfb.\n"
          ]
        }
      ],
      "source": [
        "import sys, os\n",
        "!wget -q https://raw.githubusercontent.com/yandexdataschool/Practical_RL/master/xvfb -O ../xvfb\n",
        "if type(os.environ.get(\"DISPLAY\")) is not str or len(os.environ.get(\"DISPLAY\")) == 0:\n",
        "    !bash ../xvfb start\n",
        "    os.environ['DISPLAY'] = ':1'\n",
        "!cp -r /content/drive/MyDrive/xvfb /content/xvfb\n",
        "!chmod 755 /content/xvfb"
      ]
    },
    {
      "cell_type": "code",
      "execution_count": null,
      "metadata": {
        "id": "wPA0z77VL8Oj"
      },
      "outputs": [],
      "source": [
        "%rm -r sim_loop"
      ]
    },
    {
      "cell_type": "code",
      "execution_count": 5,
      "metadata": {
        "colab": {
          "base_uri": "https://localhost:8080/"
        },
        "collapsed": true,
        "id": "w61l2pIgcESX",
        "outputId": "d73fef70-af4e-4520-963b-b909cddb87d2"
      },
      "outputs": [
        {
          "output_type": "stream",
          "name": "stdout",
          "text": [
            "Starting virtual X frame buffer: Xvfb.\n",
            "/content/esmini\n",
            "/content\n",
            "Cloning into 'sim_loop'...\n",
            "remote: Enumerating objects: 3612, done.\u001b[K\n",
            "remote: Counting objects: 100% (564/564), done.\u001b[K\n",
            "remote: Compressing objects: 100% (118/118), done.\u001b[K\n",
            "remote: Total 3612 (delta 479), reused 517 (delta 445), pack-reused 3048 (from 1)\u001b[K\n",
            "Receiving objects: 100% (3612/3612), 87.22 MiB | 39.09 MiB/s, done.\n",
            "Resolving deltas: 100% (3128/3128), done.\n"
          ]
        }
      ],
      "source": [
        "!/content/xvfb start\n",
        "%cd /content/esmini\n",
        "!chmod 755 bin/esmini\n",
        "%cd /content\n",
        "!git clone https://github.com/patrickw16/sim_loop.git"
      ]
    },
    {
      "cell_type": "code",
      "execution_count": 6,
      "metadata": {
        "colab": {
          "base_uri": "https://localhost:8080/"
        },
        "id": "fUGGwFUSYLXh",
        "outputId": "d5edd9c8-60ba-4c32-f506-008cb473aae0"
      },
      "outputs": [
        {
          "output_type": "stream",
          "name": "stdout",
          "text": [
            "Cloning into 'odd_coverage'...\n",
            "remote: Enumerating objects: 2809, done.\u001b[K\n",
            "remote: Counting objects: 100% (51/51), done.\u001b[K\n",
            "remote: Compressing objects: 100% (40/40), done.\u001b[K\n",
            "remote: Total 2809 (delta 26), reused 28 (delta 11), pack-reused 2758 (from 1)\u001b[K\n",
            "Receiving objects: 100% (2809/2809), 44.42 MiB | 34.59 MiB/s, done.\n",
            "Resolving deltas: 100% (2232/2232), done.\n",
            "Updating files: 100% (4838/4838), done.\n",
            "/content/odd_coverage\n",
            "Branch 'ThreeDimensional' set up to track remote branch 'ThreeDimensional' from 'origin'.\n",
            "Switched to a new branch 'ThreeDimensional'\n",
            "/content\n"
          ]
        }
      ],
      "source": [
        "#.....\n",
        "%cd odd_coverage\n",
        "!git checkout ThreeDimensional\n",
        "%cd /content"
      ]
    },
    {
      "cell_type": "code",
      "execution_count": 7,
      "metadata": {
        "id": "eIWXbXVjYLXi"
      },
      "outputs": [],
      "source": [
        "%%capture\n",
        "!sudo apt install texlive texlive-latex-extra texlive-fonts-recommended dvipng\n",
        "!pip install latex\n",
        "!sudo apt install cm-super"
      ]
    },
    {
      "cell_type": "code",
      "execution_count": 8,
      "metadata": {
        "colab": {
          "base_uri": "https://localhost:8080/",
          "height": 1000
        },
        "id": "xgv53AlBYLXk",
        "outputId": "31f13acc-ab8e-49ad-d4fb-38fc30967e3c"
      },
      "outputs": [
        {
          "output_type": "stream",
          "name": "stdout",
          "text": [
            "I will break since no more clusters in red zone.\n",
            "I successfully finished. There are 1 successful attempts.\n",
            "Gradient:-1.2464091160291895\n",
            "b value:0.03548742823231134\n",
            "[[28.75864378 36.34529391  4.76040002]\n",
            " [33.32622044 13.20877145  3.86161791]\n",
            " [53.26478671 26.15412018  4.63567845]\n",
            " [19.92488709 19.59464645  6.61166023]\n",
            " [51.68310159 31.31160771  5.58177516]\n",
            " [55.62506524 29.20551236  3.61796934]\n",
            " [36.08364056 19.82475221  5.89688242]\n",
            " [14.28488913 27.63212193  3.74804888]\n",
            " [30.01613849 37.17488786  6.79056507]\n",
            " [43.6959527  18.66481813  4.14789411]\n",
            " [20.52863453 12.14508084  4.70984028]\n",
            " [19.75311294 27.34187872  5.23741176]\n",
            " [17.52890896 21.02569056  3.23954607]\n",
            " [40.19589947 27.35661849  6.14402598]\n",
            " [53.14374035 14.16282466  5.06653617]\n",
            " [44.43782987 26.6240053   3.27017763]\n",
            " [59.13939251 36.87273988  4.57962042]\n",
            " [35.15010963 27.01046097  4.12113655]\n",
            " [47.4776137  35.32641215  4.46220923]\n",
            " [26.61870805 31.60492099  6.08941462]\n",
            " [21.90403754 12.62575042  6.19700332]\n",
            " [25.72829174 33.64068678  3.33249882]\n",
            " [54.45355918 22.7490199   5.81855642]\n",
            " [42.85771491 34.86047616  6.75078845]\n",
            " [12.7404705  20.14905595  5.03420302]\n",
            " [51.73345644 18.26055919  2.96291731]\n",
            " [12.88653375 26.45120563  6.33837208]\n",
            " [38.40748293 36.90118531  5.61615212]\n",
            " [57.7676518  34.54022169  6.61889796]\n",
            " [14.66157861 35.34185783  4.80187506]\n",
            " [40.61347461 19.73094778  6.88461359]\n",
            " [15.49593014 36.73910765  6.43338037]\n",
            " [32.82576766 19.82222368  3.28533661]\n",
            " [20.51715849 11.58747127  3.24702816]\n",
            " [35.97706086 13.06497188  5.11912969]\n",
            " [24.17917304 22.36431149  4.31286771]\n",
            " [38.63075796 34.25706634  3.81936   ]\n",
            " [56.97355511 19.82092132  3.91932513]\n",
            " [26.63498065 27.04917456  6.87671206]\n",
            " [35.47468331 12.17357163  6.41296595]\n",
            " [51.18139011 39.0635969   5.9804494 ]\n",
            " [47.20534904 11.94748178  3.40214116]\n",
            " [52.04446265 37.06617616  3.27072921]\n",
            " [35.81651878 29.82565424  5.15276558]\n",
            " [52.46876021 13.83634255  6.3566789 ]\n",
            " [40.54273256 21.91683109  5.06110756]\n",
            " [11.23846575 12.94695939  5.85385136]\n",
            " [24.37861651 18.59426689  5.3062044 ]\n",
            " [13.37088057 14.65222599  3.97986172]\n",
            " [51.97512115 25.41726985  6.66754919]]\n"
          ]
        },
        {
          "output_type": "display_data",
          "data": {
            "text/plain": [
              "<Figure size 1000x1000 with 1 Axes>"
            ],
            "image/png": "[encoded data removed]"
          },
          "metadata": {}
        }
      ],
      "source": [
        "# Generate variance bounded test cases\n",
        "import numpy as np\n",
        "from PIL import Image\n",
        "from IPython.core.display import SVG\n",
        "from sim_loop.evaluation.cube_based_evaluation import CubeBasedEvaluation\n",
        "from odd_coverage.odd_coverage.coverage_param_lvl.coverage_param_lvl import CoverageParamLvl\n",
        "\n",
        "#Generate evaluation points:\n",
        "my_coverage_param = CoverageParamLvl(\n",
        "                    number_of_test_values=50,\n",
        "                    trace_epsilon=0.0075,\n",
        "                    epsilon_buffer=0.005,\n",
        "                    number_of_attempts=1,\n",
        "                    combined_points_data_path='./sim_loop/evaluation/variance_bounded_testing_method/data/prior_points_s_delta_v_delta_ego_max_dec.npy')\n",
        "\n",
        "param_values, cov_contribution, updated_cluster_traces, adapted_kmeans_labels, re_sampled_scaled, scaler, weighted_within_variance = my_coverage_param.get_optimised_values(plot_path='/content/var_poc_3d_example.svg')\n",
        "\n",
        "print(param_values)\n",
        "\n",
        "points = scaler.inverse_transform(re_sampled_scaled)\n",
        "\n",
        "#SVG(filename='/content/var_poc_3d_example.svg')"
      ]
    },
    {
      "cell_type": "code",
      "execution_count": 9,
      "metadata": {
        "id": "pvy38ZpjYLXl"
      },
      "outputs": [],
      "source": [
        "# Generate scenarios\n",
        "from sim_loop.evaluation.variance_bounded_testing_method.simulation.parameter_set_generation import modify_xml\n",
        "\n",
        "for idx, parameter in enumerate(param_values):\n",
        "\n",
        "    input_file = '/content/sim_loop/scenarios/cut-in.xosc'  # Replace with your input file path\n",
        "    output_file = f'/content/sim_loop/scenarios/variance_bounded/{idx}_cut-in.xosc'  # Replace with your desired output file path\n",
        "    new_s_delta = param_values[idx, 0]  # New value for s_delta\n",
        "    new_v_delta = param_values[idx, 1]  # New value for v_delta\n",
        "\n",
        "    modify_xml(input_file, output_file, new_s_delta, new_v_delta)"
      ]
    },
    {
      "cell_type": "code",
      "execution_count": 14,
      "metadata": {
        "colab": {
          "base_uri": "https://localhost:8080/",
          "height": 356
        },
        "id": "m6Mp_0agYLXm",
        "outputId": "0b3c585d-8bdc-4262-8f85-6bda9ad54b9a"
      },
      "outputs": [
        {
          "output_type": "stream",
          "name": "stdout",
          "text": []
        },
        {
          "output_type": "error",
          "ename": "KeyboardInterrupt",
          "evalue": "",
          "traceback": [
            "\u001b[0;31m---------------------------------------------------------------------------\u001b[0m",
            "\u001b[0;31mKeyboardInterrupt\u001b[0m                         Traceback (most recent call last)",
            "\u001b[0;32m<ipython-input-14-66572a8f8368>\u001b[0m in \u001b[0;36m<cell line: 0>\u001b[0;34m()\u001b[0m\n\u001b[1;32m     33\u001b[0m \u001b[0;34m\u001b[0m\u001b[0m\n\u001b[1;32m     34\u001b[0m     \u001b[0;32mwith\u001b[0m \u001b[0mThreadPool\u001b[0m\u001b[0;34m(\u001b[0m\u001b[0;34m)\u001b[0m \u001b[0;32mas\u001b[0m \u001b[0mp\u001b[0m\u001b[0;34m:\u001b[0m\u001b[0;34m\u001b[0m\u001b[0;34m\u001b[0m\u001b[0m\n\u001b[0;32m---> 35\u001b[0;31m         \u001b[0mp\u001b[0m\u001b[0;34m.\u001b[0m \u001b[0mmap\u001b[0m\u001b[0;34m(\u001b[0m\u001b[0mlaunch_scenario\u001b[0m\u001b[0;34m,\u001b[0m \u001b[0mrange\u001b[0m\u001b[0;34m(\u001b[0m\u001b[0mn_runs\u001b[0m\u001b[0;34m)\u001b[0m\u001b[0;34m)\u001b[0m\u001b[0;34m\u001b[0m\u001b[0;34m\u001b[0m\u001b[0m\n\u001b[0m\u001b[1;32m     36\u001b[0m \u001b[0;34m\u001b[0m\u001b[0m\n\u001b[1;32m     37\u001b[0m     \u001b[0mprint\u001b[0m\u001b[0;34m(\u001b[0m\u001b[0;34m)\u001b[0m\u001b[0;34m\u001b[0m\u001b[0;34m\u001b[0m\u001b[0m\n",
            "\u001b[0;32m/usr/lib/python3.11/multiprocessing/pool.py\u001b[0m in \u001b[0;36mmap\u001b[0;34m(self, func, iterable, chunksize)\u001b[0m\n\u001b[1;32m    365\u001b[0m         \u001b[0;32min\u001b[0m \u001b[0ma\u001b[0m \u001b[0mlist\u001b[0m \u001b[0mthat\u001b[0m \u001b[0;32mis\u001b[0m \u001b[0mreturned\u001b[0m\u001b[0;34m.\u001b[0m\u001b[0;34m\u001b[0m\u001b[0;34m\u001b[0m\u001b[0m\n\u001b[1;32m    366\u001b[0m         '''\n\u001b[0;32m--> 367\u001b[0;31m         \u001b[0;32mreturn\u001b[0m \u001b[0mself\u001b[0m\u001b[0;34m.\u001b[0m\u001b[0m_map_async\u001b[0m\u001b[0;34m(\u001b[0m\u001b[0mfunc\u001b[0m\u001b[0;34m,\u001b[0m \u001b[0miterable\u001b[0m\u001b[0;34m,\u001b[0m \u001b[0mmapstar\u001b[0m\u001b[0;34m,\u001b[0m \u001b[0mchunksize\u001b[0m\u001b[0;34m)\u001b[0m\u001b[0;34m.\u001b[0m\u001b[0mget\u001b[0m\u001b[0;34m(\u001b[0m\u001b[0;34m)\u001b[0m\u001b[0;34m\u001b[0m\u001b[0;34m\u001b[0m\u001b[0m\n\u001b[0m\u001b[1;32m    368\u001b[0m \u001b[0;34m\u001b[0m\u001b[0m\n\u001b[1;32m    369\u001b[0m     \u001b[0;32mdef\u001b[0m \u001b[0mstarmap\u001b[0m\u001b[0;34m(\u001b[0m\u001b[0mself\u001b[0m\u001b[0;34m,\u001b[0m \u001b[0mfunc\u001b[0m\u001b[0;34m,\u001b[0m \u001b[0miterable\u001b[0m\u001b[0;34m,\u001b[0m \u001b[0mchunksize\u001b[0m\u001b[0;34m=\u001b[0m\u001b[0;32mNone\u001b[0m\u001b[0;34m)\u001b[0m\u001b[0;34m:\u001b[0m\u001b[0;34m\u001b[0m\u001b[0;34m\u001b[0m\u001b[0m\n",
            "\u001b[0;32m/usr/lib/python3.11/multiprocessing/pool.py\u001b[0m in \u001b[0;36mget\u001b[0;34m(self, timeout)\u001b[0m\n\u001b[1;32m    766\u001b[0m \u001b[0;34m\u001b[0m\u001b[0m\n\u001b[1;32m    767\u001b[0m     \u001b[0;32mdef\u001b[0m \u001b[0mget\u001b[0m\u001b[0;34m(\u001b[0m\u001b[0mself\u001b[0m\u001b[0;34m,\u001b[0m \u001b[0mtimeout\u001b[0m\u001b[0;34m=\u001b[0m\u001b[0;32mNone\u001b[0m\u001b[0;34m)\u001b[0m\u001b[0;34m:\u001b[0m\u001b[0;34m\u001b[0m\u001b[0;34m\u001b[0m\u001b[0m\n\u001b[0;32m--> 768\u001b[0;31m         \u001b[0mself\u001b[0m\u001b[0;34m.\u001b[0m\u001b[0mwait\u001b[0m\u001b[0;34m(\u001b[0m\u001b[0mtimeout\u001b[0m\u001b[0;34m)\u001b[0m\u001b[0;34m\u001b[0m\u001b[0;34m\u001b[0m\u001b[0m\n\u001b[0m\u001b[1;32m    769\u001b[0m         \u001b[0;32mif\u001b[0m \u001b[0;32mnot\u001b[0m \u001b[0mself\u001b[0m\u001b[0;34m.\u001b[0m\u001b[0mready\u001b[0m\u001b[0;34m(\u001b[0m\u001b[0;34m)\u001b[0m\u001b[0;34m:\u001b[0m\u001b[0;34m\u001b[0m\u001b[0;34m\u001b[0m\u001b[0m\n\u001b[1;32m    770\u001b[0m             \u001b[0;32mraise\u001b[0m \u001b[0mTimeoutError\u001b[0m\u001b[0;34m\u001b[0m\u001b[0;34m\u001b[0m\u001b[0m\n",
            "\u001b[0;32m/usr/lib/python3.11/multiprocessing/pool.py\u001b[0m in \u001b[0;36mwait\u001b[0;34m(self, timeout)\u001b[0m\n\u001b[1;32m    763\u001b[0m \u001b[0;34m\u001b[0m\u001b[0m\n\u001b[1;32m    764\u001b[0m     \u001b[0;32mdef\u001b[0m \u001b[0mwait\u001b[0m\u001b[0;34m(\u001b[0m\u001b[0mself\u001b[0m\u001b[0;34m,\u001b[0m \u001b[0mtimeout\u001b[0m\u001b[0;34m=\u001b[0m\u001b[0;32mNone\u001b[0m\u001b[0;34m)\u001b[0m\u001b[0;34m:\u001b[0m\u001b[0;34m\u001b[0m\u001b[0;34m\u001b[0m\u001b[0m\n\u001b[0;32m--> 765\u001b[0;31m         \u001b[0mself\u001b[0m\u001b[0;34m.\u001b[0m\u001b[0m_event\u001b[0m\u001b[0;34m.\u001b[0m\u001b[0mwait\u001b[0m\u001b[0;34m(\u001b[0m\u001b[0mtimeout\u001b[0m\u001b[0;34m)\u001b[0m\u001b[0;34m\u001b[0m\u001b[0;34m\u001b[0m\u001b[0m\n\u001b[0m\u001b[1;32m    766\u001b[0m \u001b[0;34m\u001b[0m\u001b[0m\n\u001b[1;32m    767\u001b[0m     \u001b[0;32mdef\u001b[0m \u001b[0mget\u001b[0m\u001b[0;34m(\u001b[0m\u001b[0mself\u001b[0m\u001b[0;34m,\u001b[0m \u001b[0mtimeout\u001b[0m\u001b[0;34m=\u001b[0m\u001b[0;32mNone\u001b[0m\u001b[0;34m)\u001b[0m\u001b[0;34m:\u001b[0m\u001b[0;34m\u001b[0m\u001b[0;34m\u001b[0m\u001b[0m\n",
            "\u001b[0;32m/usr/lib/python3.11/threading.py\u001b[0m in \u001b[0;36mwait\u001b[0;34m(self, timeout)\u001b[0m\n\u001b[1;32m    627\u001b[0m             \u001b[0msignaled\u001b[0m \u001b[0;34m=\u001b[0m \u001b[0mself\u001b[0m\u001b[0;34m.\u001b[0m\u001b[0m_flag\u001b[0m\u001b[0;34m\u001b[0m\u001b[0;34m\u001b[0m\u001b[0m\n\u001b[1;32m    628\u001b[0m             \u001b[0;32mif\u001b[0m \u001b[0;32mnot\u001b[0m \u001b[0msignaled\u001b[0m\u001b[0;34m:\u001b[0m\u001b[0;34m\u001b[0m\u001b[0;34m\u001b[0m\u001b[0m\n\u001b[0;32m--> 629\u001b[0;31m                 \u001b[0msignaled\u001b[0m \u001b[0;34m=\u001b[0m \u001b[0mself\u001b[0m\u001b[0;34m.\u001b[0m\u001b[0m_cond\u001b[0m\u001b[0;34m.\u001b[0m\u001b[0mwait\u001b[0m\u001b[0;34m(\u001b[0m\u001b[0mtimeout\u001b[0m\u001b[0;34m)\u001b[0m\u001b[0;34m\u001b[0m\u001b[0;34m\u001b[0m\u001b[0m\n\u001b[0m\u001b[1;32m    630\u001b[0m             \u001b[0;32mreturn\u001b[0m \u001b[0msignaled\u001b[0m\u001b[0;34m\u001b[0m\u001b[0;34m\u001b[0m\u001b[0m\n\u001b[1;32m    631\u001b[0m \u001b[0;34m\u001b[0m\u001b[0m\n",
            "\u001b[0;32m/usr/lib/python3.11/threading.py\u001b[0m in \u001b[0;36mwait\u001b[0;34m(self, timeout)\u001b[0m\n\u001b[1;32m    325\u001b[0m         \u001b[0;32mtry\u001b[0m\u001b[0;34m:\u001b[0m    \u001b[0;31m# restore state no matter what (e.g., KeyboardInterrupt)\u001b[0m\u001b[0;34m\u001b[0m\u001b[0;34m\u001b[0m\u001b[0m\n\u001b[1;32m    326\u001b[0m             \u001b[0;32mif\u001b[0m \u001b[0mtimeout\u001b[0m \u001b[0;32mis\u001b[0m \u001b[0;32mNone\u001b[0m\u001b[0;34m:\u001b[0m\u001b[0;34m\u001b[0m\u001b[0;34m\u001b[0m\u001b[0m\n\u001b[0;32m--> 327\u001b[0;31m                 \u001b[0mwaiter\u001b[0m\u001b[0;34m.\u001b[0m\u001b[0macquire\u001b[0m\u001b[0;34m(\u001b[0m\u001b[0;34m)\u001b[0m\u001b[0;34m\u001b[0m\u001b[0;34m\u001b[0m\u001b[0m\n\u001b[0m\u001b[1;32m    328\u001b[0m                 \u001b[0mgotit\u001b[0m \u001b[0;34m=\u001b[0m \u001b[0;32mTrue\u001b[0m\u001b[0;34m\u001b[0m\u001b[0;34m\u001b[0m\u001b[0m\n\u001b[1;32m    329\u001b[0m             \u001b[0;32melse\u001b[0m\u001b[0;34m:\u001b[0m\u001b[0;34m\u001b[0m\u001b[0;34m\u001b[0m\u001b[0m\n",
            "\u001b[0;31mKeyboardInterrupt\u001b[0m: "
          ]
        }
      ],
      "source": [
        "from multiprocessing.pool import ThreadPool\n",
        "import subprocess\n",
        "import sys\n",
        "import os.path\n",
        "\n",
        "# globals\n",
        "launched = 0\n",
        "done = 0\n",
        "n_runs = 0\n",
        "\n",
        "def print_status():\n",
        "    print('Launched: {}/{} Done: {}'.format(launched, n_runs, done), end='\\r', flush=True)\n",
        "\n",
        "def launch_scenario(index):\n",
        "    global launched\n",
        "    global done\n",
        "    launched += 2\n",
        "    print_status()\n",
        "    p = subprocess.run(\n",
        "        ['python', '/content/sim_loop/evaluation/variance_bounded_testing_method/simulation/variance_bounded_colab_execution.py'] + ['--window 60 60 800 400']+ ['--headless'] + ['--osc'] + [f'/content/sim_loop/scenarios/variance_bounded/{str(index)}_cut-in.xosc'] + ['--logfile_path'] + [f'/content/{str(index)}_log.txt'] + [str(param_values[idx,2])],\n",
        "    )\n",
        "\n",
        "    done += 1\n",
        "    print_status()\n",
        "\n",
        "\n",
        "if __name__ == '__main__':\n",
        "\n",
        "    #n_runs = len(param_values)\n",
        "    print_status()\n",
        "\n",
        "    n_runs = 20\n",
        "\n",
        "    with ThreadPool() as p:\n",
        "        p. map(launch_scenario, range(n_runs))\n",
        "\n",
        "    print()"
      ]
    },
    {
      "cell_type": "code",
      "source": [
        "!python /content/sim_loop/evaluation/variance_bounded_testing_method/simulation/variance_bounded_colab_execution.py --window 60 60 800 400 --headless --osc /content/sim_loop/scenarios/variance_bounded/5_cut-in.xosc"
      ],
      "metadata": {
        "id": "59F8yZpP1zpZ",
        "outputId": "674de287-96cc-4466-fe6c-aa6c5f37d4e8",
        "colab": {
          "base_uri": "https://localhost:8080/"
        }
      },
      "execution_count": 15,
      "outputs": [
        {
          "output_type": "stream",
          "name": "stdout",
          "text": [
            "esmini GIT REV: v2.40.3-0-9fa4bae8\n",
            "esmini GIT TAG: v2.40.3\n",
            "esmini GIT BRANCH: tags/v2.40.3^0\n",
            "esmini BUILD VERSION: N/A - client build\n",
            "Player arguments:  /content/sim_loop/evaluation/variance_bounded_testing_method/simulation/variance_bounded_colab_execution.py --window 60 60 800 400 --headless --osc /content/sim_loop/scenarios/variance_bounded/5_cut-in.xosc\n",
            "esmini GIT REV: v2.40.3-0-9fa4bae8\n",
            "esmini GIT TAG: v2.40.3\n",
            "esmini GIT BRANCH: tags/v2.40.3^0\n",
            "esmini BUILD VERSION: N/A - client build\n",
            "No fixed timestep specified - running in realtime speed\n",
            "Generated seed 387971068\n",
            "Loading /content/sim_loop/scenarios/variance_bounded/5_cut-in.xosc (v1.1)\n",
            "0 variables\n",
            "Unsupported geo reference attr: +no_defs\n",
            "Unsupported object type: rail-pole - interpret as NONE\n",
            "Unsupported object type: rail-pole - interpret as NONE\n",
            "Unsupported object type: guide-post - interpret as NONE\n",
            "Unsupported object type: guide-post - interpret as NONE\n",
            "Loaded OpenDRIVE: /content/esmini/resources/xodr/e6mini.xodr\n",
            "Expr ${250/3.6} = 250/3.6 = 69.4444444444\n",
            "Expr ${$EgoSpeed / 3.6} = 108 / 3.6 = 30.0000000000\n",
            "Expr ${$EgoStartS + $s_delta} = 25 + 55.625065240068565 = 80.6250652401\n",
            "Expr ${$EgoSpeed/3.6 - $v_delta/3.6} = 108/3.6 - 29.205512356387676/3.6 = 21.8873576788\n",
            "6 parameters:\n",
            "   v_delta = 29.205512356387676\n",
            "   s_delta = 55.625065240068565\n",
            "   EgoSpeed = 108\n",
            "   EgoStartS = 25\n",
            "   TargetVehicle = car_red\n",
            "   HostVehicle = car_white\n",
            "0.000: Window created at 60,60 with size 800,400\n",
            "0.000: Loaded scenegraph: /content/esmini/resources/models/e6mini.osgb\n",
            "0.000: Object ../models/railing-pole.osgb missing length, set to bounding box length 0.10\n",
            "0.000: Object ../models/railing-pole.osgb missing width, set to bounding box width 0.10\n",
            "0.000: Object ../models/railing-pole.osgb missing height, set to bounding box height 1.00\n",
            "0.000: Object ../models/railing-pole.osgb missing length, set to bounding box length 0.10\n",
            "0.000: Object ../models/railing-pole.osgb missing width, set to bounding box width 0.10\n",
            "0.000: Object ../models/railing-pole.osgb missing height, set to bounding box height 1.00\n",
            "0.000: Object ../models/railing.osgb missing length, set to bounding box length 4.00\n",
            "0.000: Object ../models/railing.osgb missing width, set to bounding box width 0.10\n",
            "0.000: Object ../models/railing.osgb missing height, set to bounding box height 0.20\n",
            "0.000: Object ../models/railing.osgb missing length, set to bounding box length 4.00\n",
            "0.000: Object ../models/railing.osgb missing width, set to bounding box width 0.10\n",
            "0.000: Object ../models/railing.osgb missing height, set to bounding box height 0.20\n",
            "0.000: Object ../models/guide-post.osgb missing length, set to bounding box length 0.08\n",
            "0.000: Object ../models/guide-post.osgb missing width, set to bounding box width 0.13\n",
            "0.000: Object ../models/guide-post.osgb missing height, set to bounding box height 1.25\n",
            "0.000: Object ../models/guide-post.osgb missing length, set to bounding box length 0.08\n",
            "0.000: Object ../models/guide-post.osgb missing width, set to bounding box width 0.13\n",
            "0.000: Object ../models/guide-post.osgb missing height, set to bounding box height 1.25\n",
            "0.000: Adjusted OverTaker bounding box to model car_red.osgb - xyz: 1.46, 0.00, 0.77 lwh: 5.04, 2.04, 1.49\n",
            "0.000: Init Ego TeleportAction initState -> startTransition -> runningState\n",
            "0.000: Starting teleport Action\n",
            "0.000: Ego New position:\n",
            "0.000: Pos(8.08, 24.97, -0.01) Rot(1.57, 0.00, 0.00) roadId 0 laneId -3 offset 0.00 t -8.00\n",
            "0.000: Init Ego LongitudinalAction initState -> startTransition -> runningState\n",
            "0.000: Init OverTaker TeleportAction initState -> startTransition -> runningState\n",
            "0.000: Starting teleport Action\n",
            "0.000: OverTaker New position:\n",
            "0.000: Pos(4.72, 80.61, -0.10) Rot(1.57, 0.00, 0.00) roadId 0 laneId -2 offset 0.00 t -4.42\n",
            "0.000: Init OverTaker LongitudinalAction initState -> startTransition -> runningState\n",
            "0.000: storyBoard initState -> startTransition -> runningState\n",
            "0.000: CutInAndBrakeStory initState -> startTransition -> runningState\n",
            "0.000: CutInAndBrakeAct initState -> initToStandbyTransition -> standbyState\n",
            "0.000: Init Ego TeleportAction runningState -> endTransition -> completeState\n",
            "0.000: Init Ego LongitudinalAction runningState -> endTransition -> completeState\n",
            "0.000: Init OverTaker TeleportAction runningState -> endTransition -> completeState\n",
            "0.000: Init OverTaker LongitudinalAction runningState -> endTransition -> completeState\n",
            "---------------\n",
            "Traceback (most recent call last):\n",
            "  File \"/content/sim_loop/evaluation/variance_bounded_testing_method/simulation/variance_bounded_colab_execution.py\", line 161, in <module>\n",
            "    print(float(sys.argv[-1]))\n",
            "          ^^^^^^^^^^^^^^^^^^^\n",
            "ValueError: could not convert string to float: '/content/sim_loop/scenarios/variance_bounded/5_cut-in.xosc'\n"
          ]
        }
      ]
    },
    {
      "cell_type": "code",
      "execution_count": null,
      "metadata": {
        "id": "25CHPhPLYLXo"
      },
      "outputs": [],
      "source": [
        "# analyze logs and store results"
      ]
    },
    {
      "cell_type": "code",
      "execution_count": null,
      "metadata": {
        "id": "S-MEOAw3DxX7"
      },
      "outputs": [],
      "source": [
        "%mkdir logs"
      ]
    },
    {
      "cell_type": "code",
      "execution_count": null,
      "metadata": {
        "id": "nOhIXm93DzDK"
      },
      "outputs": [],
      "source": [
        "# prompt: move all log files to logs folder\n",
        "\n",
        "import shutil\n",
        "import glob\n",
        "\n",
        "# Move all log files to the logs folder\n",
        "log_files = glob.glob(\"*.txt\")  # Find all files ending with .log in the current directory\n",
        "for log_file in log_files:\n",
        "  try:\n",
        "    shutil.move(log_file, \"logs/\")  # Move the file to the logs/ directory\n",
        "  except FileNotFoundError:\n",
        "    print(f\"Error: The 'logs' directory does not exist.\")\n",
        "  except shutil.Error as e:\n",
        "    print(f\"Error moving file {log_file}: {e}\")"
      ]
    },
    {
      "cell_type": "code",
      "execution_count": null,
      "metadata": {
        "id": "LjxkbD4h0ujk"
      },
      "outputs": [],
      "source": [
        "%rm -r logs_old"
      ]
    },
    {
      "cell_type": "code",
      "execution_count": null,
      "metadata": {
        "colab": {
          "base_uri": "https://localhost:8080/"
        },
        "id": "OIWC_106EPIE",
        "outputId": "a762d888-e3ae-4a60-a507-5dddae5f3bcd"
      },
      "outputs": [
        {
          "name": "stdout",
          "output_type": "stream",
          "text": [
            "Logs folder zipped successfully to logs.zip\n"
          ]
        }
      ],
      "source": [
        "# prompt: zip the logs folder\n",
        "\n",
        "import shutil\n",
        "import os\n",
        "\n",
        "def zip_logs():\n",
        "  # Check if the logs directory exists\n",
        "  if os.path.exists(\"logs\"):\n",
        "    try:\n",
        "      shutil.make_archive(\"logs\", \"zip\", \"logs\")\n",
        "      print(\"Logs folder zipped successfully to logs.zip\")\n",
        "    except Exception as e:\n",
        "      print(f\"Error zipping logs folder: {e}\")\n",
        "  else:\n",
        "    print(\"Error: logs folder not found.\")\n",
        "\n",
        "zip_logs()"
      ]
    }
  ],
  "metadata": {
    "colab": {
      "provenance": []
    },
    "kernelspec": {
      "display_name": "Python 3",
      "name": "python3"
    },
    "language_info": {
      "codemirror_mode": {
        "name": "ipython",
        "version": 3
      },
      "file_extension": ".py",
      "mimetype": "text/x-python",
      "name": "python",
      "nbconvert_exporter": "python",
      "pygments_lexer": "ipython3",
      "version": "3.10.12"
    }
  },
  "nbformat": 4,
  "nbformat_minor": 0
}