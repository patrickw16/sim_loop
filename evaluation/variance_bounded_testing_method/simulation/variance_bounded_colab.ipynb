{
  "cells": [
    {
      "cell_type": "code",
      "execution_count": 1,
      "metadata": {
        "colab": {
          "base_uri": "https://localhost:8080/"
        },
        "id": "vjldM5bAXmgN",
        "outputId": "06fd4b1e-5ae8-474d-e134-632f49488649"
      },
      "outputs": [
        {
          "output_type": "stream",
          "name": "stdout",
          "text": [
            "Mounted at /content/drive\n"
          ]
        }
      ],
      "source": [
        "from google.colab import drive\n",
        "drive.mount('/content/drive')"
      ]
    },
    {
      "cell_type": "code",
      "execution_count": 2,
      "metadata": {
        "id": "5ccNKFkEXnMw"
      },
      "outputs": [],
      "source": [
        "%%capture\n",
        "!cp -r /content/drive/MyDrive/esmini.zip /content/esmini.zip\n",
        "!unzip /content/esmini.zip"
      ]
    },
    {
      "cell_type": "code",
      "execution_count": 3,
      "metadata": {
        "collapsed": true,
        "id": "bSykfRrWZtJc"
      },
      "outputs": [],
      "source": [
        "%%capture\n",
        "!apt-get install -y xvfb x11-utils\n",
        "!pip install ultralytics"
      ]
    },
    {
      "cell_type": "code",
      "execution_count": 4,
      "metadata": {
        "colab": {
          "base_uri": "https://localhost:8080/"
        },
        "id": "yeFE0bhYcP6O",
        "outputId": "5935765a-cea5-4fbf-f407-a31e779ab931"
      },
      "outputs": [
        {
          "output_type": "stream",
          "name": "stdout",
          "text": [
            "Starting virtual X frame buffer: Xvfb.\n"
          ]
        }
      ],
      "source": [
        "import sys, os\n",
        "!wget -q https://raw.githubusercontent.com/yandexdataschool/Practical_RL/master/xvfb -O ../xvfb\n",
        "if type(os.environ.get(\"DISPLAY\")) is not str or len(os.environ.get(\"DISPLAY\")) == 0:\n",
        "    !bash ../xvfb start\n",
        "    os.environ['DISPLAY'] = ':1'\n",
        "!cp -r /content/drive/MyDrive/xvfb /content/xvfb\n",
        "!chmod 755 /content/xvfb"
      ]
    },
    {
      "cell_type": "code",
      "execution_count": null,
      "metadata": {
        "id": "wPA0z77VL8Oj"
      },
      "outputs": [],
      "source": [
        "%rm -r sim_loop"
      ]
    },
    {
      "cell_type": "code",
      "execution_count": 5,
      "metadata": {
        "colab": {
          "base_uri": "https://localhost:8080/"
        },
        "collapsed": true,
        "id": "w61l2pIgcESX",
        "outputId": "a3cb06ff-562a-45ea-8f16-b9b0044f5e7a"
      },
      "outputs": [
        {
          "output_type": "stream",
          "name": "stdout",
          "text": [
            "Starting virtual X frame buffer: Xvfb.\n",
            "/content/esmini\n",
            "/content\n",
            "Cloning into 'sim_loop'...\n",
            "remote: Enumerating objects: 3625, done.\u001b[K\n",
            "remote: Counting objects: 100% (577/577), done.\u001b[K\n",
            "remote: Compressing objects: 100% (128/128), done.\u001b[K\n",
            "remote: Total 3625 (delta 487), reused 520 (delta 448), pack-reused 3048 (from 1)\u001b[K\n",
            "Receiving objects: 100% (3625/3625), 87.29 MiB | 27.12 MiB/s, done.\n",
            "Resolving deltas: 100% (3136/3136), done.\n",
            "Updating files: 100% (3322/3322), done.\n"
          ]
        }
      ],
      "source": [
        "!/content/xvfb start\n",
        "%cd /content/esmini\n",
        "!chmod 755 bin/esmini\n",
        "%cd /content\n",
        "!git clone https://github.com/patrickw16/sim_loop.git"
      ]
    },
    {
      "cell_type": "code",
      "execution_count": 7,
      "metadata": {
        "colab": {
          "base_uri": "https://localhost:8080/"
        },
        "id": "fUGGwFUSYLXh",
        "outputId": "f2355363-9fb2-4753-c472-b6808fb2d52b"
      },
      "outputs": [
        {
          "output_type": "stream",
          "name": "stdout",
          "text": [
            "Cloning into 'odd_coverage'...\n",
            "remote: Enumerating objects: 2809, done.\u001b[K\n",
            "remote: Counting objects: 100% (51/51), done.\u001b[K\n",
            "remote: Compressing objects: 100% (40/40), done.\u001b[K\n",
            "remote: Total 2809 (delta 26), reused 28 (delta 11), pack-reused 2758 (from 1)\u001b[K\n",
            "Receiving objects: 100% (2809/2809), 44.42 MiB | 25.30 MiB/s, done.\n",
            "Resolving deltas: 100% (2232/2232), done.\n",
            "Updating files: 100% (4838/4838), done.\n",
            "/content/odd_coverage\n",
            "Branch 'ThreeDimensional' set up to track remote branch 'ThreeDimensional' from 'origin'.\n",
            "Switched to a new branch 'ThreeDimensional'\n",
            "/content\n"
          ]
        }
      ],
      "source": [
        "#....\n",
        "%cd odd_coverage\n",
        "!git checkout ThreeDimensional\n",
        "%cd /content"
      ]
    },
    {
      "cell_type": "code",
      "execution_count": 8,
      "metadata": {
        "id": "eIWXbXVjYLXi"
      },
      "outputs": [],
      "source": [
        "%%capture\n",
        "!sudo apt install texlive texlive-latex-extra texlive-fonts-recommended dvipng\n",
        "!pip install latex\n",
        "!sudo apt install cm-super"
      ]
    },
    {
      "cell_type": "code",
      "execution_count": 9,
      "metadata": {
        "colab": {
          "base_uri": "https://localhost:8080/",
          "height": 1000
        },
        "id": "xgv53AlBYLXk",
        "outputId": "3b7d8206-6664-4e65-c298-30b3bdc9d1c4"
      },
      "outputs": [
        {
          "output_type": "stream",
          "name": "stdout",
          "text": [
            "I adjusted the rate to:0.0033333333333333335\n",
            "1 3.0943148929274225e-05\n",
            "I adjusted the rate to:0.0044444444444444444\n",
            "I adjusted the rate to:0.005925925925925926\n",
            "I adjusted the rate to:0.007901234567901235\n",
            "2 3.046786851912534e-05\n",
            "I adjusted the rate to:0.010534979423868314\n",
            "3 2.8230251509993753e-05\n",
            "4 2.7351026073422585e-05\n",
            "I will break since no more clusters in red zone.\n",
            "I successfully finished. There are 1 successful attempts.\n",
            "Gradient:-0.6729142365932217\n",
            "b value:0.02952091346688786\n",
            "[[27.78067731 24.62192941  3.2226933 ]\n",
            " [35.12162398 32.72509433  6.15320151]\n",
            " [56.93595078 25.51464436  3.32299334]\n",
            " [54.05065644 13.75959991  5.18943014]\n",
            " [16.53045848 34.69374072  6.8364246 ]\n",
            " [34.84539837 12.52791766  4.99174152]\n",
            " [42.51824332 35.07648188  4.55434778]\n",
            " [30.00714516 18.49627494  6.77445726]\n",
            " [16.63211452 12.71889697  4.87353756]\n",
            " [13.89620591 33.03828798  4.9398769 ]\n",
            " [58.03827237 26.78278842  6.1281541 ]\n",
            " [54.99964782 15.75342274  3.3990532 ]\n",
            " [54.87039018 30.82891665  4.22175635]\n",
            " [46.40476574 19.47989139  5.56560456]\n",
            " [40.69437797 21.56765784  3.82703899]\n",
            " [32.71706208 20.64794529  5.66457171]\n",
            " [15.2467596  11.78244666  3.56876215]\n",
            " [11.84688567 20.43787634  4.94200483]\n",
            " [13.48648011 26.05261564  3.81573914]\n",
            " [19.38316442 20.29326424  5.79978223]\n",
            " [43.5144517  12.86572794  4.00857311]\n",
            " [54.78812143 37.19752654  6.75618707]\n",
            " [26.27124599 34.65158228  4.55151291]\n",
            " [57.20703301 38.60001496  4.44810908]\n",
            " [46.79511177 25.28768444  6.67952558]\n",
            " [34.36098163 37.61186517  6.76843947]\n",
            " [20.31939013 37.36346168  5.92634114]\n",
            " [31.10206769 26.93743175  4.31440376]\n",
            " [50.32126519 15.15279396  6.54162914]\n",
            " [34.45195276 34.43905106  3.5513897 ]\n",
            " [50.56300973 36.74130415  3.37032946]\n",
            " [16.43048567 24.64128248  6.78669641]\n",
            " [14.1042825  13.89286326  6.34424835]\n",
            " [55.2290133  34.06822589  5.37498713]\n",
            " [29.54491795 17.96372284  4.42022107]\n",
            " [39.56528745 16.65180886  3.06370989]\n",
            " [30.56572192 28.84701273  5.44409203]\n",
            " [28.58802979 13.31296699  3.57403062]\n",
            " [16.61929012 18.96625939  3.41537541]\n",
            " [43.48621795 24.75891526  4.65814062]\n",
            " [45.64737505 28.35645058  3.37106897]\n",
            " [35.10618859 37.90938707  5.37752123]\n",
            " [32.06888591 28.15869296  6.82206895]\n",
            " [46.68555369 35.26038775  6.17257531]\n",
            " [17.77789894 28.48411151  5.94034424]\n",
            " [55.57229345 22.41786718  4.62554786]\n",
            " [20.86556856 23.83934107  4.79020206]\n",
            " [30.86224377 11.93754491  6.139504  ]\n",
            " [45.21309289 28.05820386  5.54289661]\n",
            " [18.00527559 34.80390143  3.54691108]]\n"
          ]
        },
        {
          "output_type": "display_data",
          "data": {
            "text/plain": [
              "<Figure size 1000x1000 with 1 Axes>"
            ],
            "image/png": "[encoded data removed]"
          },
          "metadata": {}
        }
      ],
      "source": [
        "# Generate variance bounded test cases\n",
        "import numpy as np\n",
        "from PIL import Image\n",
        "from IPython.core.display import SVG\n",
        "from sim_loop.evaluation.cube_based_evaluation import CubeBasedEvaluation\n",
        "from odd_coverage.odd_coverage.coverage_param_lvl.coverage_param_lvl import CoverageParamLvl\n",
        "\n",
        "#Generate evaluation points:\n",
        "my_coverage_param = CoverageParamLvl(\n",
        "                    number_of_test_values=50,\n",
        "                    trace_epsilon=0.0075,\n",
        "                    epsilon_buffer=0.005,\n",
        "                    number_of_attempts=1,\n",
        "                    combined_points_data_path='./sim_loop/evaluation/variance_bounded_testing_method/data/prior_points_s_delta_v_delta_ego_max_dec.npy')\n",
        "\n",
        "param_values, cov_contribution, updated_cluster_traces, adapted_kmeans_labels, re_sampled_scaled, scaler, weighted_within_variance = my_coverage_param.get_optimised_values(plot_path='/content/var_poc_3d_example.svg')\n",
        "\n",
        "print(param_values)\n",
        "\n",
        "points = scaler.inverse_transform(re_sampled_scaled)\n",
        "\n",
        "#SVG(filename='/content/var_poc_3d_example.svg')"
      ]
    },
    {
      "cell_type": "code",
      "execution_count": 11,
      "metadata": {
        "id": "pvy38ZpjYLXl"
      },
      "outputs": [],
      "source": [
        "# Generate scenarios\n",
        "from sim_loop.evaluation.variance_bounded_testing_method.simulation.parameter_set_generation import modify_xml\n",
        "\n",
        "for idx, parameter in enumerate(param_values):\n",
        "\n",
        "    new_s_delta = param_values[idx, 0]  # New value for s_delta\n",
        "    new_v_delta = param_values[idx, 1]  # New value for v_delta\n",
        "    new_a_dec = param_values[idx, 2]  # New value for a_dec\n",
        "\n",
        "    input_file = '/content/sim_loop/scenarios/cut-in.xosc'  # Replace with your input file path\n",
        "    output_file = f'/content/sim_loop/scenarios/variance_bounded/{idx}_{new_a_dec}_cut-in.xosc'  # Replace with your desired output file path\n",
        "\n",
        "    modify_xml(input_file, output_file, new_s_delta, new_v_delta)"
      ]
    },
    {
      "cell_type": "code",
      "execution_count": 26,
      "metadata": {
        "colab": {
          "base_uri": "https://localhost:8080/"
        },
        "id": "m6Mp_0agYLXm",
        "outputId": "494f83e7-eb89-427f-e0cb-528caceb59d2"
      },
      "outputs": [
        {
          "output_type": "stream",
          "name": "stdout",
          "text": [
            "\n"
          ]
        }
      ],
      "source": [
        "from multiprocessing.pool import ThreadPool\n",
        "import subprocess\n",
        "import sys\n",
        "import os.path\n",
        "\n",
        "# globals\n",
        "launched = 0\n",
        "done = 0\n",
        "n_runs = 0\n",
        "\n",
        "def print_status():\n",
        "    print('Launched: {}/{} Done: {}'.format(launched, n_runs, done), end='\\r', flush=True)\n",
        "\n",
        "def launch_scenario(index):\n",
        "    global launched\n",
        "    global done\n",
        "    launched += 1\n",
        "    print_status()\n",
        "    p = subprocess.run(\n",
        "        ['python'] + ['/content/sim_loop/evaluation/variance_bounded_testing_method/simulation/variance_bounded_colab_execution.py'] + ['--window'] + [str(60)] + [str(60)] + [str(800)] + [str(400)] + ['--headless'] + ['--osc'] + [f'/content/sim_loop/scenarios/variance_bounded/{str(index)}_{str(param_values[index, 2])}_cut-in.xosc'] + ['--logfile_path'] + [f'/content/{str(index)}_log.txt'],\n",
        "    )\n",
        "\n",
        "    done += 1\n",
        "    print_status()\n",
        "\n",
        "\n",
        "if __name__ == '__main__':\n",
        "\n",
        "    #n_runs = len(param_values)\n",
        "    print_status()\n",
        "\n",
        "    n_runs = 3\n",
        "\n",
        "    with ThreadPool() as p:\n",
        "        p. map(launch_scenario, range(n_runs))\n",
        "\n",
        "    print()"
      ]
    },
    {
      "cell_type": "code",
      "source": [
        "!python /content/sim_loop/evaluation/variance_bounded_testing_method/simulation/variance_bounded_colab.py --window 60 60 800 400 --headless"
      ],
      "metadata": {
        "id": "h2jWWB3UcUTX",
        "outputId": "24576a19-89be-440c-97f5-a5562c9a8500",
        "colab": {
          "base_uri": "https://localhost:8080/"
        }
      },
      "execution_count": 24,
      "outputs": [
        {
          "output_type": "stream",
          "name": "stdout",
          "text": [
            "Launched: 0/0 Done: 0\rLaunched: 1/3 Done: 0\rLaunched: 2/3 Done: 0\resmini GIT REV: v2.40.3-0-9fa4bae8\n",
            "esmini GIT TAG: v2.40.3\n",
            "esmini GIT BRANCH: tags/v2.40.3^0\n",
            "esmini BUILD VERSION: N/A - client build\n",
            "Player arguments:  /content/sim_loop/evaluation/variance_bounded_testing_method/simulation/variance_bounded_colab_execution.py --window 60 60 800 400 --headless --osc /content/sim_loop/scenarios/variance_bounded/0_3.2226932980315675_cut-in.xosc --logfile_path /content/0_log.txt\n",
            "Custom logfile path: /content/0_log.txt\n",
            "esmini GIT REV: v2.40.3-0-9fa4bae8\n",
            "esmini GIT TAG: v2.40.3\n",
            "esmini GIT BRANCH: tags/v2.40.3^0\n",
            "esmini BUILD VERSION: N/A - client build\n",
            "No fixed timestep specified - running in realtime speed\n",
            "Generated seed 240937799\n",
            "Loading /content/sim_loop/scenarios/variance_bounded/0_3.2226932980315675_cut-in.xosc (v1.1)\n",
            "0 variables\n",
            "Unsupported geo reference attr: +no_defs\n",
            "Unsupported object type: rail-pole - interpret as NONE\n",
            "Unsupported object type: rail-pole - interpret as NONE\n",
            "Unsupported object type: guide-post - interpret as NONE\n",
            "Unsupported object type: guide-post - interpret as NONE\n",
            "esmini GIT REV: v2.40.3-0-9fa4bae8\n",
            "esmini GIT TAG: v2.40.3\n",
            "esmini GIT BRANCH: tags/v2.40.3^0\n",
            "esmini BUILD VERSION: N/A - client build\n",
            "Player arguments:  /content/sim_loop/evaluation/variance_bounded_testing_method/simulation/variance_bounded_colab_execution.py --window 60 60 800 400 --headless --osc /content/sim_loop/scenarios/variance_bounded/0_3.2226932980315675_cut-in.xosc --logfile_path /content/0_log.txt\n",
            "Custom logfile path: /content/0_log.txt\n",
            "esmini GIT REV: v2.40.3-0-9fa4bae8\n",
            "esmini GIT TAG: v2.40.3\n",
            "esmini GIT BRANCH: tags/v2.40.3^0\n",
            "esmini BUILD VERSION: N/A - client build\n",
            "No fixed timestep specified - running in realtime speed\n",
            "Generated seed 903562881\n",
            "Loading /content/sim_loop/scenarios/variance_bounded/0_3.2226932980315675_cut-in.xosc (v1.1)\n",
            "0 variables\n",
            "Unsupported geo reference attr: +no_defs\n",
            "Unsupported object type: rail-pole - interpret as NONE\n",
            "Unsupported object type: rail-pole - interpret as NONE\n",
            "Unsupported object type: guide-post - interpret as NONE\n",
            "Unsupported object type: guide-post - interpret as NONE\n",
            "Loaded OpenDRIVE: /content/esmini/resources/xodr/e6mini.xodr\n",
            "Expr ${250/3.6} = 250/3.6 = 69.4444444444\n",
            "Expr ${$EgoSpeed / 3.6} = 108 / 3.6 = 30.0000000000\n",
            "Expr ${$EgoStartS + $s_delta} = 25 + 27.780677308807117 = 52.7806773088\n",
            "Expr ${$EgoSpeed/3.6 - $v_delta/3.6} = 108/3.6 - 24.62192940557277/3.6 = 23.1605751651\n",
            "6 parameters:\n",
            "   v_delta = 24.62192940557277\n",
            "   s_delta = 27.780677308807117\n",
            "   EgoSpeed = 108\n",
            "   EgoStartS = 25\n",
            "   TargetVehicle = car_red\n",
            "   HostVehicle = car_white\n",
            "0.000: Window created at 60,60 with size 800,400\n",
            "Loaded OpenDRIVE: /content/esmini/resources/xodr/e6mini.xodr\n",
            "Expr ${250/3.6} = 250/3.6 = 69.4444444444\n",
            "Expr ${$EgoSpeed / 3.6} = 108 / 3.6 = 30.0000000000\n",
            "Expr ${$EgoStartS + $s_delta} = 25 + 27.780677308807117 = 52.7806773088\n",
            "Expr ${$EgoSpeed/3.6 - $v_delta/3.6} = 108/3.6 - 24.62192940557277/3.6 = 23.1605751651\n",
            "6 parameters:\n",
            "   v_delta = 24.62192940557277\n",
            "   s_delta = 27.780677308807117\n",
            "   EgoSpeed = 108\n",
            "   EgoStartS = 25\n",
            "   TargetVehicle = car_red\n",
            "   HostVehicle = car_white\n",
            "0.000: Window created at 60,60 with size 800,400\n",
            "0.000: Loaded scenegraph: /content/esmini/resources/models/e6mini.osgb\n",
            "0.000: Object ../models/railing-pole.osgb missing length, set to bounding box length 0.10\n",
            "0.000: Object ../models/railing-pole.osgb missing width, set to bounding box width 0.10\n",
            "0.000: Object ../models/railing-pole.osgb missing height, set to bounding box height 1.00\n",
            "0.000: Object ../models/railing-pole.osgb missing length, set to bounding box length 0.10\n",
            "0.000: Object ../models/railing-pole.osgb missing width, set to bounding box width 0.10\n",
            "0.000: Object ../models/railing-pole.osgb missing height, set to bounding box height 1.00\n",
            "0.000: Object ../models/railing.osgb missing length, set to bounding box length 4.00\n",
            "0.000: Object ../models/railing.osgb missing width, set to bounding box width 0.10\n",
            "0.000: Object ../models/railing.osgb missing height, set to bounding box height 0.20\n",
            "0.000: Object ../models/railing.osgb missing length, set to bounding box length 4.00\n",
            "0.000: Object ../models/railing.osgb missing width, set to bounding box width 0.10\n",
            "0.000: Object ../models/railing.osgb missing height, set to bounding box height 0.20\n",
            "0.000: Object ../models/guide-post.osgb missing length, set to bounding box length 0.08\n",
            "0.000: Object ../models/guide-post.osgb missing width, set to bounding box width 0.13\n",
            "0.000: Object ../models/guide-post.osgb missing height, set to bounding box height 1.25\n",
            "0.000: Object ../models/guide-post.osgb missing length, set to bounding box length 0.08\n",
            "0.000: Object ../models/guide-post.osgb missing width, set to bounding box width 0.13\n",
            "0.000: Object ../models/guide-post.osgb missing height, set to bounding box height 1.25\n",
            "0.000: Loaded scenegraph: /content/esmini/resources/models/e6mini.osgb\n",
            "0.000: Object ../models/railing-pole.osgb missing length, set to bounding box length 0.10\n",
            "0.000: Object ../models/railing-pole.osgb missing width, set to bounding box width 0.10\n",
            "0.000: Object ../models/railing-pole.osgb missing height, set to bounding box height 1.00\n",
            "0.000: Object ../models/railing-pole.osgb missing length, set to bounding box length 0.10\n",
            "0.000: Object ../models/railing-pole.osgb missing width, set to bounding box width 0.10\n",
            "0.000: Object ../models/railing-pole.osgb missing height, set to bounding box height 1.00\n",
            "0.000: Adjusted OverTaker bounding box to model car_red.osgb - xyz: 1.46, 0.00, 0.77 lwh: 5.04, 2.04, 1.49\n",
            "0.000: Init Ego TeleportAction initState -> startTransition -> runningState\n",
            "0.000: Starting teleport Action\n",
            "0.000: Ego New position:\n",
            "0.000: Pos(8.08, 24.97, -0.01) Rot(1.57, 0.00, 0.00) roadId 0 laneId -3 offset 0.00 t -8.00\n",
            "0.000: Init Ego LongitudinalAction initState -> startTransition -> runningState\n",
            "0.000: Init OverTaker TeleportAction initState -> startTransition -> runningState\n",
            "0.000: Starting teleport Action\n",
            "0.000: OverTaker New position:\n",
            "0.000: Pos(4.61, 52.76, -0.04) Rot(1.57, 0.00, 0.00) roadId 0 laneId -2 offset 0.00 t -4.42\n",
            "0.000: Init OverTaker LongitudinalAction initState -> startTransition -> runningState\n",
            "0.000: storyBoard initState -> startTransition -> runningState\n",
            "0.000: CutInAndBrakeStory initState -> startTransition -> runningState\n",
            "0.000: CutInAndBrakeAct initState -> initToStandbyTransition -> standbyState\n",
            "0.000: Init Ego TeleportAction runningState -> endTransition -> completeState\n",
            "0.000: Init Ego LongitudinalAction runningState -> endTransition -> completeState\n",
            "0.000: Init OverTaker TeleportAction runningState -> endTransition -> completeState\n",
            "0.000: Init OverTaker LongitudinalAction runningState -> endTransition -> completeState\n",
            "0.000: Object ../models/railing.osgb missing length, set to bounding box length 4.00\n",
            "0.000: Object ../models/railing.osgb missing width, set to bounding box width 0.10\n",
            "0.000: Object ../models/railing.osgb missing height, set to bounding box height 0.20\n",
            "0.000: Object ../models/railing.osgb missing length, set to bounding box length 4.00\n",
            "0.000: Object ../models/railing.osgb missing width, set to bounding box width 0.10\n",
            "0.000: Object ../models/railing.osgb missing height, set to bounding box height 0.20\n",
            "0.000: Object ../models/guide-post.osgb missing length, set to bounding box length 0.08\n",
            "0.000: Object ../models/guide-post.osgb missing width, set to bounding box width 0.13\n",
            "0.000: Object ../models/guide-post.osgb missing height, set to bounding box height 1.25\n",
            "0.000: Object ../models/guide-post.osgb missing length, set to bounding box length 0.08\n",
            "0.000: Object ../models/guide-post.osgb missing width, set to bounding box width 0.13\n",
            "0.000: Object ../models/guide-post.osgb missing height, set to bounding box height 1.25\n",
            "0.000: Adjusted OverTaker bounding box to model car_red.osgb - xyz: 1.46, 0.00, 0.77 lwh: 5.04, 2.04, 1.49\n",
            "0.000: Init Ego TeleportAction initState -> startTransition -> runningState\n",
            "0.000: Starting teleport Action\n",
            "0.000: Ego New position:\n",
            "0.000: Pos(8.08, 24.97, -0.01) Rot(1.57, 0.00, 0.00) roadId 0 laneId -3 offset 0.00 t -8.00\n",
            "0.000: Init Ego LongitudinalAction initState -> startTransition -> runningState\n",
            "0.000: Init OverTaker TeleportAction initState -> startTransition -> runningState\n",
            "0.000: Starting teleport Action\n",
            "0.000: OverTaker New position:\n",
            "0.000: Pos(4.61, 52.76, -0.04) Rot(1.57, 0.00, 0.00) roadId 0 laneId -2 offset 0.00 t -4.42\n",
            "0.000: Init OverTaker LongitudinalAction initState -> startTransition -> runningState\n",
            "0.000: storyBoard initState -> startTransition -> runningState\n",
            "0.000: CutInAndBrakeStory initState -> startTransition -> runningState\n",
            "0.000: CutInAndBrakeAct initState -> initToStandbyTransition -> standbyState\n",
            "0.000: Init Ego TeleportAction runningState -> endTransition -> completeState\n",
            "0.000: Init Ego LongitudinalAction runningState -> endTransition -> completeState\n",
            "0.000: Init OverTaker TeleportAction runningState -> endTransition -> completeState\n",
            "0.000: Init OverTaker LongitudinalAction runningState -> endTransition -> completeState\n",
            "---------------\n",
            "3.2226932980315675\n",
            "---------------\n",
            "0.000: FetchCapturedImagePtr Error: No image data\n",
            "---------------\n",
            "3.2226932980315675\n",
            "---------------\n",
            "0.000: FetchCapturedImagePtr Error: No image data\n",
            "\n",
            "\n",
            "0: 320x640 1 cars, 669.1ms\n",
            "Speed: 3.0ms preprocess, 669.1ms inference, 1.6ms postprocess per image at shape (1, 3, 320, 640)\n",
            "0.100: Trigger /------------------------------------------------\n",
            "0.100: CutInActStart == true, 0.1000 > 0.0000 edge: none\n",
            "0.100: Trigger  ------------------------------------------------/\n",
            "0.100: CutInAndBrakeAct standbyState -> startTransition -> runningState\n",
            "0.100: CutInAndBrakeSequence initState -> startTransition -> runningState\n",
            "0.100: CutInManeuver initState -> startTransition -> runningState\n",
            "0.100: CutInEvent initState -> initToStandbyTransition -> standbyState\n",
            "0.100: Trigger /------------------------------------------------\n",
            "0.100: Trigger  ------------------------------------------------/\n",
            "0.100: CutInEvent standbyState -> startTransition -> runningState\n",
            "0.100: CutInAction initState -> startTransition -> runningState\n",
            "0: 320x640 1 cars, 658.7ms\n",
            "Speed: 3.1ms preprocess, 658.7ms inference, 1.7ms postprocess per image at shape (1, 3, 320, 640)\n",
            "0.100: Trigger /------------------------------------------------\n",
            "0.100: CutInActStart == true, 0.1000 > 0.0000 edge: none\n",
            "0.100: Trigger  ------------------------------------------------/\n",
            "0.100: CutInAndBrakeAct standbyState -> startTransition -> runningState\n",
            "0.100: CutInAndBrakeSequence initState -> startTransition -> runningState\n",
            "0.100: CutInManeuver initState -> startTransition -> runningState\n",
            "0.100: CutInEvent initState -> initToStandbyTransition -> standbyState\n",
            "0.100: Trigger /------------------------------------------------\n",
            "0.100: Trigger  ------------------------------------------------/\n",
            "0.100: CutInEvent standbyState -> startTransition -> runningState\n",
            "0.100: CutInAction initState -> startTransition -> runningState\n",
            "\n",
            "\n",
            "0: 320x640 1 cars, 570.5ms\n",
            "Speed: 3.9ms preprocess, 570.5ms inference, 0.8ms postprocess per image at shape (1, 3, 320, 640)\n",
            "0: 320x640 1 cars, 607.1ms\n",
            "Speed: 2.5ms preprocess, 607.1ms inference, 0.9ms postprocess per image at shape (1, 3, 320, 640)\n",
            "\n",
            "\n",
            "0: 320x640 1 cars, 551.6ms\n",
            "Speed: 2.5ms preprocess, 551.6ms inference, 0.8ms postprocess per image at shape (1, 3, 320, 640)\n",
            "0: 320x640 1 cars, 524.1ms\n",
            "Speed: 8.4ms preprocess, 524.1ms inference, 1.1ms postprocess per image at shape (1, 3, 320, 640)\n",
            "\n",
            "\n",
            "0: 320x640 1 cars, 537.4ms\n",
            "Speed: 3.7ms preprocess, 537.4ms inference, 8.1ms postprocess per image at shape (1, 3, 320, 640)\n",
            "\n",
            "0: 320x640 1 cars, 587.2ms\n",
            "Speed: 9.6ms preprocess, 587.2ms inference, 1.0ms postprocess per image at shape (1, 3, 320, 640)\n",
            "\n",
            "0: 320x640 1 cars, 539.2ms\n",
            "Speed: 2.4ms preprocess, 539.2ms inference, 0.8ms postprocess per image at shape (1, 3, 320, 640)\n",
            "0: 320x640 1 cars, 476.4ms\n",
            "Speed: 2.6ms preprocess, 476.4ms inference, 1.2ms postprocess per image at shape (1, 3, 320, 640)\n",
            "\n",
            "Traceback (most recent call last):\n",
            "  File \"/content/sim_loop/evaluation/variance_bounded_testing_method/simulation/variance_bounded_colab.py\", line 35, in <module>\n",
            "    p. map(launch_scenario, range(n_runs))\n",
            "  File \"/usr/lib/python3.11/multiprocessing/pool.py\", line 367, in map\n",
            "  File \"/usr/lib/python3.11/multiprocessing/pool.py\", line 768, in get\n",
            "    self.wait(timeout)\n",
            "  File \"/usr/lib/python3.11/multiprocessing/pool.py\", line 765, in wait\n",
            "    self._event.wait(timeout)\n",
            "  File \"/usr/lib/python3.11/threading.py\", line 629, in wait\n",
            "    signaled = self._cond.wait(timeout)\n",
            "               ^^^^^^^^^^^^^^^^^^^^^^^^\n",
            "  File \"/usr/lib/python3.11/threading.py\", line 327, in wait\n",
            "    waiter.acquire()\n",
            "KeyboardInterrupt\n",
            "Traceback (most recent call last):\n",
            "  File \"/content/sim_loop/evaluation/variance_bounded_testing_method/simulation/variance_bounded_colab_execution.py\", line 200, in <module>\n",
            "    results = model(img_array)\n",
            "              ^^^^^^^^^^^^^^^^\n",
            "  File \"/usr/local/lib/python3.11/dist-packages/ultralytics/engine/model.py\", line 182, in __call__\n",
            "    return self.predict(source, stream, **kwargs)\n",
            "           ^^^^^^^^^^^^^^^^^^^^^^^^^^^^^^^^^^^^^^\n",
            "  File \"/usr/local/lib/python3.11/dist-packages/ultralytics/engine/model.py\", line 560, in predict\n",
            "    return self.predictor.predict_cli(source=source) if is_cli else self.predictor(source=source, stream=stream)\n",
            "                                                                    ^^^^^^^^^^^^^^^^^^^^^^^^^^^^^^^^^^^^^^^^^^^^\n",
            "  File \"/usr/local/lib/python3.11/dist-packages/ultralytics/engine/predictor.py\", line 175, in __call__\n",
            "Traceback (most recent call last):\n",
            "  File \"/content/sim_loop/evaluation/variance_bounded_testing_method/simulation/variance_bounded_colab_execution.py\", line 185, in <module>\n",
            "    flag = se.SE_FetchImage(ct.byref(img))\n",
            "           ^^^^^^^^^^^^^^^^^^^^^^^^^^^^^^^\n",
            "KeyboardInterrupt\n",
            "    return list(self.stream_inference(source, model, *args, **kwargs))  # merge list of Result into one\n",
            "           ^^^^^^^^^^^^^^^^^^^^^^^^^^^^^^^^^^^^^^^^^^^^^^^^^^^^^^^^^^^\n",
            "  File \"/usr/local/lib/python3.11/dist-packages/torch/utils/_contextlib.py\", line 36, in generator_context\n",
            "    response = gen.send(None)\n",
            "               ^^^^^^^^^^^^^^\n",
            "  File \"/usr/local/lib/python3.11/dist-packages/ultralytics/engine/predictor.py\", line 261, in stream_inference\n",
            "    preds = self.inference(im, *args, **kwargs)\n",
            "            ^^^^^^^^^^^^^^^^^^^^^^^^^^^^^^^^^^^\n",
            "  File \"/usr/local/lib/python3.11/dist-packages/ultralytics/engine/predictor.py\", line 145, in inference\n",
            "    return self.model(im, augment=self.args.augment, visualize=visualize, embed=self.args.embed, *args, **kwargs)\n",
            "           ^^^^^^^^^^^^^^^^^^^^^^^^^^^^^^^^^^^^^^^^^^^^^^^^^^^^^^^^^^^^^^^^^^^^^^^^^^^^^^^^^^^^^^^^^^^^^^^^^^^^^^\n",
            "  File \"/usr/local/lib/python3.11/dist-packages/torch/nn/modules/module.py\", line 1736, in _wrapped_call_impl\n",
            "    return self._call_impl(*args, **kwargs)\n",
            "           ^^^^^^^^^^^^^^^^^^^^^^^^^^^^^^^^\n",
            "  File \"/usr/local/lib/python3.11/dist-packages/torch/nn/modules/module.py\", line 1747, in _call_impl\n",
            "    return forward_call(*args, **kwargs)\n",
            "           ^^^^^^^^^^^^^^^^^^^^^^^^^^^^^\n",
            "  File \"/usr/local/lib/python3.11/dist-packages/ultralytics/nn/autobackend.py\", line 555, in forward\n",
            "    y = self.model(im, augment=augment, visualize=visualize, embed=embed)\n",
            "        ^^^^^^^^^^^^^^^^^^^^^^^^^^^^^^^^^^^^^^^^^^^^^^^^^^^^^^^^^^^^^^^^^\n",
            "  File \"/usr/local/lib/python3.11/dist-packages/torch/nn/modules/module.py\", line 1736, in _wrapped_call_impl\n",
            "    return self._call_impl(*args, **kwargs)\n",
            "           ^^^^^^^^^^^^^^^^^^^^^^^^^^^^^^^^\n",
            "  File \"/usr/local/lib/python3.11/dist-packages/torch/nn/modules/module.py\", line 1747, in _call_impl\n",
            "    return forward_call(*args, **kwargs)\n",
            "           ^^^^^^^^^^^^^^^^^^^^^^^^^^^^^\n",
            "  File \"/usr/local/lib/python3.11/dist-packages/ultralytics/nn/tasks.py\", line 113, in forward\n",
            "    return self.predict(x, *args, **kwargs)\n",
            "           ^^^^^^^^^^^^^^^^^^^^^^^^^^^^^^^^\n",
            "  File \"/usr/local/lib/python3.11/dist-packages/ultralytics/nn/tasks.py\", line 131, in predict\n",
            "    return self._predict_once(x, profile, visualize, embed)\n",
            "           ^^^^^^^^^^^^^^^^^^^^^^^^^^^^^^^^^^^^^^^^^^^^^^^^\n",
            "  File \"/usr/local/lib/python3.11/dist-packages/ultralytics/nn/tasks.py\", line 152, in _predict_once\n",
            "    x = m(x)  # run\n",
            "        ^^^^\n",
            "  File \"/usr/local/lib/python3.11/dist-packages/torch/nn/modules/module.py\", line 1736, in _wrapped_call_impl\n",
            "    return self._call_impl(*args, **kwargs)\n",
            "           ^^^^^^^^^^^^^^^^^^^^^^^^^^^^^^^^\n",
            "  File \"/usr/local/lib/python3.11/dist-packages/torch/nn/modules/module.py\", line 1747, in _call_impl\n",
            "    return forward_call(*args, **kwargs)\n",
            "           ^^^^^^^^^^^^^^^^^^^^^^^^^^^^^\n",
            "  File \"/usr/local/lib/python3.11/dist-packages/ultralytics/nn/modules/conv.py\", line 55, in forward_fuse\n",
            "    return self.act(self.conv(x))\n",
            "                    ^^^^^^^^^^^^\n",
            "  File \"/usr/local/lib/python3.11/dist-packages/torch/nn/modules/module.py\", line 1736, in _wrapped_call_impl\n",
            "    return self._call_impl(*args, **kwargs)\n",
            "           ^^^^^^^^^^^^^^^^^^^^^^^^^^^^^^^^\n",
            "  File \"/usr/local/lib/python3.11/dist-packages/torch/nn/modules/module.py\", line 1747, in _call_impl\n",
            "    return forward_call(*args, **kwargs)\n",
            "           ^^^^^^^^^^^^^^^^^^^^^^^^^^^^^\n",
            "  File \"/usr/local/lib/python3.11/dist-packages/torch/nn/modules/conv.py\", line 554, in forward\n",
            "    return self._conv_forward(input, self.weight, self.bias)\n",
            "           ^^^^^^^^^^^^^^^^^^^^^^^^^^^^^^^^^^^^^^^^^^^^^^^^^\n",
            "  File \"/usr/local/lib/python3.11/dist-packages/torch/nn/modules/conv.py\", line 549, in _conv_forward\n",
            "    return F.conv2d(\n",
            "           ^^^^^^^^^\n",
            "KeyboardInterrupt\n",
            "^C\n"
          ]
        }
      ]
    },
    {
      "cell_type": "code",
      "source": [
        "!python /content/sim_loop/evaluation/variance_bounded_testing_method/simulation/variance_bounded_colab_execution.py --window 60 60 800 400 --headless --osc /content/sim_loop/scenarios/variance_bounded/0_3.2226932980315675_cut-in.xosc"
      ],
      "metadata": {
        "id": "59F8yZpP1zpZ",
        "outputId": "ce2de999-d984-42d4-b2f4-593cb9beab03",
        "colab": {
          "base_uri": "https://localhost:8080/"
        }
      },
      "execution_count": 12,
      "outputs": [
        {
          "output_type": "stream",
          "name": "stdout",
          "text": [
            "Creating new Ultralytics Settings v0.0.6 file ✅ \n",
            "View Ultralytics Settings with 'yolo settings' or at '/root/.config/Ultralytics/settings.json'\n",
            "Update Settings with 'yolo settings key=value', i.e. 'yolo settings runs_dir=path/to/dir'. For help see https://docs.ultralytics.com/quickstart/#ultralytics-settings.\n",
            "esmini GIT REV: v2.40.3-0-9fa4bae8\n",
            "esmini GIT TAG: v2.40.3\n",
            "esmini GIT BRANCH: tags/v2.40.3^0\n",
            "esmini BUILD VERSION: N/A - client build\n",
            "Player arguments:  /content/sim_loop/evaluation/variance_bounded_testing_method/simulation/variance_bounded_colab_execution.py --window 60 60 800 400 --headless --osc /content/sim_loop/scenarios/variance_bounded/0_3.2226932980315675_cut-in.xosc\n",
            "esmini GIT REV: v2.40.3-0-9fa4bae8\n",
            "esmini GIT TAG: v2.40.3\n",
            "esmini GIT BRANCH: tags/v2.40.3^0\n",
            "esmini BUILD VERSION: N/A - client build\n",
            "No fixed timestep specified - running in realtime speed\n",
            "Generated seed 1863211189\n",
            "Loading /content/sim_loop/scenarios/variance_bounded/0_3.2226932980315675_cut-in.xosc (v1.1)\n",
            "0 variables\n",
            "Unsupported geo reference attr: +no_defs\n",
            "Unsupported object type: rail-pole - interpret as NONE\n",
            "Unsupported object type: rail-pole - interpret as NONE\n",
            "Unsupported object type: guide-post - interpret as NONE\n",
            "Unsupported object type: guide-post - interpret as NONE\n",
            "Loaded OpenDRIVE: /content/esmini/resources/xodr/e6mini.xodr\n",
            "Expr ${250/3.6} = 250/3.6 = 69.4444444444\n",
            "Expr ${$EgoSpeed / 3.6} = 108 / 3.6 = 30.0000000000\n",
            "Expr ${$EgoStartS + $s_delta} = 25 + 27.780677308807117 = 52.7806773088\n",
            "Expr ${$EgoSpeed/3.6 - $v_delta/3.6} = 108/3.6 - 24.62192940557277/3.6 = 23.1605751651\n",
            "6 parameters:\n",
            "   v_delta = 24.62192940557277\n",
            "   s_delta = 27.780677308807117\n",
            "   EgoSpeed = 108\n",
            "   EgoStartS = 25\n",
            "   TargetVehicle = car_red\n",
            "   HostVehicle = car_white\n",
            "0.000: Window created at 60,60 with size 800,400\n",
            "0.000: Loaded scenegraph: /content/esmini/resources/models/e6mini.osgb\n",
            "0.000: Object ../models/railing-pole.osgb missing length, set to bounding box length 0.10\n",
            "0.000: Object ../models/railing-pole.osgb missing width, set to bounding box width 0.10\n",
            "0.000: Object ../models/railing-pole.osgb missing height, set to bounding box height 1.00\n",
            "0.000: Object ../models/railing-pole.osgb missing length, set to bounding box length 0.10\n",
            "0.000: Object ../models/railing-pole.osgb missing width, set to bounding box width 0.10\n",
            "0.000: Object ../models/railing-pole.osgb missing height, set to bounding box height 1.00\n",
            "0.000: Object ../models/railing.osgb missing length, set to bounding box length 4.00\n",
            "0.000: Object ../models/railing.osgb missing width, set to bounding box width 0.10\n",
            "0.000: Object ../models/railing.osgb missing height, set to bounding box height 0.20\n",
            "0.000: Object ../models/railing.osgb missing length, set to bounding box length 4.00\n",
            "0.000: Object ../models/railing.osgb missing width, set to bounding box width 0.10\n",
            "0.000: Object ../models/railing.osgb missing height, set to bounding box height 0.20\n",
            "0.000: Object ../models/guide-post.osgb missing length, set to bounding box length 0.08\n",
            "0.000: Object ../models/guide-post.osgb missing width, set to bounding box width 0.13\n",
            "0.000: Object ../models/guide-post.osgb missing height, set to bounding box height 1.25\n",
            "0.000: Object ../models/guide-post.osgb missing length, set to bounding box length 0.08\n",
            "0.000: Object ../models/guide-post.osgb missing width, set to bounding box width 0.13\n",
            "0.000: Object ../models/guide-post.osgb missing height, set to bounding box height 1.25\n",
            "0.000: Adjusted OverTaker bounding box to model car_red.osgb - xyz: 1.46, 0.00, 0.77 lwh: 5.04, 2.04, 1.49\n",
            "0.000: Init Ego TeleportAction initState -> startTransition -> runningState\n",
            "0.000: Starting teleport Action\n",
            "0.000: Ego New position:\n",
            "0.000: Pos(8.08, 24.97, -0.01) Rot(1.57, 0.00, 0.00) roadId 0 laneId -3 offset 0.00 t -8.00\n",
            "0.000: Init Ego LongitudinalAction initState -> startTransition -> runningState\n",
            "0.000: Init OverTaker TeleportAction initState -> startTransition -> runningState\n",
            "0.000: Starting teleport Action\n",
            "0.000: OverTaker New position:\n",
            "0.000: Pos(4.61, 52.76, -0.04) Rot(1.57, 0.00, 0.00) roadId 0 laneId -2 offset 0.00 t -4.42\n",
            "0.000: Init OverTaker LongitudinalAction initState -> startTransition -> runningState\n",
            "0.000: storyBoard initState -> startTransition -> runningState\n",
            "0.000: CutInAndBrakeStory initState -> startTransition -> runningState\n",
            "0.000: CutInAndBrakeAct initState -> initToStandbyTransition -> standbyState\n",
            "0.000: Init Ego TeleportAction runningState -> endTransition -> completeState\n",
            "0.000: Init Ego LongitudinalAction runningState -> endTransition -> completeState\n",
            "0.000: Init OverTaker TeleportAction runningState -> endTransition -> completeState\n",
            "0.000: Init OverTaker LongitudinalAction runningState -> endTransition -> completeState\n",
            "---------------\n",
            "3.2226932980315675\n",
            "---------------\n",
            "0.000: FetchCapturedImagePtr Error: No image data\n",
            "\n",
            "0: 320x640 1 cars, 513.1ms\n",
            "Speed: 37.0ms preprocess, 513.1ms inference, 34.7ms postprocess per image at shape (1, 3, 320, 640)\n",
            "0.100: Trigger /------------------------------------------------\n",
            "0.100: CutInActStart == true, 0.1000 > 0.0000 edge: none\n",
            "0.100: Trigger  ------------------------------------------------/\n",
            "0.100: CutInAndBrakeAct standbyState -> startTransition -> runningState\n",
            "0.100: CutInAndBrakeSequence initState -> startTransition -> runningState\n",
            "0.100: CutInManeuver initState -> startTransition -> runningState\n",
            "0.100: CutInEvent initState -> initToStandbyTransition -> standbyState\n",
            "0.100: Trigger /------------------------------------------------\n",
            "0.100: Trigger  ------------------------------------------------/\n",
            "0.100: CutInEvent standbyState -> startTransition -> runningState\n",
            "0.100: CutInAction initState -> startTransition -> runningState\n",
            "\n",
            "0: 320x640 1 cars, 294.2ms\n",
            "Speed: 2.5ms preprocess, 294.2ms inference, 0.9ms postprocess per image at shape (1, 3, 320, 640)\n",
            "\n",
            "0: 320x640 1 cars, 277.1ms\n",
            "Speed: 2.5ms preprocess, 277.1ms inference, 0.9ms postprocess per image at shape (1, 3, 320, 640)\n",
            "\n",
            "0: 320x640 1 cars, 262.9ms\n",
            "Speed: 3.2ms preprocess, 262.9ms inference, 0.9ms postprocess per image at shape (1, 3, 320, 640)\n",
            "\n",
            "0: 320x640 1 cars, 265.6ms\n",
            "Speed: 2.6ms preprocess, 265.6ms inference, 0.9ms postprocess per image at shape (1, 3, 320, 640)\n",
            "\n",
            "0: 320x640 1 cars, 257.8ms\n",
            "Speed: 2.6ms preprocess, 257.8ms inference, 0.9ms postprocess per image at shape (1, 3, 320, 640)\n",
            "\n",
            "0: 320x640 1 cars, 267.1ms\n",
            "Speed: 6.1ms preprocess, 267.1ms inference, 0.8ms postprocess per image at shape (1, 3, 320, 640)\n",
            "\n",
            "0: 320x640 1 cars, 270.8ms\n",
            "Speed: 2.4ms preprocess, 270.8ms inference, 0.9ms postprocess per image at shape (1, 3, 320, 640)\n",
            "\n",
            "0: 320x640 1 cars, 257.4ms\n",
            "Speed: 2.5ms preprocess, 257.4ms inference, 0.8ms postprocess per image at shape (1, 3, 320, 640)\n",
            "\n",
            "0: 320x640 1 cars, 260.3ms\n",
            "Speed: 2.5ms preprocess, 260.3ms inference, 1.2ms postprocess per image at shape (1, 3, 320, 640)\n",
            "\n",
            "0: 320x640 1 cars, 441.0ms\n",
            "Speed: 2.5ms preprocess, 441.0ms inference, 1.2ms postprocess per image at shape (1, 3, 320, 640)\n",
            "\n",
            "0: 320x640 1 cars, 434.4ms\n",
            "Speed: 3.5ms preprocess, 434.4ms inference, 1.1ms postprocess per image at shape (1, 3, 320, 640)\n",
            "\n",
            "0: 320x640 1 cars, 405.8ms\n",
            "Speed: 3.7ms preprocess, 405.8ms inference, 0.9ms postprocess per image at shape (1, 3, 320, 640)\n",
            "\n",
            "0: 320x640 1 cars, 422.6ms\n",
            "Speed: 4.6ms preprocess, 422.6ms inference, 1.0ms postprocess per image at shape (1, 3, 320, 640)\n",
            "Injecting speed action - brake\n",
            "1.400: Adding action SpeedAction_0\n",
            "1.400: SpeedAction_0 initState -> startTransition -> runningState\n",
            "\n",
            "0: 320x640 1 cars, 404.0ms\n",
            "Speed: 3.6ms preprocess, 404.0ms inference, 1.0ms postprocess per image at shape (1, 3, 320, 640)\n",
            "Injecting speed action - accelerate\n",
            "1.500: Adding action SpeedAction_1\n",
            "1.500: Action SpeedAction_0 of type SpeedAction already ongoing for Ego, stopping it\n",
            "1.500: SpeedAction_0 runningState -> endTransition -> completeState\n",
            "1.500: SpeedAction_1 initState -> startTransition -> runningState\n",
            "1.600: Injected action SpeedAction_0 finished\n",
            "\n",
            "0: 320x640 1 cars, 431.9ms\n",
            "Speed: 3.8ms preprocess, 431.9ms inference, 1.2ms postprocess per image at shape (1, 3, 320, 640)\n",
            "1.600: SpeedAction_1 runningState -> endTransition -> completeState\n",
            "1.700: Injected action SpeedAction_1 finished\n",
            "\n",
            "0: 320x640 1 cars, 421.4ms\n",
            "Speed: 3.7ms preprocess, 421.4ms inference, 1.2ms postprocess per image at shape (1, 3, 320, 640)\n",
            "Injecting speed action - brake\n",
            "1.700: Adding action SpeedAction_2\n",
            "1.700: SpeedAction_2 initState -> startTransition -> runningState\n",
            "Traceback (most recent call last):\n",
            "  File \"/content/sim_loop/evaluation/variance_bounded_testing_method/simulation/variance_bounded_colab_execution.py\", line 186, in <module>\n",
            "    flag = se.SE_FetchImage(ct.byref(img))\n",
            "           ^^^^^^^^^^^^^^^^^^^^^^^^^^^^^^^\n",
            "KeyboardInterrupt\n"
          ]
        }
      ]
    },
    {
      "cell_type": "code",
      "execution_count": null,
      "metadata": {
        "id": "25CHPhPLYLXo"
      },
      "outputs": [],
      "source": [
        "# analyze logs and store results"
      ]
    },
    {
      "cell_type": "code",
      "execution_count": null,
      "metadata": {
        "id": "S-MEOAw3DxX7"
      },
      "outputs": [],
      "source": [
        "%mkdir logs"
      ]
    },
    {
      "cell_type": "code",
      "execution_count": null,
      "metadata": {
        "id": "nOhIXm93DzDK"
      },
      "outputs": [],
      "source": [
        "# prompt: move all log files to logs folder\n",
        "\n",
        "import shutil\n",
        "import glob\n",
        "\n",
        "# Move all log files to the logs folder\n",
        "log_files = glob.glob(\"*.txt\")  # Find all files ending with .log in the current directory\n",
        "for log_file in log_files:\n",
        "  try:\n",
        "    shutil.move(log_file, \"logs/\")  # Move the file to the logs/ directory\n",
        "  except FileNotFoundError:\n",
        "    print(f\"Error: The 'logs' directory does not exist.\")\n",
        "  except shutil.Error as e:\n",
        "    print(f\"Error moving file {log_file}: {e}\")"
      ]
    },
    {
      "cell_type": "code",
      "execution_count": null,
      "metadata": {
        "id": "LjxkbD4h0ujk"
      },
      "outputs": [],
      "source": [
        "%rm -r logs_old"
      ]
    },
    {
      "cell_type": "code",
      "execution_count": null,
      "metadata": {
        "colab": {
          "base_uri": "https://localhost:8080/"
        },
        "id": "OIWC_106EPIE",
        "outputId": "a762d888-e3ae-4a60-a507-5dddae5f3bcd"
      },
      "outputs": [
        {
          "name": "stdout",
          "output_type": "stream",
          "text": [
            "Logs folder zipped successfully to logs.zip\n"
          ]
        }
      ],
      "source": [
        "# prompt: zip the logs folder\n",
        "\n",
        "import shutil\n",
        "import os\n",
        "\n",
        "def zip_logs():\n",
        "  # Check if the logs directory exists\n",
        "  if os.path.exists(\"logs\"):\n",
        "    try:\n",
        "      shutil.make_archive(\"logs\", \"zip\", \"logs\")\n",
        "      print(\"Logs folder zipped successfully to logs.zip\")\n",
        "    except Exception as e:\n",
        "      print(f\"Error zipping logs folder: {e}\")\n",
        "  else:\n",
        "    print(\"Error: logs folder not found.\")\n",
        "\n",
        "zip_logs()"
      ]
    }
  ],
  "metadata": {
    "colab": {
      "provenance": []
    },
    "kernelspec": {
      "display_name": "Python 3",
      "name": "python3"
    },
    "language_info": {
      "codemirror_mode": {
        "name": "ipython",
        "version": 3
      },
      "file_extension": ".py",
      "mimetype": "text/x-python",
      "name": "python",
      "nbconvert_exporter": "python",
      "pygments_lexer": "ipython3",
      "version": "3.10.12"
    }
  },
  "nbformat": 4,
  "nbformat_minor": 0
}