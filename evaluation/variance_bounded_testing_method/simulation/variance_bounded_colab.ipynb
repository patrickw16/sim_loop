{
  "cells": [
    {
      "cell_type": "code",
      "execution_count": 2,
      "metadata": {
        "colab": {
          "base_uri": "https://localhost:8080/"
        },
        "id": "vjldM5bAXmgN",
        "outputId": "a76fb017-1abf-411b-b204-9036e662a427"
      },
      "outputs": [
        {
          "output_type": "stream",
          "name": "stdout",
          "text": [
            "Drive already mounted at /content/drive; to attempt to forcibly remount, call drive.mount(\"/content/drive\", force_remount=True).\n"
          ]
        }
      ],
      "source": [
        "from google.colab import drive\n",
        "drive.mount('/content/drive')"
      ]
    },
    {
      "cell_type": "code",
      "execution_count": 3,
      "metadata": {
        "id": "5ccNKFkEXnMw"
      },
      "outputs": [],
      "source": [
        "%%capture\n",
        "!cp -r /content/drive/MyDrive/esmini.zip /content/esmini.zip\n",
        "!unzip /content/esmini.zip"
      ]
    },
    {
      "cell_type": "code",
      "execution_count": 4,
      "metadata": {
        "collapsed": true,
        "id": "bSykfRrWZtJc"
      },
      "outputs": [],
      "source": [
        "%%capture\n",
        "!apt-get install -y xvfb x11-utils\n",
        "!pip install ultralytics"
      ]
    },
    {
      "cell_type": "code",
      "execution_count": 5,
      "metadata": {
        "colab": {
          "base_uri": "https://localhost:8080/"
        },
        "id": "yeFE0bhYcP6O",
        "outputId": "b12c6951-1e6f-475e-91b6-7dca0af45899"
      },
      "outputs": [
        {
          "output_type": "stream",
          "name": "stdout",
          "text": [
            "Starting virtual X frame buffer: Xvfb.\n"
          ]
        }
      ],
      "source": [
        "import sys, os\n",
        "!wget -q https://raw.githubusercontent.com/yandexdataschool/Practical_RL/master/xvfb -O ../xvfb\n",
        "if type(os.environ.get(\"DISPLAY\")) is not str or len(os.environ.get(\"DISPLAY\")) == 0:\n",
        "    !bash ../xvfb start\n",
        "    os.environ['DISPLAY'] = ':1'\n",
        "!cp -r /content/drive/MyDrive/xvfb /content/xvfb\n",
        "!chmod 755 /content/xvfb"
      ]
    },
    {
      "cell_type": "code",
      "execution_count": 6,
      "metadata": {
        "colab": {
          "base_uri": "https://localhost:8080/"
        },
        "id": "wPA0z77VL8Oj",
        "outputId": "11d094bd-6771-460f-d36f-504e034b950a"
      },
      "outputs": [
        {
          "output_type": "stream",
          "name": "stdout",
          "text": [
            "rm: cannot remove 'sim_loop': No such file or directory\n"
          ]
        }
      ],
      "source": [
        "%rm -r sim_loop"
      ]
    },
    {
      "cell_type": "code",
      "execution_count": 7,
      "metadata": {
        "colab": {
          "base_uri": "https://localhost:8080/"
        },
        "collapsed": true,
        "id": "w61l2pIgcESX",
        "outputId": "26fdc1d2-b62e-48c8-b627-3d0c44f57fc5"
      },
      "outputs": [
        {
          "output_type": "stream",
          "name": "stdout",
          "text": [
            "Starting virtual X frame buffer: Xvfb.\n",
            "/content/esmini\n",
            "/content\n",
            "Cloning into 'sim_loop'...\n",
            "remote: Enumerating objects: 3799, done.\u001b[K\n",
            "remote: Counting objects: 100% (751/751), done.\u001b[K\n",
            "remote: Compressing objects: 100% (234/234), done.\u001b[K\n",
            "remote: Total 3799 (delta 597), reused 643 (delta 516), pack-reused 3048 (from 1)\u001b[K\n",
            "Receiving objects: 100% (3799/3799), 90.90 MiB | 19.70 MiB/s, done.\n",
            "Resolving deltas: 100% (3246/3246), done.\n",
            "Updating files: 100% (3408/3408), done.\n"
          ]
        }
      ],
      "source": [
        "!/content/xvfb start\n",
        "%cd /content/esmini\n",
        "!chmod 755 bin/esmini\n",
        "%cd /content\n",
        "!git clone https://github.com/patrickw16/sim_loop.git"
      ]
    },
    {
      "cell_type": "code",
      "execution_count": 8,
      "metadata": {
        "colab": {
          "base_uri": "https://localhost:8080/"
        },
        "id": "fUGGwFUSYLXh",
        "outputId": "3d6a7f01-bd20-4a93-9a7d-af7ddc4375b7"
      },
      "outputs": [
        {
          "output_type": "stream",
          "name": "stdout",
          "text": [
            "Cloning into 'odd_coverage'...\n",
            "remote: Enumerating objects: 2809, done.\u001b[K\n",
            "remote: Counting objects: 100% (51/51), done.\u001b[K\n",
            "remote: Compressing objects: 100% (40/40), done.\u001b[K\n",
            "remote: Total 2809 (delta 26), reused 28 (delta 11), pack-reused 2758 (from 1)\u001b[K\n",
            "Receiving objects: 100% (2809/2809), 44.42 MiB | 23.08 MiB/s, done.\n",
            "Resolving deltas: 100% (2232/2232), done.\n",
            "Updating files: 100% (4838/4838), done.\n",
            "/content/odd_coverage\n",
            "Branch 'ThreeDimensional' set up to track remote branch 'ThreeDimensional' from 'origin'.\n",
            "Switched to a new branch 'ThreeDimensional'\n",
            "/content\n"
          ]
        }
      ],
      "source": [
        "!git clone https://...@github.com/patrickw16/odd_coverage.git\n",
        "%cd odd_coverage\n",
        "!git checkout ThreeDimensional\n",
        "%cd /content"
      ]
    },
    {
      "cell_type": "code",
      "execution_count": 9,
      "metadata": {
        "id": "eIWXbXVjYLXi"
      },
      "outputs": [],
      "source": [
        "%%capture\n",
        "!sudo apt install texlive texlive-latex-extra texlive-fonts-recommended dvipng\n",
        "!pip install latex\n",
        "!sudo apt install cm-super"
      ]
    },
    {
      "cell_type": "code",
      "source": [
        "import numpy as np\n",
        "import subprocess\n",
        "import sys\n",
        "import os.path\n",
        "import shutil\n",
        "import glob\n",
        "import os\n",
        "import pandas as pd\n",
        "import matplotlib.pyplot as plt\n",
        "\n",
        "from PIL import Image\n",
        "from IPython.core.display import SVG\n",
        "from pathlib import Path\n",
        "from multiprocessing.pool import ThreadPool\n",
        "\n",
        "from sim_loop.evaluation.cube_based_evaluation import CubeBasedEvaluation, fail_ratio\n",
        "from sim_loop.evaluation.variance_bounded_testing_method.simulation.parameter_set_generation import modify_xml\n",
        "from odd_coverage.odd_coverage.coverage_param_lvl.coverage_param_lvl import CoverageParamLvl\n",
        "\n",
        "# Generate variance bounded test cases\n",
        "def generate_variance_bounded_test_cases(prior_path, number_of_test_values):\n",
        "  my_coverage_param = CoverageParamLvl(\n",
        "                      number_of_test_values=number_of_test_values,\n",
        "                      trace_epsilon=0.0075,\n",
        "                      epsilon_buffer=0.005,\n",
        "                      number_of_attempts=1,\n",
        "                      combined_points_data_path=prior_path)\n",
        "\n",
        "  param_values, cov_contribution, updated_cluster_traces, adapted_kmeans_labels, re_sampled_scaled, scaler, weighted_within_variance = my_coverage_param.get_optimised_values()\n",
        "  points = scaler.inverse_transform(re_sampled_scaled)\n",
        "\n",
        "  #SVG(filename='/content/var_poc_3d_example.svg')\n",
        "  return points, adapted_kmeans_labels, param_values\n",
        "\n",
        "\n",
        "# Generate scenarios\n",
        "def generate_scenarios(param_values):\n",
        "  for idx, parameter in enumerate(param_values):\n",
        "\n",
        "      new_s_delta = param_values[idx, 0]  # New value for s_delta\n",
        "      new_v_delta = param_values[idx, 1]  # New value for v_delta\n",
        "      new_a_dec = param_values[idx, 2]  # New value for a_dec\n",
        "\n",
        "      input_file = '/content/sim_loop/scenarios/cut-in.xosc'  # Replace with your input file path\n",
        "      output_file = f'/content/sim_loop/scenarios/variance_bounded/{idx}_{new_a_dec}_cut-in.xosc'  # Replace with your desired output file path\n",
        "\n",
        "      modify_xml(input_file, output_file, new_s_delta, new_v_delta)\n",
        "  return None\n",
        "\n",
        "\n",
        "def create_folder(path):\n",
        "  # Specify the name of the new folder\n",
        "  folder_name = Path(path)\n",
        "  # Create the new folder\n",
        "  try:\n",
        "      folder_name.mkdir(parents=True, exist_ok=True)\n",
        "      print(f\"Folder '{folder_name}' created successfully.\")\n",
        "  except Exception as e:\n",
        "      print(f\"An error occurred: {e}\")\n",
        "\n",
        "\n",
        "def launch_scenario(index):\n",
        "    p = subprocess.run(\n",
        "        ['python'] + ['/content/sim_loop/evaluation/variance_bounded_testing_method/simulation/variance_bounded_colab_execution.py'] + ['--window'] + [str(60)] + [str(60)] + [str(800)] + [str(400)] + ['--headless'] + ['--osc'] + [f'/content/sim_loop/scenarios/variance_bounded/{str(index)}_{str(param_values[index, 2])}_cut-in.xosc'] + ['--logfile_path'] + [f'/content/{str(index)}_log.txt'],\n",
        "    )\n",
        "\n",
        "def simulation_run(param_values):\n",
        "    n_runs = len(param_values)\n",
        "    print('Launching {} scenarios'.format(n_runs))\n",
        "\n",
        "    with ThreadPool() as p:\n",
        "        p. map(launch_scenario, range(n_runs))\n",
        "\n",
        "    print()\n",
        "\n",
        "def delete_log_txt(path):\n",
        "  # Specify the folder to search in\n",
        "  folder_path = Path(path)\n",
        "  file_name = \"log.txt\"\n",
        "  file_path = folder_path / file_name\n",
        "\n",
        "  # Check if the file exists and delete it\n",
        "  if file_path.is_file():\n",
        "      try:\n",
        "          file_path.unlink()\n",
        "          print(f\"File '{file_name}' deleted successfully.\")\n",
        "      except Exception as e:\n",
        "          print(f\"An error occurred while deleting the file: {e}\")\n",
        "  else:\n",
        "      print(f\"File '{file_name}' not found in '{folder_path}'.\")\n",
        "\n",
        "\n",
        "#move all log files to logs folder\n",
        "def move_log_files():\n",
        "  # Move all log files to the logs folder\n",
        "  log_files = glob.glob(\"*.txt\")  # Find all files ending with .log in the current directory\n",
        "  for log_file in log_files:\n",
        "    try:\n",
        "      shutil.move(log_file, \"logs/\")  # Move the file to the logs/ directory\n",
        "    except FileNotFoundError:\n",
        "      print(f\"Error: The 'logs' directory does not exist.\")\n",
        "    except shutil.Error as e:\n",
        "      print(f\"Error moving file {log_file}: {e}\")\n",
        "\n",
        "\n",
        "#zip the logs folder\n",
        "def zip_logs():\n",
        "  # Check if the logs directory exists\n",
        "  if os.path.exists(\"logs\"):\n",
        "    try:\n",
        "      shutil.make_archive(\"logs\", \"zip\", \"logs\")\n",
        "      print(\"Logs folder zipped successfully to logs.zip\")\n",
        "    except Exception as e:\n",
        "      print(f\"Error zipping logs folder: {e}\")\n",
        "  else:\n",
        "    print(\"Error: logs folder not found.\")\n",
        "\n",
        "\n",
        "def remove_tree(path):\n",
        "    for root, dirs, files in os.walk(path, topdown=False):\n",
        "        for name in files:\n",
        "            os.remove(os.path.join(root, name))\n",
        "        for name in dirs:\n",
        "            os.rmdir(os.path.join(root, name))\n",
        "    os.rmdir(path)\n",
        "\n",
        "\n",
        "def compile_log_data():\n",
        "  log_file = \"logs\"\n",
        "  log_directory = os.path.join(os.path.expanduser('~'), f\"/content/{log_file}\")\n",
        "\n",
        "  # Get a sorted list of all .txt files in the directory\n",
        "  log_files = sorted([f for f in os.listdir(log_directory) if f.endswith('.txt')])\n",
        "\n",
        "  # Initialize a list to hold all parameter dictionaries\n",
        "  all_parameters = []\n",
        "\n",
        "  # Loop through each log file and read its contents\n",
        "  for filename in log_files:\n",
        "      log_file_path = os.path.join(log_directory, filename)\n",
        "\n",
        "      # Open the log file and read its contents\n",
        "      with open(log_file_path, 'r') as file:\n",
        "          log_contents = file.readlines()  # Read lines into a list\n",
        "\n",
        "      # Initialize a dictionary to hold parameters\n",
        "      parameters = {}\n",
        "      parameters_started = False\n",
        "      collision_detected = False  # Flag to check for collision line\n",
        "\n",
        "      # Loop through the lines to find \"6 parameters:\" and extract parameters\n",
        "      for line in log_contents:\n",
        "          if \"6 parameters:\" in line:\n",
        "              parameters_started = True  # Start reading parameters\n",
        "              continue  # Skip the line with \"6 parameters:\"\n",
        "\n",
        "          # Check for the collision line\n",
        "          if \"Collision\" in line:\n",
        "              collision_detected = True\n",
        "\n",
        "          if parameters_started:\n",
        "              # Split the line into key and value\n",
        "              if '=' in line:\n",
        "                  key, value = line.split('=')\n",
        "                  key = key.replace(' ', '')\n",
        "                  value = value.replace(' ', '')\n",
        "                  value = value.replace(\"\\n\", \"\")\n",
        "                  parameters[key.strip()] = float(value.strip())  # Store as float\n",
        "                  if key == \"EgoStartS\":\n",
        "                      parameters_started = False\n",
        "\n",
        "      # Add collision information to the parameters dictionary\n",
        "      parameters['CollisionDetected'] = collision_detected\n",
        "      parameters['Filename'] = filename  # Optionally include the filename\n",
        "\n",
        "      # Append the parameters dictionary to the list\n",
        "      all_parameters.append(parameters)\n",
        "\n",
        "  # Create a DataFrame from the list of dictionaries\n",
        "  df = pd.DataFrame(all_parameters)\n",
        "\n",
        "  # Save the DataFrame to a CSV file\n",
        "  output_file = f'{log_directory}/compiled_log_data.csv'\n",
        "  df.to_csv(output_file, index=False)\n",
        "\n",
        "  print(f\"Data saved to {output_file}\")\n",
        "\n",
        "#Load GT data:\n",
        "gt_cubes_sizes = np.load('/content/sim_loop/evaluation/gt_analysis/data/gt_cube_sizes.npy')\n",
        "gt_pass_fail = np.load('/content/sim_loop/evaluation/gt_analysis/data/gt_pass_fail.npy')\n",
        "gt_sub_cube_centers = np.load('/content/sim_loop/evaluation/gt_analysis/data/gt_sub_cube_centers.npy')"
      ],
      "metadata": {
        "id": "1VP2ycyGyXM1"
      },
      "execution_count": 12,
      "outputs": []
    },
    {
      "cell_type": "code",
      "source": [
        "points, adapted_kmeans_labels, param_values = generate_variance_bounded_test_cases(\n",
        "    './sim_loop/evaluation/variance_bounded_testing_method/data/prior/prior_points_s_delta_v_delta_ego_max_dec_-3_10_0.npy',2)"
      ],
      "metadata": {
        "colab": {
          "base_uri": "https://localhost:8080/"
        },
        "id": "zhAkRIOJ0GoH",
        "outputId": "2586aa54-24af-4715-9f21-92805c27fc4b"
      },
      "execution_count": 27,
      "outputs": [
        {
          "output_type": "stream",
          "name": "stdout",
          "text": [
            "I will break since no more clusters in red zone.\n",
            "I successfully finished. There are 1 successful attempts.\n"
          ]
        }
      ]
    },
    {
      "cell_type": "code",
      "source": [
        "create_folder(path='/content/sim_loop/scenarios/variance_bounded')\n",
        "generate_scenarios(param_values)"
      ],
      "metadata": {
        "colab": {
          "base_uri": "https://localhost:8080/"
        },
        "id": "cWGdPZYv1_dr",
        "outputId": "1f7e9110-f250-47fa-ef0c-107bdb689c16"
      },
      "execution_count": 28,
      "outputs": [
        {
          "output_type": "stream",
          "name": "stdout",
          "text": [
            "Folder '/content/sim_loop/scenarios/variance_bounded' created successfully.\n"
          ]
        }
      ]
    },
    {
      "cell_type": "code",
      "source": [
        "simulation_run(param_values=param_values)"
      ],
      "metadata": {
        "colab": {
          "base_uri": "https://localhost:8080/"
        },
        "id": "rgmEJsBq7Cyl",
        "outputId": "a4f89238-c747-46f6-8ad2-8cdfafb76d09"
      },
      "execution_count": 29,
      "outputs": [
        {
          "output_type": "stream",
          "name": "stdout",
          "text": [
            "Launching 2 scenarios\n",
            "\n"
          ]
        }
      ]
    },
    {
      "cell_type": "code",
      "execution_count": 30,
      "metadata": {
        "id": "S-MEOAw3DxX7",
        "colab": {
          "base_uri": "https://localhost:8080/"
        },
        "outputId": "e6fed1c8-e135-4189-b2a9-920fb12e567d"
      },
      "outputs": [
        {
          "output_type": "stream",
          "name": "stdout",
          "text": [
            "Folder '/content/logs' created successfully.\n",
            "File 'log.txt' deleted successfully.\n",
            "Data saved to /content/logs/compiled_log_data.csv\n"
          ]
        }
      ],
      "source": [
        "create_folder(path='/content/logs')\n",
        "delete_log_txt(path='/content')\n",
        "move_log_files()\n",
        "compile_log_data()"
      ]
    },
    {
      "cell_type": "code",
      "execution_count": 31,
      "metadata": {
        "id": "EWWJI9TKeOzk"
      },
      "outputs": [],
      "source": [
        "def evaluate_metric(using_kmeans_labels=False, points=None, param_values=None, adapted_kmeans_labels=None, a=None, scale=None, loc=None):\n",
        "  # Order the sim log to align the order of the simulation runs with the param values (test case values)\n",
        "  df_sim = pd.read_csv('/content/logs/compiled_log_data.csv')\n",
        "  df_sim['FileNumber'] = df_sim['Filename'].str.extract(r'(\\d+)').astype(int) # Extract the first value from the Filename\n",
        "  result = df_sim[['FileNumber', 'CollisionDetected']]\n",
        "  ordered_sim_logs = result.sort_values(by='FileNumber')\n",
        "  ordered_sim_logs.reset_index(drop=True, inplace=True)\n",
        "  pass_fail_logs = ordered_sim_logs['CollisionDetected'].to_numpy()\n",
        "\n",
        "  if using_kmeans_labels:\n",
        "    points = points\n",
        "    groups = adapted_kmeans_labels.astype(int)\n",
        "    param_values = param_values\n",
        "\n",
        "    pass_fail_points = np.zeros(len(groups))\n",
        "    for i in range(len(groups)):\n",
        "        group = groups[i]\n",
        "        pass_fail_points[i] = pass_fail_logs[group]\n",
        "\n",
        "    pass_fail = pass_fail_points.astype(bool)\n",
        "  else:\n",
        "    #simple alternative\n",
        "    points = param_values\n",
        "    pass_fail = pass_fail_logs\n",
        "    groups = np.arange(len(param_values))\n",
        "\n",
        "  #Compare\n",
        "  comparison_gt_evaluation = CubeBasedEvaluation(gt_cube_sizes=gt_cubes_sizes,\n",
        "                                              gt_sub_cube_centers=gt_sub_cube_centers,\n",
        "                                              gt_pass_fail=gt_pass_fail)\n",
        "  sub_cubes_with_points = comparison_gt_evaluation.evaluate_gt_cubes_based_on_eval_points(points=points,\n",
        "                                                                                          groups=groups,\n",
        "                                                                                          pass_fail=pass_fail)\n",
        "\n",
        "  sub_cubes_with_points = comparison_gt_evaluation.assign_all_sub_cubes(sub_cubes_with_points=sub_cubes_with_points,\n",
        "                                                                      points=points,\n",
        "                                                                      groups=groups,\n",
        "                                                                      pass_fail=pass_fail)\n",
        "\n",
        "  #comparison_gt_evaluation.plot_cubes(sub_cubes_with_points=sub_cubes_with_points,\n",
        "  #                                  points=points)\n",
        "\n",
        "  metric = comparison_gt_evaluation.calculate_comparison_metric(sub_cubes_with_points=sub_cubes_with_points)\n",
        "  gt_fail_ratio = fail_ratio(gt_pass_fail)\n",
        "  eval_fail_ratio = fail_ratio(np.array(pass_fail))\n",
        "  fail_ratio_difference = (fail_ratio(gt_pass_fail)-fail_ratio(np.array(pass_fail)))*100\n",
        "  abs_fail_ratio_difference = np.abs(fail_ratio_difference)\n",
        "  number_of_test_cases = len(param_values[:,0])\n",
        "\n",
        "  eval_dict = {\n",
        "      'metric': metric,\n",
        "      'fail_ratio_difference': fail_ratio_difference,\n",
        "      'absolute_fail_ratio_difference': abs_fail_ratio_difference,\n",
        "      'number_of_test_cases': number_of_test_cases,\n",
        "      'gt_fail_ratio': gt_fail_ratio,\n",
        "      'eval_fail_ratio': eval_fail_ratio,\n",
        "      'points': points,\n",
        "      'pass_fail': pass_fail,\n",
        "      'a': a,\n",
        "      'scale': scale,\n",
        "      'loc': loc,\n",
        "  }\n",
        "  return eval_dict"
      ]
    },
    {
      "cell_type": "code",
      "source": [
        "eval_dict = evaluate_metric(param_values=param_values, points=points, adapted_kmeans_labels=adapted_kmeans_labels)"
      ],
      "metadata": {
        "colab": {
          "base_uri": "https://localhost:8080/"
        },
        "id": "4EwJLDOaUYdz",
        "outputId": "74de924b-2a76-41b4-c952-c05429dd2e0b"
      },
      "execution_count": 32,
      "outputs": [
        {
          "output_type": "stream",
          "name": "stdout",
          "text": [
            "Sub-cube 1035 contains points from group [np.int64(0)] (original cube center: [44. 32.  5.]): [array([44.51143785, 32.03614069,  4.92040898])]\n",
            "Sub-cube 835 contains points from group [np.int64(1)] (original cube center: [22. 22.  5.]): [array([22.37424691, 21.25803745,  4.87674222])]\n",
            "after update -------------\n",
            "Sub-cube 1035 contains points from group [np.int64(0)] (original cube center: [44. 32.  5.]): [array([44.51143785, 32.03614069,  4.92040898])]\n",
            "Sub-cube 835 contains points from group [np.int64(1)] (original cube center: [22. 22.  5.]): [array([22.37424691, 21.25803745,  4.87674222])]\n",
            "Number of unique sub-cubes: 2\n",
            "Sub-cube 835 already has points assigned\n",
            "Sub-cube 1035 already has points assigned\n",
            "Number of unique sub-cubes: 2080\n",
            "Number of total sub cubes: 2080\n"
          ]
        }
      ]
    },
    {
      "cell_type": "code",
      "source": [
        "eval_dict"
      ],
      "metadata": {
        "colab": {
          "base_uri": "https://localhost:8080/"
        },
        "id": "m8m_YFbuXCA5",
        "outputId": "36b113a0-d113-4b52-eacb-2cdd2e855b83"
      },
      "execution_count": 33,
      "outputs": [
        {
          "output_type": "execute_result",
          "data": {
            "text/plain": [
              "{'metric': 63.02884615384615,\n",
              " 'fail_ratio_difference': 36.97115384615385,\n",
              " 'absolute_fail_ratio_difference': np.float64(36.97115384615385),\n",
              " 'number_of_test_cases': 2,\n",
              " 'gt_fail_ratio': 0.3697115384615385,\n",
              " 'eval_fail_ratio': 0,\n",
              " 'points': array([[44.51143785, 32.03614069,  4.92040898],\n",
              "        [22.37424691, 21.25803745,  4.87674222]]),\n",
              " 'pass_fail': array([ True,  True]),\n",
              " 'a': None,\n",
              " 'scale': None,\n",
              " 'loc': None}"
            ]
          },
          "metadata": {},
          "execution_count": 33
        }
      ]
    },
    {
      "cell_type": "code",
      "source": [
        "remove_tree(path='/content/logs')\n",
        "remove_tree(path='/content/sim_loop/scenarios/variance_bounded')"
      ],
      "metadata": {
        "id": "lVk-GtArS5Gi"
      },
      "execution_count": 34,
      "outputs": []
    },
    {
      "cell_type": "code",
      "execution_count": null,
      "metadata": {
        "id": "kfDKScPWwJ-F"
      },
      "outputs": [],
      "source": [
        "# for looping this (or even parallelize it?)\n",
        "    # decide which prior to use\n",
        "    # generate test case with variance bounded method\n",
        "    # generate folder for scenarios\n",
        "    # generate scenarios (based on test cases)\n",
        "    # simulate test cases\n",
        "    # create folder for logs\n",
        "    # move logs to folder\n",
        "    # create csv out of logs\n",
        "    # calculate metric\n",
        "    # store in dictionary - additionally using the prior paramters\n",
        "    # remove folder with logs\n",
        "    # remove folder with scenarios"
      ]
    },
    {
      "cell_type": "code",
      "source": [],
      "metadata": {
        "id": "on0T0DozVvpx"
      },
      "execution_count": null,
      "outputs": []
    }
  ],
  "metadata": {
    "colab": {
      "provenance": []
    },
    "kernelspec": {
      "display_name": "Python 3",
      "name": "python3"
    },
    "language_info": {
      "codemirror_mode": {
        "name": "ipython",
        "version": 3
      },
      "file_extension": ".py",
      "mimetype": "text/x-python",
      "name": "python",
      "nbconvert_exporter": "python",
      "pygments_lexer": "ipython3",
      "version": "3.10.12"
    }
  },
  "nbformat": 4,
  "nbformat_minor": 0
}