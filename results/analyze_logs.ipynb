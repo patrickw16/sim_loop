{
 "cells": [
  {
   "cell_type": "code",
   "execution_count": 16,
   "metadata": {},
   "outputs": [
    {
     "name": "stdout",
     "output_type": "stream",
     "text": [
      "ddd\n",
      "Data saved to /home/patrick_w/sim_loop/results/compiled_log_data.csv\n"
     ]
    }
   ],
   "source": [
    "import os\n",
    "import pandas as pd\n",
    "\n",
    "# Define the directory containing the log files\n",
    "log_directory = '/home/patrick_w/sim_loop/results/logs/'\n",
    "\n",
    "# Get a sorted list of all .txt files in the directory\n",
    "log_files = sorted([f for f in os.listdir(log_directory) if f.endswith('.txt')])\n",
    "\n",
    "# Initialize a list to hold all parameter dictionaries\n",
    "all_parameters = []\n",
    "stop_parameter = False\n",
    "\n",
    "# Loop through each log file and read its contents\n",
    "for filename in log_files:\n",
    "    log_file_path = os.path.join(log_directory, filename)\n",
    "    \n",
    "    if filename == 'log_2_of_104.txt':\n",
    "        print('ddd')\n",
    "\n",
    "    # Open the log file and read its contents\n",
    "    with open(log_file_path, 'r') as file:\n",
    "        log_contents = file.readlines()  # Read lines into a list\n",
    "    \n",
    "    # Initialize a dictionary to hold parameters\n",
    "    parameters = {}\n",
    "    parameters_started = False\n",
    "    collision_detected = False  # Flag to check for collision line\n",
    "\n",
    "    # Loop through the lines to find \"6 parameters:\" and extract parameters\n",
    "    for line in log_contents:\n",
    "        if \"6 parameters:\" in line:\n",
    "            parameters_started = True  # Start reading parameters\n",
    "            continue  # Skip the line with \"6 parameters:\"\n",
    "        \n",
    "        # Check for the collision line\n",
    "        if \"Collision\" in line:\n",
    "            collision_detected = True\n",
    "\n",
    "        if parameters_started and stop_parameter:\n",
    "            # Split the line into key and value\n",
    "            if '=' in line:\n",
    "                key, value = line.split('=')\n",
    "                key = key.replace(' ', '')\n",
    "                value = value.replace(' ', '')\n",
    "                value = value.replace(\"\\n\", \"\")\n",
    "                parameters[key.strip()] = float(value.strip())  # Store as float\n",
    "                if key == \"EgoStartS\":\n",
    "                    stop_parameter = True\n",
    "\n",
    "    # Add collision information to the parameters dictionary\n",
    "    parameters['CollisionDetected'] = collision_detected\n",
    "    parameters['Filename'] = filename  # Optionally include the filename\n",
    "\n",
    "    # Append the parameters dictionary to the list\n",
    "    all_parameters.append(parameters)\n",
    "\n",
    "# Create a DataFrame from the list of dictionaries\n",
    "df = pd.DataFrame(all_parameters)\n",
    "\n",
    "# Save the DataFrame to a CSV file\n",
    "output_file = '/home/patrick_w/sim_loop/results/compiled_log_data.csv'\n",
    "df.to_csv(output_file, index=False)\n",
    "\n",
    "print(f\"Data saved to {output_file}\")"
   ]
  },
  {
   "cell_type": "code",
   "execution_count": 20,
   "metadata": {},
   "outputs": [
    {
     "name": "stdout",
     "output_type": "stream",
     "text": [
      "Number of True values: 43\n",
      "Number of False values: 61\n",
      "Ratio of True to False: 0.7049180327868853\n"
     ]
    }
   ],
   "source": [
    "# Replace 'your_file.csv' with the path to your CSV file\n",
    "file_path = '/home/patrick_w/sim_loop/results/compiled_log_data.csv'\n",
    "\n",
    "# Read the CSV file into a DataFrame\n",
    "df = pd.read_csv(file_path)\n",
    "\n",
    "# Count the number of True and False values\n",
    "true_count = df['CollisionDetected'].sum()  # True values count\n",
    "false_count = (~df['CollisionDetected']).sum()  # False values count\n",
    "\n",
    "# Calculate the ratio\n",
    "if false_count > 0:  # Avoid division by zero\n",
    "    ratio = true_count / false_count\n",
    "else:\n",
    "    ratio = float('inf')  # or some other value to indicate no False values\n",
    "\n",
    "print(f\"Number of True values: {true_count}\")\n",
    "print(f\"Number of False values: {false_count}\")\n",
    "print(f\"Ratio of True to False: {ratio}\")"
   ]
  }
 ],
 "metadata": {
  "kernelspec": {
   "display_name": "Python 3",
   "language": "python",
   "name": "python3"
  },
  "language_info": {
   "codemirror_mode": {
    "name": "ipython",
    "version": 3
   },
   "file_extension": ".py",
   "mimetype": "text/x-python",
   "name": "python",
   "nbconvert_exporter": "python",
   "pygments_lexer": "ipython3",
   "version": "3.10.12"
  }
 },
 "nbformat": 4,
 "nbformat_minor": 2
}
