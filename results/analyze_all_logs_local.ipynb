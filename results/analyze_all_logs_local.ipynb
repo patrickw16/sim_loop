{
 "cells": [
  {
   "cell_type": "code",
   "execution_count": 1,
   "metadata": {},
   "outputs": [],
   "source": [
    "import plotly\n",
    "import plotly.graph_objs as go\n",
    "import os\n",
    "import pandas as pd\n",
    "import matplotlib.pyplot as plt\n",
    "\n",
    "log_file = \"logs_3_dec\"\n",
    "log_directory = os.path.join(os.path.expanduser('~'), f\"sim_loop/results/logs/{log_file}\")\n",
    "output_file = f'{log_directory}/compiled_log_data.csv'\n",
    "df_3 = pd.read_csv(output_file)\n",
    "\n",
    "log_file = \"logs_5_dec\"\n",
    "log_directory = os.path.join(os.path.expanduser('~'), f\"sim_loop/results/logs/{log_file}\")\n",
    "output_file = f'{log_directory}/compiled_log_data.csv'\n",
    "df_5 = pd.read_csv(output_file)\n",
    "\n",
    "log_file = \"logs_7_dec\"\n",
    "log_directory = os.path.join(os.path.expanduser('~'), f\"sim_loop/results/logs/{log_file}\")\n",
    "output_file = f'{log_directory}/compiled_log_data.csv'\n",
    "df_7 = pd.read_csv(output_file)\n",
    "\n",
    "log_directory = os.path.join(os.path.expanduser('~'), \"sim_loop/results/CC_human_driver_cut_in\")\n",
    "output_file = f'{log_directory}/CC_human_driver_cut_in.csv'\n",
    "df_cc_human_driver = pd.read_csv(output_file)"
   ]
  },
  {
   "cell_type": "code",
   "execution_count": null,
   "metadata": {},
   "outputs": [],
   "source": [
    "# Configure Plotly to be rendered inline in the notebook.\n",
    "plotly.offline.init_notebook_mode()\n",
    "\n",
    "trace_3_c = go.Scatter3d(\n",
    "    x=df_3['v_delta'][df_3['CollisionDetected']],\n",
    "    y=df_3['s_delta'][df_3['CollisionDetected']],  \n",
    "    z=[3]*416,  \n",
    "    mode='markers',\n",
    "    marker={\n",
    "        'size': 5,\n",
    "        'opacity': 0.8,\n",
    "        'color': 'red',\n",
    "    }\n",
    ")\n",
    "\n",
    "trace_3_nc = go.Scatter3d(\n",
    "    x=df_3['v_delta'][~df_3['CollisionDetected']],\n",
    "    y=df_3['s_delta'][~df_3['CollisionDetected']],  \n",
    "    z=[3]*416,  \n",
    "    mode='markers',\n",
    "    marker={\n",
    "        'size': 5,\n",
    "        'opacity': 0.8,\n",
    "        'color': 'green',\n",
    "    }\n",
    ")\n",
    "\n",
    "# Configure the layout.\n",
    "layout = go.Layout(\n",
    "    margin={'l': 0, 'r': 0, 'b': 0, 't': 0}\n",
    ")\n",
    "\n",
    "trace_5_c = go.Scatter3d(\n",
    "    x=df_5['v_delta'][df_5['CollisionDetected']],\n",
    "    y=df_5['s_delta'][df_5['CollisionDetected']],  \n",
    "    z=[5]*416,  \n",
    "    mode='markers',\n",
    "    marker={\n",
    "        'size': 5,\n",
    "        'opacity': 0.8,\n",
    "        'color': 'red',\n",
    "    }\n",
    ")\n",
    "\n",
    "trace_5_nc = go.Scatter3d(\n",
    "    x=df_5['v_delta'][~df_5['CollisionDetected']],\n",
    "    y=df_5['s_delta'][~df_5['CollisionDetected']],  \n",
    "    z=[5]*416,  \n",
    "    mode='markers',\n",
    "    marker={\n",
    "        'size': 5,\n",
    "        'opacity': 0.8,\n",
    "        'color': 'green',\n",
    "    }\n",
    ")\n",
    "\n",
    "# Configure the layout.\n",
    "layout = go.Layout(\n",
    "    margin={'l': 0, 'r': 0, 'b': 0, 't': 0}\n",
    ")\n",
    "\n",
    "trace_7_c = go.Scatter3d(\n",
    "    x=df_7['v_delta'][df_7['CollisionDetected']],\n",
    "    y=df_7['s_delta'][df_7['CollisionDetected']],  \n",
    "    z=[7]*416,  \n",
    "    mode='markers',\n",
    "    marker={\n",
    "        'size': 5,\n",
    "        'opacity': 0.8,\n",
    "        'color': 'red',\n",
    "    }\n",
    ")\n",
    "\n",
    "trace_7_nc = go.Scatter3d(\n",
    "    x=df_7['v_delta'][~df_7['CollisionDetected']],\n",
    "    y=df_7['s_delta'][~df_7['CollisionDetected']],  \n",
    "    z=[7]*416,  \n",
    "    mode='markers',\n",
    "    marker={\n",
    "        'size': 5,\n",
    "        'opacity': 0.8,\n",
    "        'color': 'green',\n",
    "    }\n",
    ")\n",
    "\n",
    "trace_cc_human_driver = go.Scatter3d(\n",
    "    x=df_cc_human_driver['v_delta'][df_cc_human_driver['collision']],\n",
    "    y=df_cc_human_driver['s_delta'][df_cc_human_driver['collision']],\n",
    "    z=df_cc_human_driver['ego_max_dec'][df_cc_human_driver['collision']],\n",
    "    mode='markers',\n",
    "    marker={\n",
    "        'size': 4,\n",
    "        'opacity': 0.8,\n",
    "        'color': 'red',\n",
    "    }\n",
    ")\n",
    "\n",
    "# Configure the layout.\n",
    "layout = go.Layout(\n",
    "    margin={'l': 0, 'r': 0, 'b': 0, 't': 0}\n",
    ")\n",
    "\n",
    "#data = [trace_3_c, trace_3_nc, trace_5_c, trace_5_nc, trace_7_c, trace_7_nc, trace_cc_human_driver]\n",
    "data = [trace_cc_human_driver]\n",
    "\n",
    "plot_figure = go.Figure(data=data, layout=layout)\n",
    "\n",
    "plot_figure.update_layout(\n",
    "    title='3D Scatter Plot',\n",
    "    scene=dict(\n",
    "        xaxis_title='v_delta [km/h]',  # Title for the x-axis\n",
    "        yaxis_title='s_delta [m]',  # Title for the y-axis\n",
    "        zaxis_title='maximum deceleration [m/s²]'   # Title for the z-axis\n",
    "    )\n",
    ")\n",
    "\n",
    "# Render the plot.\n",
    "plotly.offline.iplot(plot_figure)"
   ]
  },
  {
   "cell_type": "markdown",
   "metadata": {},
   "source": [
    "# Analyzing the human driver model case of collision"
   ]
  },
  {
   "cell_type": "code",
   "execution_count": null,
   "metadata": {},
   "outputs": [],
   "source": [
    "import seaborn as sns\n",
    "\n",
    "df = df_cc_human_driver[df_cc_human_driver['collision']].drop('collision', axis=1)\n",
    "sns.jointplot(data=df, x=\"v_delta\", y=\"s_delta\", kind=\"kde\", hue=\"ego_max_dec\") #hue=\"ego_max_dec\","
   ]
  },
  {
   "cell_type": "code",
   "execution_count": null,
   "metadata": {},
   "outputs": [],
   "source": [
    "sns.jointplot(data=df, x=\"v_delta\", y=\"ego_max_dec\", kind=\"kde\")"
   ]
  },
  {
   "cell_type": "code",
   "execution_count": null,
   "metadata": {},
   "outputs": [],
   "source": [
    "sns.jointplot(data=df, x=\"s_delta\", y=\"ego_max_dec\", kind=\"kde\")"
   ]
  },
  {
   "cell_type": "code",
   "execution_count": null,
   "metadata": {},
   "outputs": [],
   "source": [
    "df = df_cc_human_driver[df_cc_human_driver['collision']]\n",
    "df = df.drop('collision', axis=1)\n",
    "# Min-Max Normalization\n",
    "df_norm = (df-df.min())/(df.max()-df.min())\n",
    " \n",
    "print(\"Scaled Dataset Using Pandas\")\n",
    "df_norm.head()\n",
    "df_norm.cov()"
   ]
  },
  {
   "cell_type": "code",
   "execution_count": null,
   "metadata": {},
   "outputs": [],
   "source": [
    "df.corr()"
   ]
  },
  {
   "cell_type": "code",
   "execution_count": null,
   "metadata": {},
   "outputs": [],
   "source": [
    "# Basic correlogram\n",
    "#sns.pairplot(df)"
   ]
  },
  {
   "cell_type": "code",
   "execution_count": null,
   "metadata": {},
   "outputs": [],
   "source": [
    "from sklearn.decomposition import PCA\n",
    "from sklearn.preprocessing import StandardScaler\n",
    "\n",
    "# Scale data before applying PCA\n",
    "scaling=StandardScaler()\n",
    " \n",
    "# Use fit and transform method \n",
    "scaling.fit(df)\n",
    "Scaled_data=scaling.transform(df)\n",
    " \n",
    "# Set the n_components=3\n",
    "principal=PCA(n_components=2)\n",
    "principal.fit(Scaled_data)\n",
    "x=principal.transform(Scaled_data)\n",
    " \n",
    "# Check the dimensions of data after PCA\n",
    "print(x.shape)\n",
    "\n",
    "# check how much variance is explained by each principal component\n",
    "print(principal.explained_variance_ratio_)\n",
    "total_explained_variance_ratio = principal.explained_variance_ratio_.sum()\n",
    "print(total_explained_variance_ratio)"
   ]
  },
  {
   "cell_type": "markdown",
   "metadata": {},
   "source": [
    "# Boundary between collision and no collision for the human driver model"
   ]
  },
  {
   "cell_type": "code",
   "execution_count": null,
   "metadata": {},
   "outputs": [],
   "source": [
    "sns.scatterplot(data=df_cc_human_driver[df_cc_human_driver['ego_max_dec']==7], x=\"s_delta\", y=\"v_delta\", hue=\"collision\")"
   ]
  },
  {
   "cell_type": "code",
   "execution_count": 36,
   "metadata": {},
   "outputs": [
    {
     "data": {
      "text/plain": [
       "<matplotlib.collections.PathCollection at 0x7f9c43bff340>"
      ]
     },
     "execution_count": 36,
     "metadata": {},
     "output_type": "execute_result"
    },
    {
     "data": {
      "image/png": "[encoded data removed]",
      "text/plain": [
       "<Figure size 640x480 with 1 Axes>"
      ]
     },
     "metadata": {},
     "output_type": "display_data"
    }
   ],
   "source": [
    "import sklearn.linear_model\n",
    "import matplotlib.pyplot as plt\n",
    "import numpy as np\n",
    "from sklearn.inspection import DecisionBoundaryDisplay\n",
    "\n",
    "df = df_cc_human_driver[df_cc_human_driver['ego_max_dec']==3]\n",
    "\n",
    "# Min-Max Normalization\n",
    "df = df.drop('collision', axis=1)\n",
    "df_norm = (df-df.min())/(df.max()-df.min())\n",
    "df_norm['collision'] = df_cc_human_driver['collision']\n",
    "df = df_norm\n",
    "\n",
    "feature_cols = ['s_delta', 'v_delta']\n",
    "X = df[feature_cols] # Features\n",
    "y = df.collision # Target variable\n",
    "\n",
    "# Fit the data to a logistic regression model.\n",
    "clf = sklearn.linear_model.LogisticRegression()\n",
    "clf.fit(X, y)\n",
    "\n",
    "# Retrieve the model parameters.\n",
    "b = clf.intercept_[0]\n",
    "w1, w2 = clf.coef_.T\n",
    "# Calculate the intercept and gradient of the decision boundary.\n",
    "c = -b/w2\n",
    "m = -w1/w2\n",
    "\n",
    "# Plot the data and the classification with the decision boundary.\n",
    "xmin, xmax = 0, 1\n",
    "xd = np.array([xmin, xmax])\n",
    "yd = m*xd + c\n",
    "plt.plot(xd, yd, 'k', lw=1, ls='--')\n",
    "\n",
    "#collision\n",
    "df_coll = df[df['collision']]\n",
    "plt.scatter(df_coll['s_delta'], df_coll['v_delta'])\n",
    "\n",
    "#no collision\n",
    "df_coll = df[~df['collision']]\n",
    "plt.scatter(df_coll['s_delta'], df_coll['v_delta'])\n",
    "\n",
    "# Sample points along regression line.\n",
    "# Add noise (variance) to the y-values\n",
    "x_values = np.linspace(0,1,200)\n",
    "variance = 0.025  # Variance of the noise\n",
    "noise = np.random.normal(0, np.sqrt(variance), len(x_values))\n",
    "y_values = m * x_values + c\n",
    "yd_noise = y_values + noise\n",
    "plt.scatter(x_values, yd_noise, color='yellow')"
   ]
  }
 ],
 "metadata": {
  "kernelspec": {
   "display_name": "Python 3",
   "language": "python",
   "name": "python3"
  },
  "language_info": {
   "codemirror_mode": {
    "name": "ipython",
    "version": 3
   },
   "file_extension": ".py",
   "mimetype": "text/x-python",
   "name": "python",
   "nbconvert_exporter": "python",
   "pygments_lexer": "ipython3",
   "version": "3.10.12"
  }
 },
 "nbformat": 4,
 "nbformat_minor": 2
}
